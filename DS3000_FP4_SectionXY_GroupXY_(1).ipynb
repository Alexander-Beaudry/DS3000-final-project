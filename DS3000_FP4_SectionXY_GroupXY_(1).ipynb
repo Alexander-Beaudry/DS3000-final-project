{
  "nbformat": 4,
  "nbformat_minor": 0,
  "metadata": {
    "kernelspec": {
      "display_name": "Python 3",
      "language": "python",
      "name": "python3"
    },
    "language_info": {
      "codemirror_mode": {
        "name": "ipython",
        "version": 3
      },
      "file_extension": ".py",
      "mimetype": "text/x-python",
      "name": "python",
      "nbconvert_exporter": "python",
      "pygments_lexer": "ipython3",
      "version": "3.8.3"
    },
    "colab": {
      "name": "DS3000_FP4_SectionXY_GroupXY (1).ipynb",
      "provenance": [],
      "collapsed_sections": [],
      "include_colab_link": true
    }
  },
  "cells": [
    {
      "cell_type": "markdown",
      "metadata": {
        "id": "view-in-github",
        "colab_type": "text"
      },
      "source": [
        "<a href=\"https://colab.research.google.com/github/Alexander-Beaudry/DS3000-final-project/blob/main/DS3000_FP4_SectionXY_GroupXY_(1).ipynb\" target=\"_parent\"><img src=\"https://colab.research.google.com/assets/colab-badge.svg\" alt=\"Open In Colab\"/></a>"
      ]
    },
    {
      "cell_type": "markdown",
      "metadata": {
        "id": "9GYn-tXDUjtg"
      },
      "source": [
        "<center> <h2> DS 3000 - Fall 2020</h2> </center>\n",
        "<center> <h3> DS Report </h3> </center>\n"
      ]
    },
    {
      "cell_type": "markdown",
      "metadata": {
        "id": "g-j5aNYtUjtm"
      },
      "source": [
        "<center> <h3> Trump Tweets and The Stock Market </h3> </center>\n",
        "<center><h4>Brian Kessler and Alexander Beaudry</h4></center>\n"
      ]
    },
    {
      "cell_type": "markdown",
      "metadata": {
        "id": "yx9_Wxe5Ujtm"
      },
      "source": [
        "  "
      ]
    },
    {
      "cell_type": "markdown",
      "metadata": {
        "id": "3atI2NWIUjtn"
      },
      "source": [
        "<hr style=\"height:2px; border:none; color:black; background-color:black;\">"
      ]
    },
    {
      "cell_type": "markdown",
      "metadata": {
        "id": "HbLcYCbXUjtn"
      },
      "source": [
        "#### Executive Summary:\n",
        "\n",
        "Add your summary here (100-150 words)\n",
        "\n",
        "Provide a brief summary of your project. After reading this executive summary, your readers should have a rough understanding of what you did in this project. You can think of this summary in terms of the four sections of the report and write 1-2 sentences describing each section.\n",
        "\n",
        "Introduction:\n",
        "We hoped to analyze every Tweet Donald Trump made during Q1 of 2020 and determine if they had a correlation with the immediate movement of the Dow Jones, 1 minute later, to test for the precence of algorithmic traders using this approach. We hoped to train our ML model to predict future market movements given a future Tweet. We conducted three hypothesis tests. In all cases, we were not able to disprove the null hypothesis due to lack of data issues, which plagued us throughout. In other words, while there may have been some level of correlation between Trump Tweets and market movements, we were unable to prove this. We ran various ML algorithms and compared them to determine which one's performed best and which ones didn't do as well.\n",
        "\n",
        "Method:\n",
        "In the method section we imported our data and appending it to a large combined pandas DataFrame where we derived all of our features and results from.\n",
        "\n",
        "Results:\n",
        "The results section is were we performed our data visualization, hypothesis testing, and machine learning tasks.\n",
        "\n",
        "Discussion: \n",
        "The discussion section is where we reviewed our results and gave recomendations for future work.\n",
        "\n",
        "\n",
        "\n",
        "Hypothesis testing:\n"
      ]
    },
    {
      "cell_type": "markdown",
      "metadata": {
        "id": "xGUb1DZxUjtn"
      },
      "source": [
        "<hr style=\"height:2px; border:none; color:black; background-color:black;\">"
      ]
    },
    {
      "cell_type": "markdown",
      "metadata": {
        "id": "6AZfkRQ6Ujtn"
      },
      "source": [
        "## Outline\n",
        "1. <a href='#1'>INTRODUCTION</a>\n",
        "2. <a href='#2'>METHOD</a>\n",
        "3. <a href='#3'>RESULTS</a>\n",
        "4. <a href='#4'>DISCUSSION</a>"
      ]
    },
    {
      "cell_type": "markdown",
      "metadata": {
        "id": "o2v6nI9hUjto"
      },
      "source": [
        "<a id=\"1\"></a>\n",
        "<hr style=\"height:2px; border:none; color:black; background-color:black;\">"
      ]
    },
    {
      "cell_type": "markdown",
      "metadata": {
        "id": "_Q7UDMbFUjto"
      },
      "source": [
        "## 1. INTRODUCTION"
      ]
    },
    {
      "cell_type": "markdown",
      "metadata": {
        "id": "D694q19NUjto"
      },
      "source": [
        "In this section, orient your readers to your project. You've already written some of these in previous deliverables. Based on your final analysis, revise your problem statement and write a concise introduction section. This section should touch upon the following points, but should be written in full paragraphs. Your writing should incorporate all of these points (and more if you like) in a coherent way. Remember that you are trying to convince your readers that this is an important problem to tackle. \n",
        "\n",
        "Problem Statement\n",
        "* Describe the problem you would like to tackle. \n",
        "* What is the topic of your project? \n",
        "* What do you want to learn about it?\n",
        "\n",
        "Significance of the Problem\n",
        "* Why is it important to tackle this problem in your project?\n",
        "* In what ways could the insights from this project be useful?\n",
        "* **(optional)** Has there been previous work on your topic in terms of applying ML techniques to analyze similar datasets? Do some research into your topic. What algorithms were used? What was the performance of those algorithms? Cite your sources appropriately. You can use the numbered reference format or APA (if you are more comfortable with it).\n",
        "\n",
        "Questions/Hypothesis\n",
        "* End this section with a list of questions and hypotheses\n",
        "* You should tie these questions/hypotheses to the problem statement and its significance\n",
        "    * e.g. Given the aforementioned problem and its importance, we set out to tackle the following questions:\n",
        "    \n",
        "**Requirement:**\n",
        "* You should have at least one question tapping into the comparison of various machine learning algorithms (at least three) in predicting/classifying your target variable from your features variables.\n",
        "* You should have at least one hypothesis regarding the relationship between two variables, which may be different from your ML problem.\n",
        "\n",
        "\n",
        "\n",
        "It is no secret that Donald Trump is a major fan of Twitter. While some may be put off by the content and frequency of his Tweets, which is understandable, there may be an opportunity to exploit his Tweets to generate financial returns. High Frequency Trading (HFT) is, to simplify, the practice of exploiting extremely short term movements (eg: milliseconds or minutes in length) in the market price of a financial instrument a high number of times to accumulate a large aggregate return. Many HFT trading algorithms monitor for Tweet data. We hope to see if we can find a correlation between Donald Trump's Tweets during Q1 2020, and the movement of the Dow Jones Industrial Average (a.k.a. \"DJIA\", \"the market\", \"Dow Jones\") during the same period. It has been reported that certain HFT firms have algorithms that will buy and hold a stock or index following Trump tweets for a miniscule period of time, and then sell, capturing small gains. If we can discover a correlation here, perhaps there are enough HFT making such moves with enough volume and frequency to move the market.\n",
        "\n",
        "Our problem is important for two reasons. First of all, we hope to create a model that can be utilized by small retail investors to predict how the market will move immediately after a future Tweet from Trump, to help them decide whether to invest in it. As will be discussed later, we also assigned other features like polarity and hate speech detection to each Tweet to add additional context for predictive and other ML purposes. While small retail investors likely would not have the capital to move market prices themselves, if we can determine that enough HFT firms are doing so with enough capital to move the market, perhaps small retail investors can use our model to profit from them. These two articles (https://www.marketplace.org/2019/08/29/meet-the-algorithms-connecting-trump-tweets-and-the-stock-market/, and https://www.marketwatch.com/story/every-trump-tweet-activates-thousands-of-computer-algorithms-2017-01-12) discuss how such Trump Tweet driven trading algorithms are already in place. While they are slightly different in application to our analysis, it establishes that the concept behind our Project has validity.\n",
        "\n",
        "While financial gains can hopefully be exploited, it is important to be weary of some concerns regarding the use and rise in popularity of HFT. The Flash Crash of 2010(https://en.wikipedia.org/wiki/2010_flash_crash), where many major indices like the Dow Jones experienced a ~10% dip and almost immediate 10% rise a few minutes illustrates how HFT can cause potentially catastrophic losses for those who have long term investments, which sometimes can be the foundation of peoples' savings or retirement. As well, the book, Flash Boys, by Michael Lewis is a great read which details the history of some of the first uses and creation of HFT algorithms and infrastructure, as well as how it impacted the markets. In years past, without the interference of technological based traded, the market moved more based on financial info (although speculation and randomness always are present). However, now, it seems that the best advantage to have is a technological advantage, not a financial knowledge advantage, fundamentally challenging the workings and understandings of the market.\n",
        "\n",
        "Through this project we hope to answer two major questions. The first being is there a correlation between Trump's Tweets and stock market movements? And the second is to determine if we can use the content of Trump's Tweets to predict the movement of the Dow Jones index during the minute directly following the post. We also set out to learn which ML algorith would be the best fit to achieve our goals by comparing the results from five different models.\n",
        "\n",
        "Thus our hypothesis tests are as follows:\n",
        "\n",
        "1st:\n",
        "\n",
        "H0: There is no correlation between the stock market and Trump's Tweets\n",
        "\n",
        "H1: There is a correlation between the stock market and Trump's Tweets\n",
        "\n",
        "2nd: We added this one to further support the first hypothesis test, as it was a more numerical way of interpreting what Trump's Tweets actually said.\n",
        "\n",
        "H0: There is no correlation between the stock market and the semtiment of Trump's Tweets\n",
        "\n",
        "H1: There is a correlation between the stock market and the semtiment of Trump's Tweets\n",
        "\n",
        "3rd:\n",
        "\n",
        "H0: We can't predict the closing price of the Dow Jones Index the minute after Trump Tweets based on our features.\n",
        "\n",
        "H1: We can predict the closing price of the Dow Jones Index the minute after Trump Tweets based on our features.\n",
        "\n",
        "We hope that by answering these questions we will be able to help small time traders and gain a better understanding of the market as a whole."
      ]
    },
    {
      "cell_type": "markdown",
      "metadata": {
        "id": "3_hh6IGDUjtp"
      },
      "source": [
        "<a id=\"2\"></a>\n",
        "<hr style=\"height:2px; border:none; color:black; background-color:black;\">"
      ]
    },
    {
      "cell_type": "markdown",
      "metadata": {
        "id": "yRKsqwZ_Ujtp"
      },
      "source": [
        "## 2. METHOD"
      ]
    },
    {
      "cell_type": "markdown",
      "metadata": {
        "id": "CIOLyAlIUjtp"
      },
      "source": [
        "### 2.1. Data Acquisition\n"
      ]
    },
    {
      "cell_type": "markdown",
      "metadata": {
        "id": "zd1_qAimMGGA"
      },
      "source": [
        "\n",
        "Our project had two main datasets, and a third supporting dataset for additional support in our visualizations.\n",
        "\n",
        "Our first dataset was intraday trading data for the DJIA during every trading day in Q1 2020. The dates were between 01/02/2020 and 04/01/2020. Our data has information for the DJIA at 1 minute intervals. We utilized a Kaggle dataset to get this information.\n",
        "DJIA Dataset link: https://www.kaggle.com/ryanmaxwell/dow-jones-djia-historical-dataseti\n",
        "\n",
        "Dow Jones (DJIA) Historical Dataset\n",
        "/\n",
        "www.kaggle.com\n",
        "\n",
        "We first attempted to get this data off of Bloomberg, however it does not enable you to see such small historical movement intervals outside of a few weeks back. Since our Trump dataset, which is discussed more below was for Q1, we decided to use this DJIA dataset for Kaggle instead of using Bloomberg. The data has Open, Close, High, and Low prices for each time, as well as columns for the date and time of the instance. \n",
        "\n",
        "\n",
        "Our second dataset was of Donald Trump Tweet data for Q1 2020. We found the dataset on Kaggle.\n",
        "Trump Tweet dataset: https://www.kaggle.com/austinreese/trump-tweets?select=realdonaldtrump.csv\n",
        "\n",
        "The dataset included every Tweet that was made from the @realDonaldTrump Twitter handle during the period at all times of the day (we limited it to Tweets during trading hours in our code). The dataset included the date and time, Tweet content, any mentions (@s), retweets, and hashtags. \n",
        "\n",
        "Our third dataset was of daily close price data for the DJIA during Q1 2020. We only use this dataset to create a visualization. As it is daily close price and not intraday data, we were able to access and download the data off Bloomberg. It is not possible to create an accessible link for our Bloomberg data because it gets stored on one's personal Bloomberg account and you need login credentials from Northeastern to access Bloomberg in the first place. However, we used Bloomberg's GP (Graph Price) function to load it and then selected the dates we wanted (Q1 2020). This dataset simply had the date, close price, and % change from the previous close price for each day.\n"
      ]
    },
    {
      "cell_type": "code",
      "metadata": {
        "scrolled": true,
        "id": "_kcGTCxJUjtq",
        "colab": {
          "base_uri": "https://localhost:8080/"
        },
        "outputId": "4837e295-f1fc-40bb-9b6b-4fceab0dae59"
      },
      "source": [
        "!pip install hatesonar\n",
        "!pip install plotly"
      ],
      "execution_count": 2,
      "outputs": [
        {
          "output_type": "stream",
          "text": [
            "Collecting hatesonar\n",
            "\u001b[?25l  Downloading https://files.pythonhosted.org/packages/d7/85/8b2fc72232935c1833a556969194c183c5781c445f08404472e2dd941a3d/hatesonar-0.0.7-py3-none-any.whl (883kB)\n",
            "\u001b[K     |████████████████████████████████| 890kB 5.8MB/s \n",
            "\u001b[?25hRequirement already satisfied: joblib>=0.16.0 in /usr/local/lib/python3.6/dist-packages (from hatesonar) (0.17.0)\n",
            "Requirement already satisfied: numpy>=1.14.0 in /usr/local/lib/python3.6/dist-packages (from hatesonar) (1.18.5)\n",
            "Requirement already satisfied: scipy>=1.0.0 in /usr/local/lib/python3.6/dist-packages (from hatesonar) (1.4.1)\n",
            "Requirement already satisfied: scikit-learn>=0.19.1 in /usr/local/lib/python3.6/dist-packages (from hatesonar) (0.22.2.post1)\n",
            "Requirement already satisfied: pandas>=0.22.0 in /usr/local/lib/python3.6/dist-packages (from hatesonar) (1.1.5)\n",
            "Requirement already satisfied: pytz>=2017.2 in /usr/local/lib/python3.6/dist-packages (from pandas>=0.22.0->hatesonar) (2018.9)\n",
            "Requirement already satisfied: python-dateutil>=2.7.3 in /usr/local/lib/python3.6/dist-packages (from pandas>=0.22.0->hatesonar) (2.8.1)\n",
            "Requirement already satisfied: six>=1.5 in /usr/local/lib/python3.6/dist-packages (from python-dateutil>=2.7.3->pandas>=0.22.0->hatesonar) (1.15.0)\n",
            "Installing collected packages: hatesonar\n",
            "Successfully installed hatesonar-0.0.7\n",
            "Requirement already satisfied: plotly in /usr/local/lib/python3.6/dist-packages (4.4.1)\n",
            "Requirement already satisfied: retrying>=1.3.3 in /usr/local/lib/python3.6/dist-packages (from plotly) (1.3.3)\n",
            "Requirement already satisfied: six in /usr/local/lib/python3.6/dist-packages (from plotly) (1.15.0)\n"
          ],
          "name": "stdout"
        }
      ]
    },
    {
      "cell_type": "code",
      "metadata": {
        "id": "IAyFhRzRUjtr",
        "colab": {
          "base_uri": "https://localhost:8080/"
        },
        "outputId": "9566b79b-9484-4c25-c860-0b6c32afddd9"
      },
      "source": [
        "#Pandas import\n",
        "import pandas as pd\n",
        "\n",
        "import numpy as np\n",
        "\n",
        "#Formatting import\n",
        "import datetime\n",
        "\n",
        "#Speech analysis import\n",
        "from hatesonar import Sonar\n",
        "\n",
        "#ML Imports \n",
        "from sklearn.linear_model import LinearRegression\n",
        "from sklearn.linear_model import Ridge\n",
        "from sklearn.linear_model import Lasso\n",
        "from sklearn.neighbors import KNeighborsClassifier\n",
        "from sklearn.neighbors import KNeighborsRegressor\n",
        "from sklearn.svm import LinearSVR\n",
        "from sklearn.model_selection import train_test_split\n",
        "from sklearn.naive_bayes import MultinomialNB\n",
        "from sklearn.model_selection import train_test_split\n",
        "from sklearn.feature_extraction.text import TfidfVectorizer\n",
        "from sklearn.model_selection import GridSearchCV\n",
        "from sklearn.preprocessing import MinMaxScaler\n",
        "from statsmodels.stats.multicomp import MultiComparison\n",
        "from statsmodels.stats.multicomp import pairwise_tukeyhsd\n",
        "from scipy import stats\n",
        "\n",
        "\n",
        "#Stat imports\n",
        "from sklearn.metrics import r2_score\n",
        "from sklearn.metrics import mean_squared_error\n",
        "\n",
        "\n",
        "#Graphing imports\n",
        "import plotly.express as px\n",
        "import seaborn as sns\n",
        "from wordcloud import WordCloud, STOPWORDS, ImageColorGenerator\n",
        "\n",
        "import matplotlib.pyplot as plt"
      ],
      "execution_count": 3,
      "outputs": [
        {
          "output_type": "stream",
          "text": [
            "/usr/local/lib/python3.6/dist-packages/statsmodels/tools/_testing.py:19: FutureWarning: pandas.util.testing is deprecated. Use the functions in the public API at pandas.testing instead.\n",
            "  import pandas.util.testing as tm\n"
          ],
          "name": "stderr"
        }
      ]
    },
    {
      "cell_type": "code",
      "metadata": {
        "id": "2QsZFYtf9SGd"
      },
      "source": [
        "Trump_Github = \"https://raw.githubusercontent.com/Alexander-Beaudry/DS3000-final-project/main/real_donald_trump_data_q1.csv\"\r\n",
        "DJ_Github = \"https://github.com/Alexander-Beaudry/DS3000-final-project/blob/main/DJIA_Q1_2020_Dataset.xlsx?raw=true\""
      ],
      "execution_count": 5,
      "outputs": []
    },
    {
      "cell_type": "code",
      "metadata": {
        "id": "WtqowfxaUjtr"
      },
      "source": [
        "#Creates a dataframe of the Dow Jones stock market data\n",
        "sm_df = pd.read_excel(DJ_Github)\n",
        "DJ_df = sm_df.rename(columns={\"Date\": \"date\", \"Time\": \"time\"})\n",
        "DJ_df['Date_time']=pd.to_datetime(DJ_df['date'] + ' ' + DJ_df['time'])\n",
        "\n",
        "#creates a datafram of Trump Twitter API data\n",
        "trump_df = pd.read_csv(Trump_Github)\n",
        "trump_df['Date_time']= pd.to_datetime(trump_df['date']+ ' ' + trump_df['time'])\n"
      ],
      "execution_count": 6,
      "outputs": []
    },
    {
      "cell_type": "code",
      "metadata": {
        "colab": {
          "base_uri": "https://localhost:8080/",
          "height": 419
        },
        "id": "TGinWoBnWXF0",
        "outputId": "133ce6ba-5fd6-4410-d8de-fdba1848e344"
      },
      "source": [
        "DJ_df"
      ],
      "execution_count": 7,
      "outputs": [
        {
          "output_type": "execute_result",
          "data": {
            "text/html": [
              "<div>\n",
              "<style scoped>\n",
              "    .dataframe tbody tr th:only-of-type {\n",
              "        vertical-align: middle;\n",
              "    }\n",
              "\n",
              "    .dataframe tbody tr th {\n",
              "        vertical-align: top;\n",
              "    }\n",
              "\n",
              "    .dataframe thead th {\n",
              "        text-align: right;\n",
              "    }\n",
              "</style>\n",
              "<table border=\"1\" class=\"dataframe\">\n",
              "  <thead>\n",
              "    <tr style=\"text-align: right;\">\n",
              "      <th></th>\n",
              "      <th>date</th>\n",
              "      <th>time</th>\n",
              "      <th>Open</th>\n",
              "      <th>High</th>\n",
              "      <th>Low</th>\n",
              "      <th>Close</th>\n",
              "      <th>Date_time</th>\n",
              "    </tr>\n",
              "  </thead>\n",
              "  <tbody>\n",
              "    <tr>\n",
              "      <th>0</th>\n",
              "      <td>1/2/2020</td>\n",
              "      <td>09:30</td>\n",
              "      <td>28639.0</td>\n",
              "      <td>28666.6</td>\n",
              "      <td>28638.9</td>\n",
              "      <td>28666.5</td>\n",
              "      <td>2020-01-02 09:30:00</td>\n",
              "    </tr>\n",
              "    <tr>\n",
              "      <th>1</th>\n",
              "      <td>1/2/2020</td>\n",
              "      <td>09:31</td>\n",
              "      <td>28666.3</td>\n",
              "      <td>28670.9</td>\n",
              "      <td>28655.6</td>\n",
              "      <td>28656.6</td>\n",
              "      <td>2020-01-02 09:31:00</td>\n",
              "    </tr>\n",
              "    <tr>\n",
              "      <th>2</th>\n",
              "      <td>1/2/2020</td>\n",
              "      <td>09:32</td>\n",
              "      <td>28655.9</td>\n",
              "      <td>28659.5</td>\n",
              "      <td>28644.9</td>\n",
              "      <td>28657.0</td>\n",
              "      <td>2020-01-02 09:32:00</td>\n",
              "    </tr>\n",
              "    <tr>\n",
              "      <th>3</th>\n",
              "      <td>1/2/2020</td>\n",
              "      <td>09:33</td>\n",
              "      <td>28657.5</td>\n",
              "      <td>28685.6</td>\n",
              "      <td>28657.5</td>\n",
              "      <td>28680.1</td>\n",
              "      <td>2020-01-02 09:33:00</td>\n",
              "    </tr>\n",
              "    <tr>\n",
              "      <th>4</th>\n",
              "      <td>1/2/2020</td>\n",
              "      <td>09:34</td>\n",
              "      <td>28677.7</td>\n",
              "      <td>28681.4</td>\n",
              "      <td>28668.6</td>\n",
              "      <td>28670.5</td>\n",
              "      <td>2020-01-02 09:34:00</td>\n",
              "    </tr>\n",
              "    <tr>\n",
              "      <th>...</th>\n",
              "      <td>...</td>\n",
              "      <td>...</td>\n",
              "      <td>...</td>\n",
              "      <td>...</td>\n",
              "      <td>...</td>\n",
              "      <td>...</td>\n",
              "      <td>...</td>\n",
              "    </tr>\n",
              "    <tr>\n",
              "      <th>25510</th>\n",
              "      <td>4/1/2020</td>\n",
              "      <td>16:10</td>\n",
              "      <td>20943.5</td>\n",
              "      <td>20943.5</td>\n",
              "      <td>20943.5</td>\n",
              "      <td>20943.5</td>\n",
              "      <td>2020-04-01 16:10:00</td>\n",
              "    </tr>\n",
              "    <tr>\n",
              "      <th>25511</th>\n",
              "      <td>4/1/2020</td>\n",
              "      <td>16:11</td>\n",
              "      <td>20943.5</td>\n",
              "      <td>20943.5</td>\n",
              "      <td>20943.5</td>\n",
              "      <td>20943.5</td>\n",
              "      <td>2020-04-01 16:11:00</td>\n",
              "    </tr>\n",
              "    <tr>\n",
              "      <th>25512</th>\n",
              "      <td>4/1/2020</td>\n",
              "      <td>16:12</td>\n",
              "      <td>20943.5</td>\n",
              "      <td>20943.5</td>\n",
              "      <td>20943.5</td>\n",
              "      <td>20943.5</td>\n",
              "      <td>2020-04-01 16:12:00</td>\n",
              "    </tr>\n",
              "    <tr>\n",
              "      <th>25513</th>\n",
              "      <td>4/1/2020</td>\n",
              "      <td>16:13</td>\n",
              "      <td>20943.5</td>\n",
              "      <td>20943.5</td>\n",
              "      <td>20943.5</td>\n",
              "      <td>20943.5</td>\n",
              "      <td>2020-04-01 16:13:00</td>\n",
              "    </tr>\n",
              "    <tr>\n",
              "      <th>25514</th>\n",
              "      <td>4/1/2020</td>\n",
              "      <td>16:14</td>\n",
              "      <td>20943.5</td>\n",
              "      <td>20943.6</td>\n",
              "      <td>20943.5</td>\n",
              "      <td>20943.5</td>\n",
              "      <td>2020-04-01 16:14:00</td>\n",
              "    </tr>\n",
              "  </tbody>\n",
              "</table>\n",
              "<p>25515 rows × 7 columns</p>\n",
              "</div>"
            ],
            "text/plain": [
              "           date    time     Open    High      Low     Close           Date_time\n",
              "0      1/2/2020   09:30  28639.0  28666.6  28638.9  28666.5 2020-01-02 09:30:00\n",
              "1      1/2/2020   09:31  28666.3  28670.9  28655.6  28656.6 2020-01-02 09:31:00\n",
              "2      1/2/2020   09:32  28655.9  28659.5  28644.9  28657.0 2020-01-02 09:32:00\n",
              "3      1/2/2020   09:33  28657.5  28685.6  28657.5  28680.1 2020-01-02 09:33:00\n",
              "4      1/2/2020   09:34  28677.7  28681.4  28668.6  28670.5 2020-01-02 09:34:00\n",
              "...         ...     ...      ...      ...      ...      ...                 ...\n",
              "25510  4/1/2020   16:10  20943.5  20943.5  20943.5  20943.5 2020-04-01 16:10:00\n",
              "25511  4/1/2020   16:11  20943.5  20943.5  20943.5  20943.5 2020-04-01 16:11:00\n",
              "25512  4/1/2020   16:12  20943.5  20943.5  20943.5  20943.5 2020-04-01 16:12:00\n",
              "25513  4/1/2020   16:13  20943.5  20943.5  20943.5  20943.5 2020-04-01 16:13:00\n",
              "25514  4/1/2020   16:14  20943.5  20943.6  20943.5  20943.5 2020-04-01 16:14:00\n",
              "\n",
              "[25515 rows x 7 columns]"
            ]
          },
          "metadata": {
            "tags": []
          },
          "execution_count": 7
        }
      ]
    },
    {
      "cell_type": "code",
      "metadata": {
        "colab": {
          "base_uri": "https://localhost:8080/",
          "height": 419
        },
        "id": "Ma2_PghE9j_A",
        "outputId": "dfda47ec-0119-43bc-e85b-8d8056b213d5"
      },
      "source": [
        "trump_df"
      ],
      "execution_count": 8,
      "outputs": [
        {
          "output_type": "execute_result",
          "data": {
            "text/html": [
              "<div>\n",
              "<style scoped>\n",
              "    .dataframe tbody tr th:only-of-type {\n",
              "        vertical-align: middle;\n",
              "    }\n",
              "\n",
              "    .dataframe tbody tr th {\n",
              "        vertical-align: top;\n",
              "    }\n",
              "\n",
              "    .dataframe thead th {\n",
              "        text-align: right;\n",
              "    }\n",
              "</style>\n",
              "<table border=\"1\" class=\"dataframe\">\n",
              "  <thead>\n",
              "    <tr style=\"text-align: right;\">\n",
              "      <th></th>\n",
              "      <th>id</th>\n",
              "      <th>link</th>\n",
              "      <th>content</th>\n",
              "      <th>date</th>\n",
              "      <th>time</th>\n",
              "      <th>retweets</th>\n",
              "      <th>favorites</th>\n",
              "      <th>mentions</th>\n",
              "      <th>hashtags</th>\n",
              "      <th>Unnamed: 9</th>\n",
              "      <th>Date_time</th>\n",
              "    </tr>\n",
              "  </thead>\n",
              "  <tbody>\n",
              "    <tr>\n",
              "      <th>0</th>\n",
              "      <td>1.212730e+18</td>\n",
              "      <td>https://twitter.com/realDonaldTrump/status/121...</td>\n",
              "      <td>Sohrab Ahmari, New York Post “The Trump Campai...</td>\n",
              "      <td>1/2/2020</td>\n",
              "      <td>7:42</td>\n",
              "      <td>18829</td>\n",
              "      <td>85008</td>\n",
              "      <td>NaN</td>\n",
              "      <td>NaN</td>\n",
              "      <td>NaN</td>\n",
              "      <td>2020-01-02 07:42:00</td>\n",
              "    </tr>\n",
              "    <tr>\n",
              "      <th>1</th>\n",
              "      <td>1.212730e+18</td>\n",
              "      <td>https://twitter.com/realDonaldTrump/status/121...</td>\n",
              "      <td>....it’s alienating independents. This Preside...</td>\n",
              "      <td>1/2/2020</td>\n",
              "      <td>7:42</td>\n",
              "      <td>13624</td>\n",
              "      <td>61088</td>\n",
              "      <td>@FoxNews,@cvpayne</td>\n",
              "      <td>NaN</td>\n",
              "      <td>NaN</td>\n",
              "      <td>2020-01-02 07:42:00</td>\n",
              "    </tr>\n",
              "    <tr>\n",
              "      <th>2</th>\n",
              "      <td>1.212730e+18</td>\n",
              "      <td>https://twitter.com/realDonaldTrump/status/121...</td>\n",
              "      <td>A lot of very good people were taken down by a...</td>\n",
              "      <td>1/2/2020</td>\n",
              "      <td>7:58</td>\n",
              "      <td>31191</td>\n",
              "      <td>129206</td>\n",
              "      <td>NaN</td>\n",
              "      <td>NaN</td>\n",
              "      <td>NaN</td>\n",
              "      <td>2020-01-02 07:58:00</td>\n",
              "    </tr>\n",
              "    <tr>\n",
              "      <th>3</th>\n",
              "      <td>1.212730e+18</td>\n",
              "      <td>https://twitter.com/realDonaldTrump/status/121...</td>\n",
              "      <td>....had happened to a Presidential candidate, ...</td>\n",
              "      <td>1/2/2020</td>\n",
              "      <td>7:58</td>\n",
              "      <td>24443</td>\n",
              "      <td>104258</td>\n",
              "      <td>NaN</td>\n",
              "      <td>NaN</td>\n",
              "      <td>NaN</td>\n",
              "      <td>2020-01-02 07:58:00</td>\n",
              "    </tr>\n",
              "    <tr>\n",
              "      <th>4</th>\n",
              "      <td>1.212920e+18</td>\n",
              "      <td>https://twitter.com/realDonaldTrump/status/121...</td>\n",
              "      <td>pic.twitter.com/VXeKiVzpTf</td>\n",
              "      <td>1/2/2020</td>\n",
              "      <td>20:32</td>\n",
              "      <td>163102</td>\n",
              "      <td>780753</td>\n",
              "      <td>NaN</td>\n",
              "      <td>NaN</td>\n",
              "      <td>NaN</td>\n",
              "      <td>2020-01-02 20:32:00</td>\n",
              "    </tr>\n",
              "    <tr>\n",
              "      <th>...</th>\n",
              "      <td>...</td>\n",
              "      <td>...</td>\n",
              "      <td>...</td>\n",
              "      <td>...</td>\n",
              "      <td>...</td>\n",
              "      <td>...</td>\n",
              "      <td>...</td>\n",
              "      <td>...</td>\n",
              "      <td>...</td>\n",
              "      <td>...</td>\n",
              "      <td>...</td>\n",
              "    </tr>\n",
              "    <tr>\n",
              "      <th>1174</th>\n",
              "      <td>1.245140e+18</td>\n",
              "      <td>https://twitter.com/realDonaldTrump/status/124...</td>\n",
              "      <td>30 DAYS TO SLOW THE SPREAD # COVIDー19 http://C...</td>\n",
              "      <td>3/31/2020</td>\n",
              "      <td>18:49</td>\n",
              "      <td>19506</td>\n",
              "      <td>70170</td>\n",
              "      <td>NaN</td>\n",
              "      <td>#COVID</td>\n",
              "      <td>NaN</td>\n",
              "      <td>2020-03-31 18:49:00</td>\n",
              "    </tr>\n",
              "    <tr>\n",
              "      <th>1175</th>\n",
              "      <td>1.245150e+18</td>\n",
              "      <td>https://twitter.com/realDonaldTrump/status/124...</td>\n",
              "      <td>pic.twitter.com/nQfccoKPj2</td>\n",
              "      <td>3/31/2020</td>\n",
              "      <td>19:32</td>\n",
              "      <td>14020</td>\n",
              "      <td>61764</td>\n",
              "      <td>NaN</td>\n",
              "      <td>NaN</td>\n",
              "      <td>NaN</td>\n",
              "      <td>2020-03-31 19:32:00</td>\n",
              "    </tr>\n",
              "    <tr>\n",
              "      <th>1176</th>\n",
              "      <td>1.245150e+18</td>\n",
              "      <td>https://twitter.com/realDonaldTrump/status/124...</td>\n",
              "      <td>https://www.whitehouse.gov/briefings-statement...</td>\n",
              "      <td>3/31/2020</td>\n",
              "      <td>19:32</td>\n",
              "      <td>12519</td>\n",
              "      <td>50364</td>\n",
              "      <td>NaN</td>\n",
              "      <td>NaN</td>\n",
              "      <td>NaN</td>\n",
              "      <td>2020-03-31 19:32:00</td>\n",
              "    </tr>\n",
              "    <tr>\n",
              "      <th>1177</th>\n",
              "      <td>1.245390e+18</td>\n",
              "      <td>https://twitter.com/realDonaldTrump/status/124...</td>\n",
              "      <td>Congress must pass the old, and very strongly ...</td>\n",
              "      <td>4/1/2020</td>\n",
              "      <td>11:36</td>\n",
              "      <td>32679</td>\n",
              "      <td>147709</td>\n",
              "      <td>NaN</td>\n",
              "      <td>NaN</td>\n",
              "      <td>NaN</td>\n",
              "      <td>2020-04-01 11:36:00</td>\n",
              "    </tr>\n",
              "    <tr>\n",
              "      <th>1178</th>\n",
              "      <td>1.245400e+18</td>\n",
              "      <td>https://twitter.com/realDonaldTrump/status/124...</td>\n",
              "      <td>Upon information and belief, Iran or its proxi...</td>\n",
              "      <td>4/1/2020</td>\n",
              "      <td>12:05</td>\n",
              "      <td>64928</td>\n",
              "      <td>325234</td>\n",
              "      <td>NaN</td>\n",
              "      <td>NaN</td>\n",
              "      <td>NaN</td>\n",
              "      <td>2020-04-01 12:05:00</td>\n",
              "    </tr>\n",
              "  </tbody>\n",
              "</table>\n",
              "<p>1179 rows × 11 columns</p>\n",
              "</div>"
            ],
            "text/plain": [
              "                id  ...           Date_time\n",
              "0     1.212730e+18  ... 2020-01-02 07:42:00\n",
              "1     1.212730e+18  ... 2020-01-02 07:42:00\n",
              "2     1.212730e+18  ... 2020-01-02 07:58:00\n",
              "3     1.212730e+18  ... 2020-01-02 07:58:00\n",
              "4     1.212920e+18  ... 2020-01-02 20:32:00\n",
              "...            ...  ...                 ...\n",
              "1174  1.245140e+18  ... 2020-03-31 18:49:00\n",
              "1175  1.245150e+18  ... 2020-03-31 19:32:00\n",
              "1176  1.245150e+18  ... 2020-03-31 19:32:00\n",
              "1177  1.245390e+18  ... 2020-04-01 11:36:00\n",
              "1178  1.245400e+18  ... 2020-04-01 12:05:00\n",
              "\n",
              "[1179 rows x 11 columns]"
            ]
          },
          "metadata": {
            "tags": []
          },
          "execution_count": 8
        }
      ]
    },
    {
      "cell_type": "code",
      "metadata": {
        "id": "8OgUIZw0Ujtt"
      },
      "source": [
        "combo_df = pd.DataFrame(columns=['Date_time','content','id', 'mentions','hashtags','Open','Close','Stock_Date_time', '%Change'])\n",
        "\n",
        "for tweet in trump_df.iterrows():\n",
        "    tweet_item = tweet[1]\n",
        "    for stock_data in DJ_df[(DJ_df['Date_time']-tweet_item['Date_time']<np.timedelta64(4,'m')) & \n",
        "                          (DJ_df['Date_time']-tweet_item['Date_time']>=np.timedelta64(3,'m'))].iterrows():\n",
        "                         \n",
        "                          row = pd.DataFrame(stock_data)\n",
        "                                                    \n",
        "                          stock_item = stock_data[1]\n",
        "\n",
        "                          if stock_item[\"Date_time\"] == tweet_item[\"Date_time\"]:\n",
        "                            Pct_Change = 0\n",
        "                          else:\n",
        "                            change = stock_item[[\"Open\", \"Close\"]].pct_change()\n",
        "                            Pct_Change = change[\"Close\"] *100\n",
        "\n",
        "                          time = tweet_item['time'].split(':')\n",
        "                          if time[0] == '9':\n",
        "                            updated_time = '0'+time[0]\n",
        "                          elif int(time[0])>8:\n",
        "                            updated_time = time[0]\n",
        "                          else:\n",
        "                            str(12+int(time[0])) \n",
        "\n",
        "                          updated_time += ':' + time[1]\n",
        "\n",
        "                          if stock_item[\"Date_time\"] == tweet_item[\"Date_time\"]:\n",
        "                            Pct_Change = 0\n",
        "                          else:\n",
        "                            change = stock_item[[\"Open\", \"Close\"]].pct_change()\n",
        "                            Pct_Change = change[\"Close\"] *100\n",
        "                          combo_df = combo_df.append({'Date_time':tweet_item['Date_time'],'Date':tweet_item['date'],'Time':updated_time, 'content':tweet_item['content'],'id':tweet_item['id'],\n",
        "                                                       'mentions':tweet_item['mentions'],'hashtags':tweet_item['hashtags'],\n",
        "                                                       'Open':stock_item['Open'],'Close':stock_item['Close'],'Stock_Date_time':stock_item['Date_time'], '%Change':Pct_Change},ignore_index=True)                     \n"
      ],
      "execution_count": 9,
      "outputs": []
    },
    {
      "cell_type": "code",
      "metadata": {
        "colab": {
          "base_uri": "https://localhost:8080/",
          "height": 419
        },
        "id": "1LHU0IvI0bhS",
        "outputId": "a2fc81ea-0c4c-4c71-ca52-77bfbfe4a0fa"
      },
      "source": [
        "combo_df"
      ],
      "execution_count": 10,
      "outputs": [
        {
          "output_type": "execute_result",
          "data": {
            "text/html": [
              "<div>\n",
              "<style scoped>\n",
              "    .dataframe tbody tr th:only-of-type {\n",
              "        vertical-align: middle;\n",
              "    }\n",
              "\n",
              "    .dataframe tbody tr th {\n",
              "        vertical-align: top;\n",
              "    }\n",
              "\n",
              "    .dataframe thead th {\n",
              "        text-align: right;\n",
              "    }\n",
              "</style>\n",
              "<table border=\"1\" class=\"dataframe\">\n",
              "  <thead>\n",
              "    <tr style=\"text-align: right;\">\n",
              "      <th></th>\n",
              "      <th>Date_time</th>\n",
              "      <th>content</th>\n",
              "      <th>id</th>\n",
              "      <th>mentions</th>\n",
              "      <th>hashtags</th>\n",
              "      <th>Open</th>\n",
              "      <th>Close</th>\n",
              "      <th>Stock_Date_time</th>\n",
              "      <th>%Change</th>\n",
              "      <th>Date</th>\n",
              "      <th>Time</th>\n",
              "    </tr>\n",
              "  </thead>\n",
              "  <tbody>\n",
              "    <tr>\n",
              "      <th>0</th>\n",
              "      <td>2020-01-03 11:27:00</td>\n",
              "      <td>Christopher Bedford, The Federalist Senior Edi...</td>\n",
              "      <td>1.213150e+18</td>\n",
              "      <td>NaN</td>\n",
              "      <td>NaN</td>\n",
              "      <td>28631.2</td>\n",
              "      <td>28642.4</td>\n",
              "      <td>2020-01-03 11:30:00</td>\n",
              "      <td>0.039118</td>\n",
              "      <td>1/3/2020</td>\n",
              "      <td>11:27</td>\n",
              "    </tr>\n",
              "    <tr>\n",
              "      <th>1</th>\n",
              "      <td>2020-01-03 11:27:00</td>\n",
              "      <td>....different places that he thought were wast...</td>\n",
              "      <td>1.213150e+18</td>\n",
              "      <td>NaN</td>\n",
              "      <td>NaN</td>\n",
              "      <td>28631.2</td>\n",
              "      <td>28642.4</td>\n",
              "      <td>2020-01-03 11:30:00</td>\n",
              "      <td>0.039118</td>\n",
              "      <td>1/3/2020</td>\n",
              "      <td>11:27</td>\n",
              "    </tr>\n",
              "    <tr>\n",
              "      <th>2</th>\n",
              "      <td>2020-01-03 11:27:00</td>\n",
              "      <td>....followed, and then it was withdrawn. The D...</td>\n",
              "      <td>1.213150e+18</td>\n",
              "      <td>NaN</td>\n",
              "      <td>NaN</td>\n",
              "      <td>28631.2</td>\n",
              "      <td>28642.4</td>\n",
              "      <td>2020-01-03 11:30:00</td>\n",
              "      <td>0.039118</td>\n",
              "      <td>1/3/2020</td>\n",
              "      <td>11:27</td>\n",
              "    </tr>\n",
              "    <tr>\n",
              "      <th>3</th>\n",
              "      <td>2020-01-06 11:02:00</td>\n",
              "      <td>pic.twitter.com/XpVY2bnR5a</td>\n",
              "      <td>1.214230e+18</td>\n",
              "      <td>NaN</td>\n",
              "      <td>NaN</td>\n",
              "      <td>28547.9</td>\n",
              "      <td>28550.9</td>\n",
              "      <td>2020-01-06 11:05:00</td>\n",
              "      <td>0.010509</td>\n",
              "      <td>1/6/2020</td>\n",
              "      <td>11:02</td>\n",
              "    </tr>\n",
              "    <tr>\n",
              "      <th>4</th>\n",
              "      <td>2020-01-06 11:02:00</td>\n",
              "      <td>pic.twitter.com/dXBP7Srsqy</td>\n",
              "      <td>1.214230e+18</td>\n",
              "      <td>NaN</td>\n",
              "      <td>NaN</td>\n",
              "      <td>28547.9</td>\n",
              "      <td>28550.9</td>\n",
              "      <td>2020-01-06 11:05:00</td>\n",
              "      <td>0.010509</td>\n",
              "      <td>1/6/2020</td>\n",
              "      <td>11:02</td>\n",
              "    </tr>\n",
              "    <tr>\n",
              "      <th>...</th>\n",
              "      <td>...</td>\n",
              "      <td>...</td>\n",
              "      <td>...</td>\n",
              "      <td>...</td>\n",
              "      <td>...</td>\n",
              "      <td>...</td>\n",
              "      <td>...</td>\n",
              "      <td>...</td>\n",
              "      <td>...</td>\n",
              "      <td>...</td>\n",
              "      <td>...</td>\n",
              "    </tr>\n",
              "    <tr>\n",
              "      <th>290</th>\n",
              "      <td>2020-03-31 14:52:00</td>\n",
              "      <td>My proposal to the politically correct Automob...</td>\n",
              "      <td>1.245080e+18</td>\n",
              "      <td>NaN</td>\n",
              "      <td>NaN</td>\n",
              "      <td>22180.8</td>\n",
              "      <td>22174.3</td>\n",
              "      <td>2020-03-31 14:55:00</td>\n",
              "      <td>-0.029305</td>\n",
              "      <td>3/31/2020</td>\n",
              "      <td>14:52</td>\n",
              "    </tr>\n",
              "    <tr>\n",
              "      <th>291</th>\n",
              "      <td>2020-03-31 15:27:00</td>\n",
              "      <td>Will be starting The White House news conferen...</td>\n",
              "      <td>1.245090e+18</td>\n",
              "      <td>NaN</td>\n",
              "      <td>NaN</td>\n",
              "      <td>21910.2</td>\n",
              "      <td>21936.9</td>\n",
              "      <td>2020-03-31 15:30:00</td>\n",
              "      <td>0.121861</td>\n",
              "      <td>3/31/2020</td>\n",
              "      <td>15:27</td>\n",
              "    </tr>\n",
              "    <tr>\n",
              "      <th>292</th>\n",
              "      <td>2020-03-31 15:56:00</td>\n",
              "      <td>Great work @ AtlasAirWW, thank you!https://twi...</td>\n",
              "      <td>1.245090e+18</td>\n",
              "      <td>@AtlasAirWW</td>\n",
              "      <td>NaN</td>\n",
              "      <td>21888.3</td>\n",
              "      <td>21927.9</td>\n",
              "      <td>2020-03-31 15:59:00</td>\n",
              "      <td>0.180919</td>\n",
              "      <td>3/31/2020</td>\n",
              "      <td>15:56</td>\n",
              "    </tr>\n",
              "    <tr>\n",
              "      <th>293</th>\n",
              "      <td>2020-04-01 11:36:00</td>\n",
              "      <td>Congress must pass the old, and very strongly ...</td>\n",
              "      <td>1.245390e+18</td>\n",
              "      <td>NaN</td>\n",
              "      <td>NaN</td>\n",
              "      <td>21339.4</td>\n",
              "      <td>21282.4</td>\n",
              "      <td>2020-04-01 11:39:00</td>\n",
              "      <td>-0.267112</td>\n",
              "      <td>4/1/2020</td>\n",
              "      <td>11:36</td>\n",
              "    </tr>\n",
              "    <tr>\n",
              "      <th>294</th>\n",
              "      <td>2020-04-01 12:05:00</td>\n",
              "      <td>Upon information and belief, Iran or its proxi...</td>\n",
              "      <td>1.245400e+18</td>\n",
              "      <td>NaN</td>\n",
              "      <td>NaN</td>\n",
              "      <td>21162.2</td>\n",
              "      <td>21156.0</td>\n",
              "      <td>2020-04-01 12:08:00</td>\n",
              "      <td>-0.029298</td>\n",
              "      <td>4/1/2020</td>\n",
              "      <td>12:05</td>\n",
              "    </tr>\n",
              "  </tbody>\n",
              "</table>\n",
              "<p>295 rows × 11 columns</p>\n",
              "</div>"
            ],
            "text/plain": [
              "              Date_time  ...   Time\n",
              "0   2020-01-03 11:27:00  ...  11:27\n",
              "1   2020-01-03 11:27:00  ...  11:27\n",
              "2   2020-01-03 11:27:00  ...  11:27\n",
              "3   2020-01-06 11:02:00  ...  11:02\n",
              "4   2020-01-06 11:02:00  ...  11:02\n",
              "..                  ...  ...    ...\n",
              "290 2020-03-31 14:52:00  ...  14:52\n",
              "291 2020-03-31 15:27:00  ...  15:27\n",
              "292 2020-03-31 15:56:00  ...  15:56\n",
              "293 2020-04-01 11:36:00  ...  11:36\n",
              "294 2020-04-01 12:05:00  ...  12:05\n",
              "\n",
              "[295 rows x 11 columns]"
            ]
          },
          "metadata": {
            "tags": []
          },
          "execution_count": 10
        }
      ]
    },
    {
      "cell_type": "markdown",
      "metadata": {
        "id": "yJLoN_vFUjts"
      },
      "source": [
        "### 2.2. Data Analysis\n",
        "\n",
        "For our hypotheses, we have the content of Trump's tweets and the opening price of the Dow Jones stock index set as our independent variables and closing price and percent change of the open and close prices as our dependent vairables.\n",
        "\n",
        "Our predictive model is comprised of a few extracted features, such as the presence of hatespeech, the polarity of the Tweet, the length the Tweet, and the number of Tweets posted that day, as well as some selected features coming from a list of important words that we defined as well as the opening stock price for the minute after the Tweet was posted. We attempted to predict the percent change of the index price at the end of the minute by looking at these selected and extracted features. We chose to test the model using these features specifically because each one had the ability to affect the market in some way and we wanted to limit the amount of extrainious variables as much as possible. We also believed that combined, these features would have the ability to determine the meaning, impact, and represent the content of each tweet with relative accuracy.\n",
        "\n",
        "With this project, we hope to be able to predict the future price of the Dow Jones stock index one minute after Trump posts a Tweet based only on the the content of what he said, the features we extracted from it, and the opening price of the index during the minute in question. In order to do this, we knew that we needed to create a regression model between our features and target data, implying that a machine learning model was nescessary.\n",
        "\n",
        "We will be using the Linear, Ridge, and Lasso regressors, as well as the k-Nearest Neighbor's and Support Vector Machine regression models. We picked these ones in particular because we thought they would be the best fit for our data. For Linear, we chose this because it is a very basic regressor that would work nicely with the numerical feature and target data that we have. We picked the Ridge and Lasso regressors in an attempt to compensate for potential overfitting present in the Linear model. K-nearest Neighbors, is another basic regression model that we thought would be a good compliment to linear regression, and Support Vector Machine works well with a wide variety of data problems, so we thought it would be interesting to see how it performed as well."
      ]
    },
    {
      "cell_type": "markdown",
      "metadata": {
        "id": "RFLOtq1bUjts"
      },
      "source": [
        "<a id=\"3\"></a>\n",
        "<hr style=\"height:2px; border:none; color:black; background-color:black;\">"
      ]
    },
    {
      "cell_type": "markdown",
      "metadata": {
        "id": "DdBQIpTfUjts"
      },
      "source": [
        "## 3. RESULTS"
      ]
    },
    {
      "cell_type": "markdown",
      "metadata": {
        "id": "waVyJ0MrUjts"
      },
      "source": [
        "### 3.1. Data Wrangling\n"
      ]
    },
    {
      "cell_type": "markdown",
      "metadata": {
        "id": "jofc9Xsh-DvA"
      },
      "source": [
        "Because of the nature of our data and the absence of null values, we didn't need to perform any data cleaning and very little data wrangling. Most of this was taken care of when we defined combo_df"
      ]
    },
    {
      "cell_type": "markdown",
      "metadata": {
        "id": "LIm_n4zu99_i"
      },
      "source": [
        "**Feature Extraction**"
      ]
    },
    {
      "cell_type": "code",
      "metadata": {
        "id": "SqA2K8rT-tsz"
      },
      "source": [
        "def List_Oh_Tweets_Creator(df): \r\n",
        "  #This breaks up the content of combo_df into a list of strings, with each row being a value in that list\r\n",
        "  list = []\r\n",
        "  for tweet in df:\r\n",
        "    list.append(tweet) \r\n",
        "  return list"
      ],
      "execution_count": 42,
      "outputs": []
    },
    {
      "cell_type": "code",
      "metadata": {
        "id": "ugxhpT_1-tGJ"
      },
      "source": [
        "List_of_Tweets = List_Oh_Tweets_Creator(combo_df[\"content\"])\r\n",
        "List_of_Tweets"
      ],
      "execution_count": null,
      "outputs": []
    },
    {
      "cell_type": "code",
      "metadata": {
        "id": "Cj3SetIhUjtt"
      },
      "source": [
        "def hate_speech_detector(List_of_strings):\n",
        "  #indicates whether each item in the list contains hatespeech or offensive language\n",
        "  #returns a list of the corresponding values: whether the qoute was hatespeech, offensive language, or niether\n",
        "  sonar = Sonar()\n",
        "  list = []\n",
        "\n",
        "  for row in List_of_strings:\n",
        "    corrilation = sonar.ping(text=row)\n",
        "    if corrilation['top_class'] == \"hate_speech\":\n",
        "      list.append(2)\n",
        "    if corrilation['top_class'] == \"offensive_language\":\n",
        "      list.append(1)\n",
        "    if corrilation['top_class'] == \"neither\":\n",
        "      list.append(0)\n",
        "  \n",
        "  return list"
      ],
      "execution_count": 41,
      "outputs": []
    },
    {
      "cell_type": "code",
      "metadata": {
        "id": "LwGHP5NCwDCB"
      },
      "source": [
        "from textblob import TextBlob\r\n",
        "\r\n",
        "def Polarity_Calculator(list_of_strings):\r\n",
        "  #This function returns a list of the corresponding polarity value for each item in the inputed list\r\n",
        "  p_list = []\r\n",
        "  s_list = []\r\n",
        "  for row in list_of_strings:\r\n",
        "    sentiment = TextBlob(row).sentiment\r\n",
        "    p_list.append(sentiment[0])\r\n",
        "    s_list.append(sentiment[1])\r\n",
        "  return p_list, s_list"
      ],
      "execution_count": 33,
      "outputs": []
    },
    {
      "cell_type": "code",
      "metadata": {
        "id": "Cl7ZnhG_06Zt"
      },
      "source": [
        "def len_of_tweet():\r\n",
        "  #This creates a list of the lenght of each tweet to be used as a feature\r\n",
        "  list = []\r\n",
        "  for row in combo_df.iterrows():\r\n",
        "    row_item = row[1]\r\n",
        "    list.append(len(row_item[\"content\"]))\r\n",
        "  return list"
      ],
      "execution_count": 34,
      "outputs": []
    },
    {
      "cell_type": "code",
      "metadata": {
        "id": "IHHvMRxoLdbn"
      },
      "source": [
        "def daily_num_tweets():\r\n",
        "  #This produces a list of all the tweets that Trump posts that day\r\n",
        "  count = 0\r\n",
        "  start_date = combo_df[\"Date\"][0]\r\n",
        "  dict = {}\r\n",
        "  dict[start_date] = 0 #Trump tweeted 5 times the day before our data starts\r\n",
        "  for row in combo_df.iterrows():\r\n",
        "    row_item = row[1]\r\n",
        "    if row_item[\"Date\"] == start_date:\r\n",
        "      count += 1\r\n",
        "    else:\r\n",
        "      dict[start_date] = count\r\n",
        "      count = 1\r\n",
        "      start_date = row_item[\"Date\"]\r\n",
        "      \r\n",
        "  return dict"
      ],
      "execution_count": 32,
      "outputs": []
    },
    {
      "cell_type": "markdown",
      "metadata": {
        "id": "d7mQSJpN-_tM"
      },
      "source": [
        "**Feature Selection**"
      ]
    },
    {
      "cell_type": "code",
      "metadata": {
        "id": "FajFLIV4KKmm"
      },
      "source": [
        "def important_words_df():\r\n",
        "  #creates a dict of whether or not an important word appears in a tweet\r\n",
        "  dict = {}\r\n",
        "  for word in important_words:\r\n",
        "    list = []\r\n",
        "    for tweet in combo_df.iterrows():\r\n",
        "      tweet_item = tweet[1]\r\n",
        "      if word in tweet_item[\"content\"].strip(\":;.,/?[]{}\\|~`!@#$%^&*()_+='\"\"\").lower():\r\n",
        "        list.append(1)\r\n",
        "      else:\r\n",
        "        list.append(0)\r\n",
        "    dict[word] = list\r\n",
        "  return dict\r\n"
      ],
      "execution_count": 35,
      "outputs": []
    },
    {
      "cell_type": "code",
      "metadata": {
        "id": "i9ruQcE_Lesh"
      },
      "source": [
        "daily_num_tweets_df = pd.DataFrame(columns = daily_num_tweets().keys())\n",
        "daily_num_tweets_df = daily_num_tweets_df.append(daily_num_tweets(), ignore_index= True)"
      ],
      "execution_count": 36,
      "outputs": []
    },
    {
      "cell_type": "code",
      "metadata": {
        "colab": {
          "base_uri": "https://localhost:8080/",
          "height": 100
        },
        "id": "NwMbxnhF0j4_",
        "outputId": "a562978c-df05-433a-de1a-03f5b4e328d1"
      },
      "source": [
        "daily_num_tweets_df"
      ],
      "execution_count": 37,
      "outputs": [
        {
          "output_type": "execute_result",
          "data": {
            "text/html": [
              "<div>\n",
              "<style scoped>\n",
              "    .dataframe tbody tr th:only-of-type {\n",
              "        vertical-align: middle;\n",
              "    }\n",
              "\n",
              "    .dataframe tbody tr th {\n",
              "        vertical-align: top;\n",
              "    }\n",
              "\n",
              "    .dataframe thead th {\n",
              "        text-align: right;\n",
              "    }\n",
              "</style>\n",
              "<table border=\"1\" class=\"dataframe\">\n",
              "  <thead>\n",
              "    <tr style=\"text-align: right;\">\n",
              "      <th></th>\n",
              "      <th>1/3/2020</th>\n",
              "      <th>1/6/2020</th>\n",
              "      <th>1/7/2020</th>\n",
              "      <th>1/9/2020</th>\n",
              "      <th>1/10/2020</th>\n",
              "      <th>1/13/2020</th>\n",
              "      <th>1/15/2020</th>\n",
              "      <th>1/16/2020</th>\n",
              "      <th>1/17/2020</th>\n",
              "      <th>1/21/2020</th>\n",
              "      <th>1/22/2020</th>\n",
              "      <th>1/23/2020</th>\n",
              "      <th>1/24/2020</th>\n",
              "      <th>1/27/2020</th>\n",
              "      <th>1/28/2020</th>\n",
              "      <th>1/29/2020</th>\n",
              "      <th>1/30/2020</th>\n",
              "      <th>1/31/2020</th>\n",
              "      <th>2/3/2020</th>\n",
              "      <th>2/4/2020</th>\n",
              "      <th>2/5/2020</th>\n",
              "      <th>2/6/2020</th>\n",
              "      <th>2/7/2020</th>\n",
              "      <th>2/10/2020</th>\n",
              "      <th>2/11/2020</th>\n",
              "      <th>2/12/2020</th>\n",
              "      <th>2/13/2020</th>\n",
              "      <th>2/14/2020</th>\n",
              "      <th>2/18/2020</th>\n",
              "      <th>2/19/2020</th>\n",
              "      <th>2/20/2020</th>\n",
              "      <th>2/21/2020</th>\n",
              "      <th>2/24/2020</th>\n",
              "      <th>2/25/2020</th>\n",
              "      <th>2/26/2020</th>\n",
              "      <th>2/28/2020</th>\n",
              "      <th>3/2/2020</th>\n",
              "      <th>3/3/2020</th>\n",
              "      <th>3/4/2020</th>\n",
              "      <th>3/5/2020</th>\n",
              "      <th>3/6/2020</th>\n",
              "      <th>3/9/2020</th>\n",
              "      <th>3/10/2020</th>\n",
              "      <th>3/11/2020</th>\n",
              "      <th>3/12/2020</th>\n",
              "      <th>3/13/2020</th>\n",
              "      <th>3/16/2020</th>\n",
              "      <th>3/17/2020</th>\n",
              "      <th>3/18/2020</th>\n",
              "      <th>3/20/2020</th>\n",
              "      <th>3/23/2020</th>\n",
              "      <th>3/24/2020</th>\n",
              "      <th>3/25/2020</th>\n",
              "      <th>3/26/2020</th>\n",
              "      <th>3/27/2020</th>\n",
              "      <th>3/30/2020</th>\n",
              "      <th>3/31/2020</th>\n",
              "    </tr>\n",
              "  </thead>\n",
              "  <tbody>\n",
              "    <tr>\n",
              "      <th>0</th>\n",
              "      <td>3</td>\n",
              "      <td>2</td>\n",
              "      <td>1</td>\n",
              "      <td>3</td>\n",
              "      <td>2</td>\n",
              "      <td>5</td>\n",
              "      <td>1</td>\n",
              "      <td>4</td>\n",
              "      <td>3</td>\n",
              "      <td>1</td>\n",
              "      <td>9</td>\n",
              "      <td>13</td>\n",
              "      <td>6</td>\n",
              "      <td>3</td>\n",
              "      <td>11</td>\n",
              "      <td>9</td>\n",
              "      <td>13</td>\n",
              "      <td>1</td>\n",
              "      <td>6</td>\n",
              "      <td>2</td>\n",
              "      <td>3</td>\n",
              "      <td>3</td>\n",
              "      <td>8</td>\n",
              "      <td>2</td>\n",
              "      <td>2</td>\n",
              "      <td>10</td>\n",
              "      <td>3</td>\n",
              "      <td>5</td>\n",
              "      <td>12</td>\n",
              "      <td>4</td>\n",
              "      <td>6</td>\n",
              "      <td>7</td>\n",
              "      <td>6</td>\n",
              "      <td>4</td>\n",
              "      <td>4</td>\n",
              "      <td>6</td>\n",
              "      <td>8</td>\n",
              "      <td>5</td>\n",
              "      <td>6</td>\n",
              "      <td>10</td>\n",
              "      <td>5</td>\n",
              "      <td>3</td>\n",
              "      <td>6</td>\n",
              "      <td>7</td>\n",
              "      <td>6</td>\n",
              "      <td>3</td>\n",
              "      <td>6</td>\n",
              "      <td>2</td>\n",
              "      <td>6</td>\n",
              "      <td>2</td>\n",
              "      <td>2</td>\n",
              "      <td>4</td>\n",
              "      <td>5</td>\n",
              "      <td>2</td>\n",
              "      <td>11</td>\n",
              "      <td>4</td>\n",
              "      <td>7</td>\n",
              "    </tr>\n",
              "  </tbody>\n",
              "</table>\n",
              "</div>"
            ],
            "text/plain": [
              "  1/3/2020 1/6/2020 1/7/2020 1/9/2020  ... 3/26/2020 3/27/2020 3/30/2020 3/31/2020\n",
              "0        3        2        1        3  ...         2        11         4         7\n",
              "\n",
              "[1 rows x 57 columns]"
            ]
          },
          "metadata": {
            "tags": []
          },
          "execution_count": 37
        }
      ]
    },
    {
      "cell_type": "code",
      "metadata": {
        "id": "pNGVMsTR1wet"
      },
      "source": [
        "Tweet_len = len_of_tweet()"
      ],
      "execution_count": 38,
      "outputs": []
    },
    {
      "cell_type": "code",
      "metadata": {
        "id": "lPlZlDPJ5DpC",
        "colab": {
          "base_uri": "https://localhost:8080/"
        },
        "outputId": "9a734ded-6e6a-4873-d0d3-c98b696e094b"
      },
      "source": [
        "important_words = [ \"stock\", \"market\", \"stock market\", \"stocks\", \"stock markets\" \"covid-19\", \"covid\", \"coronavirus\", \"all time high\", \"new all time high\", \"china\", \"usa\", \"oil\", \"iran\", \"russia\", \"microsoft\", \"apple\", \"google\", \"amazon\", \"trade\", \"trade deal\", \"make america great again\"]\r\n",
        "print(important_words_df())"
      ],
      "execution_count": 39,
      "outputs": [
        {
          "output_type": "stream",
          "text": [
            "{'stock': [0, 0, 0, 0, 0, 0, 1, 0, 0, 0, 0, 0, 0, 0, 0, 0, 0, 0, 0, 0, 0, 0, 0, 1, 0, 0, 0, 0, 0, 0, 0, 0, 0, 0, 0, 0, 0, 0, 0, 0, 0, 0, 0, 0, 0, 0, 0, 0, 0, 0, 0, 0, 0, 0, 0, 0, 0, 0, 0, 0, 0, 0, 0, 0, 0, 0, 0, 0, 0, 0, 0, 0, 0, 0, 0, 0, 0, 0, 0, 0, 0, 0, 0, 0, 0, 0, 0, 0, 0, 0, 0, 0, 0, 0, 0, 0, 0, 0, 0, 0, 0, 0, 0, 0, 0, 0, 0, 0, 0, 0, 0, 0, 0, 0, 1, 0, 0, 0, 0, 0, 0, 0, 0, 0, 0, 0, 0, 0, 0, 0, 0, 0, 0, 0, 0, 0, 0, 0, 0, 0, 0, 0, 0, 0, 0, 0, 1, 0, 0, 0, 0, 0, 0, 0, 0, 0, 0, 0, 0, 0, 0, 0, 0, 0, 0, 0, 1, 0, 0, 0, 0, 0, 0, 0, 0, 0, 0, 0, 0, 0, 0, 0, 0, 0, 0, 0, 0, 0, 0, 0, 0, 0, 0, 0, 0, 0, 0, 0, 0, 0, 0, 0, 0, 0, 0, 0, 0, 0, 0, 0, 0, 0, 0, 0, 0, 0, 0, 0, 0, 0, 0, 0, 0, 0, 0, 0, 0, 0, 0, 0, 0, 0, 0, 0, 0, 0, 0, 0, 0, 0, 0, 0, 0, 0, 0, 0, 0, 0, 0, 0, 0, 0, 0, 0, 0, 0, 0, 0, 0, 0, 0, 0, 0, 0, 0, 0, 0, 0, 0, 0, 0, 0, 0, 0, 0, 0, 0, 0, 0, 0, 0, 0, 0, 0, 0, 0, 0, 0, 0, 0, 0, 0, 0, 0, 0], 'market': [0, 0, 0, 0, 0, 0, 1, 0, 0, 0, 0, 0, 0, 0, 0, 0, 0, 0, 0, 0, 0, 0, 0, 1, 0, 0, 0, 0, 0, 0, 0, 0, 0, 0, 0, 0, 0, 0, 0, 0, 0, 0, 0, 0, 0, 0, 0, 0, 0, 0, 0, 0, 0, 0, 0, 0, 0, 0, 0, 0, 0, 0, 0, 0, 0, 0, 0, 0, 0, 0, 0, 0, 0, 0, 0, 0, 0, 0, 0, 0, 0, 0, 0, 0, 0, 0, 0, 0, 0, 0, 0, 0, 0, 0, 0, 0, 1, 0, 0, 0, 0, 0, 0, 0, 0, 0, 0, 0, 0, 0, 0, 0, 0, 0, 1, 0, 0, 0, 0, 0, 0, 0, 0, 0, 0, 0, 0, 0, 0, 0, 0, 0, 0, 0, 0, 0, 0, 0, 0, 0, 0, 0, 0, 0, 0, 0, 1, 0, 0, 0, 0, 0, 0, 0, 0, 0, 0, 0, 0, 0, 0, 0, 0, 0, 0, 0, 1, 0, 0, 0, 0, 0, 0, 0, 0, 0, 0, 0, 0, 0, 0, 0, 0, 0, 0, 0, 0, 0, 0, 0, 0, 0, 0, 0, 0, 0, 0, 0, 0, 0, 0, 0, 0, 0, 0, 0, 0, 0, 0, 0, 0, 0, 0, 0, 0, 0, 0, 0, 1, 0, 0, 0, 0, 0, 0, 0, 0, 0, 0, 0, 0, 0, 0, 0, 0, 0, 0, 0, 0, 0, 0, 0, 0, 0, 0, 0, 0, 0, 0, 0, 0, 0, 0, 0, 0, 0, 0, 0, 0, 0, 0, 0, 0, 0, 0, 0, 0, 0, 0, 0, 0, 0, 0, 0, 0, 0, 0, 0, 0, 0, 0, 0, 0, 0, 0, 0, 0, 0, 0, 0, 0, 0, 0, 0, 0], 'stock market': [0, 0, 0, 0, 0, 0, 1, 0, 0, 0, 0, 0, 0, 0, 0, 0, 0, 0, 0, 0, 0, 0, 0, 1, 0, 0, 0, 0, 0, 0, 0, 0, 0, 0, 0, 0, 0, 0, 0, 0, 0, 0, 0, 0, 0, 0, 0, 0, 0, 0, 0, 0, 0, 0, 0, 0, 0, 0, 0, 0, 0, 0, 0, 0, 0, 0, 0, 0, 0, 0, 0, 0, 0, 0, 0, 0, 0, 0, 0, 0, 0, 0, 0, 0, 0, 0, 0, 0, 0, 0, 0, 0, 0, 0, 0, 0, 0, 0, 0, 0, 0, 0, 0, 0, 0, 0, 0, 0, 0, 0, 0, 0, 0, 0, 1, 0, 0, 0, 0, 0, 0, 0, 0, 0, 0, 0, 0, 0, 0, 0, 0, 0, 0, 0, 0, 0, 0, 0, 0, 0, 0, 0, 0, 0, 0, 0, 1, 0, 0, 0, 0, 0, 0, 0, 0, 0, 0, 0, 0, 0, 0, 0, 0, 0, 0, 0, 1, 0, 0, 0, 0, 0, 0, 0, 0, 0, 0, 0, 0, 0, 0, 0, 0, 0, 0, 0, 0, 0, 0, 0, 0, 0, 0, 0, 0, 0, 0, 0, 0, 0, 0, 0, 0, 0, 0, 0, 0, 0, 0, 0, 0, 0, 0, 0, 0, 0, 0, 0, 0, 0, 0, 0, 0, 0, 0, 0, 0, 0, 0, 0, 0, 0, 0, 0, 0, 0, 0, 0, 0, 0, 0, 0, 0, 0, 0, 0, 0, 0, 0, 0, 0, 0, 0, 0, 0, 0, 0, 0, 0, 0, 0, 0, 0, 0, 0, 0, 0, 0, 0, 0, 0, 0, 0, 0, 0, 0, 0, 0, 0, 0, 0, 0, 0, 0, 0, 0, 0, 0, 0, 0, 0, 0, 0, 0, 0], 'stocks': [0, 0, 0, 0, 0, 0, 0, 0, 0, 0, 0, 0, 0, 0, 0, 0, 0, 0, 0, 0, 0, 0, 0, 0, 0, 0, 0, 0, 0, 0, 0, 0, 0, 0, 0, 0, 0, 0, 0, 0, 0, 0, 0, 0, 0, 0, 0, 0, 0, 0, 0, 0, 0, 0, 0, 0, 0, 0, 0, 0, 0, 0, 0, 0, 0, 0, 0, 0, 0, 0, 0, 0, 0, 0, 0, 0, 0, 0, 0, 0, 0, 0, 0, 0, 0, 0, 0, 0, 0, 0, 0, 0, 0, 0, 0, 0, 0, 0, 0, 0, 0, 0, 0, 0, 0, 0, 0, 0, 0, 0, 0, 0, 0, 0, 0, 0, 0, 0, 0, 0, 0, 0, 0, 0, 0, 0, 0, 0, 0, 0, 0, 0, 0, 0, 0, 0, 0, 0, 0, 0, 0, 0, 0, 0, 0, 0, 0, 0, 0, 0, 0, 0, 0, 0, 0, 0, 0, 0, 0, 0, 0, 0, 0, 0, 0, 0, 0, 0, 0, 0, 0, 0, 0, 0, 0, 0, 0, 0, 0, 0, 0, 0, 0, 0, 0, 0, 0, 0, 0, 0, 0, 0, 0, 0, 0, 0, 0, 0, 0, 0, 0, 0, 0, 0, 0, 0, 0, 0, 0, 0, 0, 0, 0, 0, 0, 0, 0, 0, 0, 0, 0, 0, 0, 0, 0, 0, 0, 0, 0, 0, 0, 0, 0, 0, 0, 0, 0, 0, 0, 0, 0, 0, 0, 0, 0, 0, 0, 0, 0, 0, 0, 0, 0, 0, 0, 0, 0, 0, 0, 0, 0, 0, 0, 0, 0, 0, 0, 0, 0, 0, 0, 0, 0, 0, 0, 0, 0, 0, 0, 0, 0, 0, 0, 0, 0, 0, 0, 0, 0, 0, 0, 0, 0, 0, 0], 'stock marketscovid-19': [0, 0, 0, 0, 0, 0, 0, 0, 0, 0, 0, 0, 0, 0, 0, 0, 0, 0, 0, 0, 0, 0, 0, 0, 0, 0, 0, 0, 0, 0, 0, 0, 0, 0, 0, 0, 0, 0, 0, 0, 0, 0, 0, 0, 0, 0, 0, 0, 0, 0, 0, 0, 0, 0, 0, 0, 0, 0, 0, 0, 0, 0, 0, 0, 0, 0, 0, 0, 0, 0, 0, 0, 0, 0, 0, 0, 0, 0, 0, 0, 0, 0, 0, 0, 0, 0, 0, 0, 0, 0, 0, 0, 0, 0, 0, 0, 0, 0, 0, 0, 0, 0, 0, 0, 0, 0, 0, 0, 0, 0, 0, 0, 0, 0, 0, 0, 0, 0, 0, 0, 0, 0, 0, 0, 0, 0, 0, 0, 0, 0, 0, 0, 0, 0, 0, 0, 0, 0, 0, 0, 0, 0, 0, 0, 0, 0, 0, 0, 0, 0, 0, 0, 0, 0, 0, 0, 0, 0, 0, 0, 0, 0, 0, 0, 0, 0, 0, 0, 0, 0, 0, 0, 0, 0, 0, 0, 0, 0, 0, 0, 0, 0, 0, 0, 0, 0, 0, 0, 0, 0, 0, 0, 0, 0, 0, 0, 0, 0, 0, 0, 0, 0, 0, 0, 0, 0, 0, 0, 0, 0, 0, 0, 0, 0, 0, 0, 0, 0, 0, 0, 0, 0, 0, 0, 0, 0, 0, 0, 0, 0, 0, 0, 0, 0, 0, 0, 0, 0, 0, 0, 0, 0, 0, 0, 0, 0, 0, 0, 0, 0, 0, 0, 0, 0, 0, 0, 0, 0, 0, 0, 0, 0, 0, 0, 0, 0, 0, 0, 0, 0, 0, 0, 0, 0, 0, 0, 0, 0, 0, 0, 0, 0, 0, 0, 0, 0, 0, 0, 0, 0, 0, 0, 0, 0, 0], 'covid': [0, 0, 0, 0, 0, 0, 0, 0, 0, 0, 0, 0, 0, 0, 0, 0, 0, 0, 0, 0, 0, 0, 0, 0, 0, 0, 0, 0, 0, 0, 0, 0, 0, 0, 0, 0, 0, 0, 0, 0, 0, 0, 0, 0, 0, 0, 0, 0, 0, 0, 0, 0, 0, 0, 0, 0, 0, 0, 0, 0, 0, 0, 0, 0, 0, 0, 0, 0, 0, 0, 0, 0, 0, 0, 0, 0, 0, 0, 0, 0, 0, 0, 0, 0, 0, 0, 0, 0, 0, 0, 0, 0, 0, 0, 0, 0, 0, 0, 0, 0, 0, 0, 0, 0, 0, 0, 0, 0, 0, 0, 0, 0, 0, 0, 0, 0, 0, 0, 0, 0, 0, 0, 0, 0, 0, 0, 0, 0, 0, 0, 0, 0, 0, 0, 0, 0, 0, 0, 0, 0, 0, 0, 0, 0, 0, 0, 0, 0, 0, 0, 0, 0, 0, 0, 0, 0, 0, 0, 0, 0, 0, 0, 0, 0, 0, 0, 0, 0, 0, 0, 0, 0, 0, 0, 0, 0, 0, 0, 0, 0, 0, 0, 0, 0, 0, 0, 0, 0, 0, 0, 0, 0, 0, 0, 0, 0, 0, 0, 0, 0, 0, 0, 0, 0, 0, 0, 0, 0, 0, 0, 0, 0, 0, 0, 0, 0, 0, 0, 0, 0, 0, 0, 0, 0, 0, 0, 0, 0, 0, 0, 0, 0, 0, 0, 0, 0, 0, 0, 0, 0, 0, 0, 0, 0, 0, 0, 0, 0, 0, 0, 0, 0, 0, 0, 0, 0, 0, 0, 0, 1, 0, 0, 0, 0, 0, 0, 0, 0, 0, 0, 0, 0, 0, 0, 0, 0, 0, 0, 0, 0, 0, 0, 0, 0, 0, 0, 0, 0, 0, 0, 0, 0, 0, 0, 0], 'coronavirus': [0, 0, 0, 0, 0, 0, 0, 0, 0, 0, 0, 0, 0, 0, 0, 0, 0, 0, 0, 0, 0, 0, 0, 0, 0, 0, 0, 0, 0, 0, 0, 0, 0, 0, 0, 0, 0, 0, 0, 0, 0, 0, 0, 0, 0, 0, 0, 0, 0, 0, 0, 1, 0, 0, 0, 0, 0, 0, 0, 0, 0, 0, 0, 0, 0, 0, 0, 0, 0, 0, 0, 0, 0, 0, 0, 0, 0, 0, 0, 0, 0, 0, 0, 0, 0, 0, 0, 0, 1, 0, 0, 0, 0, 0, 0, 0, 0, 0, 0, 0, 0, 0, 0, 0, 0, 0, 0, 0, 0, 0, 0, 0, 0, 0, 0, 0, 0, 0, 0, 0, 0, 0, 0, 0, 0, 0, 0, 0, 0, 0, 0, 0, 0, 0, 0, 0, 0, 0, 0, 0, 0, 0, 0, 0, 0, 0, 0, 0, 0, 0, 0, 0, 0, 0, 0, 0, 0, 0, 0, 0, 0, 0, 0, 0, 0, 0, 1, 0, 0, 0, 0, 0, 0, 0, 0, 0, 0, 0, 0, 0, 0, 0, 0, 0, 0, 0, 0, 0, 0, 0, 0, 0, 0, 0, 0, 0, 0, 0, 0, 0, 0, 0, 0, 1, 0, 0, 0, 1, 0, 0, 1, 0, 1, 1, 0, 0, 0, 0, 0, 1, 0, 0, 1, 0, 0, 0, 1, 0, 1, 1, 0, 1, 0, 0, 0, 0, 0, 0, 1, 1, 1, 0, 0, 0, 0, 0, 0, 0, 0, 0, 0, 0, 0, 0, 0, 0, 0, 0, 0, 1, 0, 0, 0, 0, 0, 0, 0, 0, 0, 0, 0, 0, 0, 0, 0, 0, 0, 0, 0, 0, 0, 0, 0, 0, 0, 0, 0, 0, 0, 0, 0, 0, 0, 0, 0], 'all time high': [0, 0, 0, 0, 0, 0, 0, 0, 0, 0, 0, 0, 0, 0, 0, 0, 0, 0, 0, 0, 0, 0, 0, 0, 0, 0, 0, 0, 0, 0, 0, 0, 0, 0, 0, 0, 0, 0, 0, 0, 0, 0, 0, 0, 0, 0, 0, 0, 0, 0, 0, 0, 0, 0, 0, 0, 0, 0, 0, 0, 0, 0, 0, 0, 0, 0, 0, 0, 0, 0, 0, 0, 0, 0, 0, 0, 0, 0, 0, 0, 0, 0, 0, 0, 0, 0, 0, 0, 0, 0, 0, 0, 0, 0, 0, 0, 0, 0, 0, 0, 0, 0, 0, 0, 0, 0, 0, 0, 0, 0, 0, 0, 0, 0, 0, 0, 0, 0, 0, 0, 0, 0, 0, 0, 0, 0, 0, 0, 0, 0, 0, 0, 0, 0, 0, 0, 0, 0, 0, 0, 0, 0, 0, 0, 0, 0, 0, 0, 0, 0, 0, 0, 0, 0, 0, 0, 0, 0, 0, 0, 0, 0, 0, 0, 0, 0, 0, 0, 0, 0, 0, 0, 0, 0, 0, 0, 0, 0, 0, 0, 0, 0, 0, 0, 0, 0, 0, 0, 0, 0, 0, 0, 0, 0, 0, 0, 0, 0, 0, 0, 0, 0, 0, 0, 0, 0, 0, 0, 0, 0, 0, 0, 0, 0, 0, 0, 0, 0, 0, 0, 0, 0, 0, 0, 0, 0, 0, 0, 0, 0, 0, 0, 0, 0, 0, 0, 0, 0, 0, 0, 0, 0, 0, 0, 0, 0, 0, 0, 0, 0, 0, 0, 0, 0, 0, 0, 0, 0, 0, 0, 0, 0, 0, 0, 0, 0, 0, 0, 0, 0, 0, 0, 0, 0, 0, 0, 0, 0, 0, 0, 0, 0, 0, 0, 0, 0, 0, 0, 0, 0, 0, 0, 0, 0, 0], 'new all time high': [0, 0, 0, 0, 0, 0, 0, 0, 0, 0, 0, 0, 0, 0, 0, 0, 0, 0, 0, 0, 0, 0, 0, 0, 0, 0, 0, 0, 0, 0, 0, 0, 0, 0, 0, 0, 0, 0, 0, 0, 0, 0, 0, 0, 0, 0, 0, 0, 0, 0, 0, 0, 0, 0, 0, 0, 0, 0, 0, 0, 0, 0, 0, 0, 0, 0, 0, 0, 0, 0, 0, 0, 0, 0, 0, 0, 0, 0, 0, 0, 0, 0, 0, 0, 0, 0, 0, 0, 0, 0, 0, 0, 0, 0, 0, 0, 0, 0, 0, 0, 0, 0, 0, 0, 0, 0, 0, 0, 0, 0, 0, 0, 0, 0, 0, 0, 0, 0, 0, 0, 0, 0, 0, 0, 0, 0, 0, 0, 0, 0, 0, 0, 0, 0, 0, 0, 0, 0, 0, 0, 0, 0, 0, 0, 0, 0, 0, 0, 0, 0, 0, 0, 0, 0, 0, 0, 0, 0, 0, 0, 0, 0, 0, 0, 0, 0, 0, 0, 0, 0, 0, 0, 0, 0, 0, 0, 0, 0, 0, 0, 0, 0, 0, 0, 0, 0, 0, 0, 0, 0, 0, 0, 0, 0, 0, 0, 0, 0, 0, 0, 0, 0, 0, 0, 0, 0, 0, 0, 0, 0, 0, 0, 0, 0, 0, 0, 0, 0, 0, 0, 0, 0, 0, 0, 0, 0, 0, 0, 0, 0, 0, 0, 0, 0, 0, 0, 0, 0, 0, 0, 0, 0, 0, 0, 0, 0, 0, 0, 0, 0, 0, 0, 0, 0, 0, 0, 0, 0, 0, 0, 0, 0, 0, 0, 0, 0, 0, 0, 0, 0, 0, 0, 0, 0, 0, 0, 0, 0, 0, 0, 0, 0, 0, 0, 0, 0, 0, 0, 0, 0, 0, 0, 0, 0, 0], 'china': [0, 0, 0, 0, 0, 0, 0, 0, 0, 0, 0, 0, 0, 0, 0, 0, 0, 0, 0, 0, 0, 0, 0, 0, 0, 0, 0, 0, 1, 0, 0, 0, 0, 0, 0, 0, 0, 0, 0, 0, 0, 0, 0, 0, 0, 0, 0, 0, 0, 0, 0, 1, 0, 0, 0, 0, 0, 0, 0, 0, 0, 0, 0, 0, 0, 0, 0, 0, 0, 0, 0, 0, 0, 0, 0, 0, 0, 0, 0, 0, 0, 0, 0, 0, 0, 0, 0, 0, 1, 0, 0, 1, 0, 0, 0, 0, 0, 0, 0, 0, 0, 0, 0, 0, 0, 0, 0, 0, 0, 0, 0, 0, 0, 0, 0, 0, 0, 0, 0, 0, 0, 0, 0, 0, 0, 0, 0, 0, 0, 0, 0, 0, 0, 0, 0, 1, 0, 0, 0, 0, 0, 0, 0, 0, 0, 0, 0, 0, 0, 0, 0, 0, 0, 0, 0, 0, 0, 0, 0, 0, 0, 0, 0, 0, 0, 0, 0, 0, 0, 0, 0, 0, 0, 0, 0, 0, 0, 0, 0, 0, 0, 0, 0, 0, 0, 0, 0, 0, 0, 0, 0, 0, 0, 0, 0, 0, 0, 0, 0, 0, 0, 0, 0, 1, 0, 0, 0, 0, 0, 0, 0, 0, 0, 0, 0, 0, 0, 0, 0, 0, 0, 0, 0, 0, 0, 0, 0, 0, 0, 0, 0, 0, 0, 0, 0, 0, 0, 0, 0, 0, 0, 0, 0, 0, 0, 0, 0, 0, 0, 0, 0, 0, 0, 0, 0, 0, 0, 0, 0, 0, 0, 0, 0, 0, 0, 0, 0, 0, 0, 0, 0, 0, 0, 0, 0, 0, 0, 0, 0, 0, 0, 0, 0, 0, 0, 0, 0, 0, 0, 0, 0, 0, 0, 0, 0], 'usa': [0, 0, 0, 0, 0, 0, 0, 0, 0, 0, 0, 0, 0, 0, 0, 0, 0, 0, 0, 0, 0, 0, 0, 1, 0, 0, 0, 1, 1, 0, 0, 0, 0, 0, 0, 0, 0, 0, 0, 0, 0, 0, 0, 0, 0, 0, 0, 0, 0, 0, 0, 0, 0, 0, 0, 0, 0, 0, 0, 0, 0, 0, 0, 0, 1, 0, 0, 0, 0, 0, 0, 0, 0, 0, 0, 0, 0, 0, 0, 0, 0, 0, 0, 0, 0, 0, 0, 0, 0, 0, 0, 0, 0, 0, 0, 0, 0, 0, 0, 0, 0, 0, 0, 0, 0, 0, 0, 0, 0, 0, 0, 0, 0, 0, 0, 0, 0, 0, 0, 0, 0, 0, 0, 0, 0, 0, 0, 0, 0, 0, 0, 0, 0, 0, 0, 0, 0, 0, 0, 0, 0, 0, 0, 0, 0, 0, 0, 0, 0, 0, 0, 0, 0, 0, 0, 0, 0, 0, 0, 0, 0, 0, 0, 0, 0, 0, 1, 0, 0, 0, 0, 0, 0, 0, 0, 0, 1, 0, 0, 0, 0, 0, 0, 0, 0, 0, 0, 0, 0, 0, 0, 1, 0, 0, 0, 0, 0, 0, 0, 0, 0, 0, 0, 0, 0, 0, 0, 0, 0, 0, 0, 0, 0, 0, 0, 0, 0, 0, 0, 0, 0, 0, 0, 0, 0, 0, 0, 0, 0, 0, 0, 0, 0, 0, 0, 0, 0, 0, 0, 0, 0, 0, 0, 0, 0, 0, 0, 0, 0, 0, 0, 0, 0, 0, 0, 0, 0, 0, 0, 0, 0, 0, 0, 0, 0, 0, 0, 0, 0, 0, 0, 0, 0, 0, 0, 0, 0, 1, 0, 0, 0, 0, 0, 0, 0, 0, 0, 0, 0, 0, 0, 0, 0, 0, 0], 'oil': [0, 0, 0, 0, 0, 1, 0, 0, 0, 0, 0, 0, 0, 0, 0, 0, 0, 0, 0, 0, 0, 0, 0, 0, 0, 0, 0, 0, 0, 0, 0, 0, 0, 0, 0, 0, 0, 0, 0, 0, 0, 0, 0, 0, 0, 0, 0, 0, 0, 0, 0, 0, 0, 0, 0, 0, 0, 0, 0, 0, 0, 0, 0, 0, 0, 0, 0, 0, 0, 0, 0, 0, 0, 0, 0, 0, 0, 0, 0, 0, 0, 0, 0, 0, 0, 0, 0, 0, 0, 0, 0, 0, 0, 0, 0, 0, 0, 0, 0, 0, 0, 0, 0, 0, 0, 0, 0, 0, 0, 0, 0, 0, 0, 0, 0, 0, 0, 0, 0, 0, 0, 1, 0, 0, 0, 0, 0, 0, 0, 0, 0, 0, 0, 0, 0, 0, 0, 0, 0, 0, 0, 0, 0, 0, 0, 0, 0, 0, 0, 0, 0, 0, 0, 0, 0, 0, 0, 0, 0, 0, 0, 0, 0, 0, 0, 0, 0, 0, 0, 0, 0, 0, 0, 0, 0, 0, 0, 0, 0, 0, 0, 0, 0, 0, 0, 0, 0, 0, 0, 0, 0, 0, 0, 0, 0, 0, 0, 0, 0, 0, 0, 0, 0, 0, 0, 0, 0, 0, 0, 0, 0, 0, 0, 0, 0, 0, 0, 0, 1, 0, 0, 0, 0, 0, 0, 0, 0, 0, 0, 0, 0, 0, 0, 0, 0, 0, 0, 0, 0, 0, 0, 0, 0, 0, 0, 0, 0, 0, 0, 0, 0, 0, 0, 0, 0, 0, 0, 0, 0, 0, 0, 0, 0, 0, 0, 0, 0, 0, 0, 0, 0, 0, 0, 0, 0, 0, 0, 0, 0, 0, 0, 0, 0, 0, 0, 0, 0, 0, 0, 0, 0, 0, 0, 0, 0], 'iran': [0, 0, 0, 0, 0, 0, 0, 0, 0, 0, 0, 0, 1, 0, 0, 0, 0, 0, 0, 0, 0, 0, 0, 0, 0, 0, 0, 0, 0, 0, 0, 0, 0, 0, 0, 0, 0, 0, 0, 0, 0, 0, 0, 0, 0, 0, 0, 0, 0, 0, 0, 0, 0, 0, 0, 0, 0, 0, 0, 0, 0, 0, 0, 0, 0, 0, 0, 0, 0, 0, 0, 0, 0, 0, 0, 0, 0, 0, 0, 0, 0, 0, 0, 0, 0, 0, 0, 0, 0, 0, 0, 0, 0, 0, 0, 0, 0, 0, 0, 0, 0, 0, 1, 0, 0, 0, 0, 0, 0, 0, 0, 0, 0, 0, 0, 0, 1, 1, 0, 0, 0, 0, 0, 0, 0, 0, 0, 0, 0, 0, 0, 0, 0, 0, 0, 0, 0, 0, 0, 0, 0, 0, 0, 0, 0, 0, 0, 0, 0, 0, 1, 0, 0, 0, 0, 0, 0, 0, 0, 0, 0, 0, 0, 0, 0, 0, 0, 0, 0, 0, 0, 0, 0, 0, 0, 0, 0, 0, 0, 0, 0, 0, 0, 0, 0, 0, 0, 0, 0, 0, 0, 0, 0, 0, 0, 0, 0, 0, 0, 0, 0, 0, 0, 0, 0, 0, 0, 0, 0, 0, 0, 0, 0, 0, 0, 0, 0, 0, 0, 0, 0, 0, 0, 0, 0, 0, 0, 0, 0, 0, 0, 0, 0, 0, 0, 0, 0, 0, 0, 0, 0, 0, 0, 0, 0, 0, 0, 0, 0, 0, 0, 0, 0, 0, 0, 0, 0, 0, 0, 0, 0, 0, 0, 0, 0, 0, 0, 0, 0, 0, 0, 0, 0, 0, 0, 0, 0, 0, 0, 0, 0, 0, 0, 0, 0, 0, 0, 0, 0, 0, 0, 0, 0, 0, 1], 'russia': [0, 0, 0, 0, 0, 0, 0, 0, 0, 0, 0, 0, 0, 0, 0, 0, 0, 0, 0, 0, 0, 0, 0, 0, 0, 0, 0, 0, 0, 0, 0, 0, 0, 0, 0, 0, 0, 0, 0, 0, 0, 0, 0, 0, 0, 0, 0, 0, 0, 0, 0, 0, 0, 0, 0, 0, 0, 0, 0, 0, 0, 0, 0, 0, 0, 0, 0, 0, 0, 0, 0, 0, 0, 0, 0, 0, 0, 0, 0, 0, 0, 0, 0, 0, 0, 0, 0, 0, 0, 0, 0, 0, 0, 0, 0, 0, 0, 0, 0, 0, 0, 0, 0, 0, 0, 0, 0, 0, 0, 0, 0, 0, 0, 0, 0, 0, 0, 0, 0, 0, 0, 0, 0, 0, 0, 0, 0, 0, 0, 0, 0, 0, 0, 0, 0, 0, 0, 0, 0, 0, 0, 0, 0, 0, 0, 0, 0, 0, 0, 0, 0, 0, 0, 0, 0, 0, 1, 0, 0, 0, 0, 0, 0, 0, 0, 0, 0, 0, 0, 0, 0, 0, 0, 0, 0, 0, 0, 0, 0, 0, 0, 0, 0, 0, 0, 0, 0, 0, 0, 0, 0, 0, 0, 0, 0, 0, 0, 0, 0, 0, 0, 0, 0, 0, 0, 0, 0, 0, 0, 0, 0, 0, 0, 0, 0, 0, 0, 0, 1, 0, 1, 0, 0, 0, 0, 0, 0, 0, 0, 0, 0, 0, 0, 0, 0, 0, 0, 0, 0, 0, 0, 0, 0, 0, 0, 0, 0, 0, 0, 0, 0, 0, 0, 0, 0, 0, 0, 0, 0, 0, 0, 0, 0, 0, 0, 0, 0, 0, 0, 0, 0, 0, 0, 0, 0, 0, 0, 0, 0, 0, 0, 0, 0, 0, 0, 0, 0, 0, 0, 0, 0, 0, 0, 0, 0], 'microsoft': [0, 0, 0, 0, 0, 0, 0, 0, 0, 0, 0, 0, 0, 0, 0, 0, 0, 0, 0, 0, 0, 0, 0, 0, 0, 0, 0, 0, 0, 0, 0, 0, 0, 0, 0, 0, 0, 0, 0, 0, 0, 0, 0, 0, 0, 0, 0, 0, 0, 0, 0, 0, 0, 0, 0, 0, 0, 0, 0, 0, 0, 0, 0, 0, 0, 0, 0, 0, 0, 0, 0, 0, 0, 0, 0, 0, 0, 0, 0, 0, 0, 0, 0, 0, 0, 0, 0, 0, 0, 0, 0, 0, 0, 0, 0, 0, 0, 0, 0, 0, 0, 0, 0, 0, 0, 0, 0, 0, 0, 0, 0, 0, 0, 0, 0, 0, 0, 0, 0, 0, 0, 0, 0, 0, 0, 0, 0, 0, 0, 0, 0, 0, 0, 0, 0, 0, 0, 0, 0, 0, 0, 0, 0, 0, 0, 0, 0, 0, 0, 0, 0, 0, 0, 0, 0, 0, 0, 0, 0, 0, 0, 0, 0, 0, 0, 0, 0, 0, 0, 0, 0, 0, 0, 0, 0, 0, 0, 0, 0, 0, 0, 0, 0, 0, 0, 0, 0, 0, 0, 0, 0, 0, 0, 0, 0, 0, 0, 0, 0, 0, 0, 0, 0, 0, 0, 0, 0, 0, 0, 0, 0, 0, 0, 0, 0, 0, 0, 0, 0, 0, 0, 0, 0, 0, 0, 0, 0, 0, 0, 0, 0, 0, 0, 0, 0, 0, 0, 0, 0, 0, 0, 0, 0, 0, 0, 0, 0, 0, 0, 0, 0, 0, 0, 0, 0, 0, 0, 0, 0, 0, 0, 0, 0, 0, 0, 0, 0, 0, 0, 0, 0, 0, 0, 0, 0, 0, 0, 0, 0, 0, 0, 0, 0, 0, 0, 0, 0, 0, 0, 0, 0, 0, 0, 0, 0], 'apple': [0, 0, 0, 0, 0, 0, 0, 0, 0, 0, 0, 0, 0, 0, 0, 0, 0, 0, 0, 0, 0, 0, 0, 0, 0, 0, 0, 0, 0, 0, 0, 0, 0, 0, 0, 0, 0, 0, 0, 0, 0, 0, 0, 0, 0, 0, 0, 0, 0, 0, 0, 0, 0, 0, 0, 0, 0, 0, 0, 0, 0, 0, 0, 0, 0, 0, 0, 0, 0, 0, 0, 0, 0, 0, 0, 0, 0, 0, 0, 0, 0, 0, 0, 0, 0, 0, 0, 0, 0, 0, 0, 0, 0, 0, 0, 0, 0, 0, 0, 0, 0, 0, 0, 0, 0, 0, 0, 0, 0, 0, 0, 0, 0, 0, 0, 0, 0, 0, 0, 0, 0, 0, 0, 0, 0, 0, 0, 0, 0, 0, 0, 0, 0, 0, 0, 0, 0, 0, 0, 0, 0, 0, 0, 0, 0, 0, 0, 0, 0, 0, 0, 0, 0, 0, 0, 0, 0, 0, 0, 0, 0, 0, 0, 0, 0, 0, 0, 0, 0, 0, 0, 0, 0, 0, 0, 0, 0, 0, 0, 0, 0, 0, 0, 0, 0, 0, 0, 0, 0, 0, 0, 0, 0, 0, 0, 0, 0, 0, 0, 0, 0, 0, 0, 0, 0, 0, 0, 0, 0, 0, 0, 0, 0, 0, 0, 0, 0, 0, 0, 0, 0, 0, 0, 0, 0, 0, 0, 0, 0, 0, 0, 0, 0, 0, 0, 0, 0, 0, 0, 0, 0, 0, 0, 0, 0, 0, 0, 0, 0, 0, 0, 0, 0, 0, 0, 0, 0, 0, 0, 0, 0, 0, 0, 0, 0, 0, 0, 0, 0, 0, 0, 0, 0, 0, 0, 0, 0, 0, 0, 0, 0, 0, 0, 0, 0, 0, 0, 0, 0, 0, 0, 0, 0, 0, 0], 'google': [0, 0, 0, 0, 0, 0, 0, 0, 0, 0, 0, 0, 0, 0, 0, 0, 0, 0, 0, 0, 0, 0, 0, 0, 0, 0, 0, 0, 0, 0, 0, 0, 0, 0, 0, 0, 0, 0, 0, 0, 0, 0, 0, 0, 0, 0, 0, 0, 0, 0, 0, 0, 0, 0, 0, 0, 0, 0, 0, 0, 0, 0, 0, 0, 0, 0, 0, 0, 0, 0, 0, 0, 0, 0, 0, 0, 0, 0, 0, 0, 0, 0, 0, 0, 0, 0, 0, 0, 0, 0, 0, 0, 0, 0, 0, 0, 0, 0, 0, 0, 0, 0, 0, 0, 0, 0, 0, 0, 0, 0, 0, 0, 0, 0, 0, 0, 0, 0, 0, 0, 0, 0, 0, 0, 0, 0, 0, 0, 0, 0, 0, 0, 0, 0, 0, 0, 0, 0, 0, 0, 0, 0, 0, 0, 0, 0, 0, 0, 0, 0, 0, 0, 0, 0, 0, 0, 0, 0, 0, 0, 0, 0, 0, 0, 0, 0, 0, 0, 0, 0, 0, 0, 0, 0, 0, 0, 0, 0, 0, 0, 0, 0, 0, 0, 0, 0, 0, 0, 0, 0, 0, 0, 0, 0, 0, 0, 0, 0, 0, 0, 0, 0, 0, 0, 0, 0, 0, 0, 0, 0, 0, 0, 0, 0, 0, 0, 0, 0, 0, 0, 0, 0, 0, 0, 0, 0, 0, 0, 0, 0, 0, 0, 0, 0, 0, 0, 0, 0, 0, 0, 0, 0, 0, 0, 0, 0, 0, 0, 0, 0, 0, 0, 0, 0, 0, 0, 0, 0, 0, 0, 0, 0, 0, 0, 0, 0, 0, 0, 0, 0, 0, 0, 0, 0, 0, 0, 0, 0, 0, 0, 0, 0, 0, 0, 0, 0, 0, 0, 0, 0, 0, 0, 0, 0, 0], 'amazon': [0, 0, 0, 0, 0, 0, 0, 0, 0, 0, 0, 0, 0, 0, 0, 0, 0, 0, 1, 0, 0, 0, 0, 0, 0, 0, 0, 0, 0, 0, 0, 0, 0, 0, 0, 0, 0, 0, 0, 0, 0, 0, 0, 0, 0, 0, 0, 0, 0, 0, 0, 0, 0, 0, 0, 0, 0, 0, 0, 0, 0, 0, 0, 0, 0, 0, 0, 0, 0, 0, 0, 0, 0, 0, 0, 0, 0, 0, 0, 0, 0, 0, 0, 0, 0, 0, 0, 0, 0, 0, 0, 0, 0, 0, 0, 0, 0, 0, 0, 0, 0, 0, 0, 0, 0, 0, 0, 0, 0, 0, 0, 0, 0, 0, 0, 0, 0, 0, 0, 0, 0, 0, 0, 0, 0, 0, 0, 0, 0, 0, 0, 0, 0, 0, 0, 0, 0, 0, 0, 0, 0, 0, 0, 0, 0, 0, 0, 0, 0, 0, 0, 0, 0, 0, 0, 0, 0, 0, 0, 0, 0, 0, 0, 0, 0, 0, 0, 0, 0, 0, 0, 0, 0, 0, 0, 0, 0, 0, 0, 0, 0, 0, 0, 0, 0, 0, 0, 0, 0, 0, 0, 0, 0, 0, 0, 0, 0, 0, 0, 0, 0, 0, 0, 0, 0, 0, 0, 0, 0, 0, 0, 0, 0, 0, 0, 0, 0, 0, 0, 0, 0, 0, 0, 0, 0, 0, 0, 0, 0, 0, 0, 0, 0, 0, 0, 0, 0, 0, 0, 0, 0, 0, 0, 0, 0, 0, 0, 0, 0, 0, 0, 0, 0, 0, 0, 0, 0, 0, 0, 0, 0, 0, 0, 0, 0, 0, 0, 0, 0, 0, 0, 0, 0, 0, 0, 0, 0, 0, 0, 0, 0, 0, 0, 0, 0, 0, 0, 0, 0, 0, 0, 0, 0, 0, 0], 'trade': [0, 0, 0, 0, 0, 1, 0, 0, 0, 0, 0, 0, 0, 0, 0, 0, 0, 0, 0, 0, 0, 0, 0, 0, 0, 0, 0, 0, 1, 0, 0, 0, 0, 0, 0, 1, 0, 0, 0, 0, 0, 0, 0, 0, 0, 0, 0, 0, 0, 0, 0, 0, 0, 0, 0, 0, 0, 0, 0, 0, 0, 0, 0, 0, 0, 0, 0, 0, 0, 0, 0, 0, 0, 0, 1, 0, 0, 0, 0, 0, 0, 0, 0, 0, 0, 0, 1, 0, 0, 0, 0, 1, 0, 0, 0, 0, 0, 0, 0, 0, 0, 0, 0, 0, 0, 0, 0, 0, 0, 0, 0, 0, 0, 0, 0, 0, 0, 0, 0, 0, 0, 0, 1, 0, 0, 0, 0, 0, 0, 0, 0, 0, 0, 0, 0, 1, 0, 0, 0, 0, 0, 0, 0, 0, 0, 0, 0, 0, 0, 0, 0, 0, 0, 0, 0, 0, 0, 0, 0, 0, 0, 0, 0, 0, 0, 0, 0, 0, 0, 0, 0, 0, 0, 0, 0, 0, 0, 0, 0, 0, 0, 0, 0, 0, 0, 0, 0, 0, 0, 0, 0, 0, 0, 0, 0, 0, 0, 0, 0, 0, 0, 0, 0, 0, 0, 0, 0, 0, 0, 0, 0, 0, 0, 0, 0, 0, 0, 0, 0, 0, 0, 0, 0, 0, 0, 0, 0, 0, 0, 0, 0, 0, 0, 0, 0, 0, 0, 0, 0, 0, 0, 0, 0, 0, 0, 0, 0, 0, 0, 0, 0, 0, 0, 0, 0, 0, 0, 0, 0, 0, 0, 0, 0, 0, 0, 0, 0, 0, 0, 0, 0, 0, 0, 0, 0, 0, 0, 0, 0, 0, 0, 0, 0, 0, 0, 0, 0, 0, 0, 0, 0, 0, 0, 0, 0], 'trade deal': [0, 0, 0, 0, 0, 0, 0, 0, 0, 0, 0, 0, 0, 0, 0, 0, 0, 0, 0, 0, 0, 0, 0, 0, 0, 0, 0, 0, 1, 0, 0, 0, 0, 0, 0, 0, 0, 0, 0, 0, 0, 0, 0, 0, 0, 0, 0, 0, 0, 0, 0, 0, 0, 0, 0, 0, 0, 0, 0, 0, 0, 0, 0, 0, 0, 0, 0, 0, 0, 0, 0, 0, 0, 0, 1, 0, 0, 0, 0, 0, 0, 0, 0, 0, 0, 0, 1, 0, 0, 0, 0, 1, 0, 0, 0, 0, 0, 0, 0, 0, 0, 0, 0, 0, 0, 0, 0, 0, 0, 0, 0, 0, 0, 0, 0, 0, 0, 0, 0, 0, 0, 0, 0, 0, 0, 0, 0, 0, 0, 0, 0, 0, 0, 0, 0, 0, 0, 0, 0, 0, 0, 0, 0, 0, 0, 0, 0, 0, 0, 0, 0, 0, 0, 0, 0, 0, 0, 0, 0, 0, 0, 0, 0, 0, 0, 0, 0, 0, 0, 0, 0, 0, 0, 0, 0, 0, 0, 0, 0, 0, 0, 0, 0, 0, 0, 0, 0, 0, 0, 0, 0, 0, 0, 0, 0, 0, 0, 0, 0, 0, 0, 0, 0, 0, 0, 0, 0, 0, 0, 0, 0, 0, 0, 0, 0, 0, 0, 0, 0, 0, 0, 0, 0, 0, 0, 0, 0, 0, 0, 0, 0, 0, 0, 0, 0, 0, 0, 0, 0, 0, 0, 0, 0, 0, 0, 0, 0, 0, 0, 0, 0, 0, 0, 0, 0, 0, 0, 0, 0, 0, 0, 0, 0, 0, 0, 0, 0, 0, 0, 0, 0, 0, 0, 0, 0, 0, 0, 0, 0, 0, 0, 0, 0, 0, 0, 0, 0, 0, 0, 0, 0, 0, 0, 0, 0], 'make america great again': [0, 0, 0, 0, 0, 0, 0, 0, 0, 0, 0, 0, 0, 0, 0, 0, 0, 0, 0, 0, 0, 0, 0, 0, 0, 0, 0, 0, 0, 0, 0, 0, 0, 0, 0, 0, 0, 0, 0, 0, 0, 0, 0, 0, 0, 0, 0, 0, 0, 0, 0, 0, 0, 0, 0, 0, 0, 0, 0, 0, 0, 0, 0, 0, 0, 0, 0, 0, 0, 0, 0, 0, 0, 0, 0, 0, 0, 0, 0, 0, 0, 0, 0, 0, 0, 0, 0, 0, 0, 0, 0, 0, 1, 0, 0, 0, 0, 0, 0, 0, 0, 0, 0, 0, 0, 0, 0, 0, 0, 0, 0, 0, 0, 0, 0, 0, 0, 0, 0, 0, 0, 0, 0, 0, 0, 0, 0, 0, 0, 0, 0, 0, 0, 0, 0, 0, 0, 0, 0, 0, 0, 0, 0, 0, 0, 0, 0, 0, 0, 0, 0, 0, 0, 0, 0, 0, 0, 0, 0, 0, 0, 0, 0, 0, 0, 0, 0, 0, 0, 0, 0, 0, 0, 0, 0, 0, 0, 0, 0, 0, 0, 0, 0, 0, 0, 0, 0, 0, 0, 0, 0, 0, 0, 0, 0, 0, 0, 0, 0, 0, 0, 0, 0, 0, 0, 0, 0, 0, 0, 0, 0, 0, 0, 0, 0, 0, 0, 0, 0, 0, 0, 0, 0, 0, 0, 0, 0, 0, 0, 0, 0, 0, 0, 0, 0, 0, 0, 0, 0, 0, 0, 0, 0, 0, 0, 0, 0, 0, 0, 0, 0, 0, 0, 0, 0, 0, 0, 0, 0, 0, 0, 0, 0, 0, 0, 0, 0, 0, 0, 0, 0, 0, 0, 0, 0, 0, 0, 0, 0, 0, 0, 0, 0, 0, 0, 0, 0, 0, 0, 0, 0, 0, 0, 0, 0]}\n"
          ],
          "name": "stdout"
        }
      ]
    },
    {
      "cell_type": "code",
      "metadata": {
        "id": "QRyo3wuh3dBc",
        "colab": {
          "base_uri": "https://localhost:8080/"
        },
        "outputId": "ef4336a9-6f45-4223-ed5f-0abf363695cb"
      },
      "source": [
        "Hate = hate_speech_detector(List_of_Tweets)"
      ],
      "execution_count": 43,
      "outputs": [
        {
          "output_type": "stream",
          "text": [
            "/usr/local/lib/python3.6/dist-packages/sklearn/utils/deprecation.py:144: FutureWarning:\n",
            "\n",
            "The sklearn.linear_model.logistic module is  deprecated in version 0.22 and will be removed in version 0.24. The corresponding classes / functions should instead be imported from sklearn.linear_model. Anything that cannot be imported from sklearn.linear_model is now part of the private API.\n",
            "\n",
            "/usr/local/lib/python3.6/dist-packages/sklearn/base.py:318: UserWarning:\n",
            "\n",
            "Trying to unpickle estimator LogisticRegression from version 0.19.1 when using version 0.22.2.post1. This might lead to breaking code or invalid results. Use at your own risk.\n",
            "\n",
            "/usr/local/lib/python3.6/dist-packages/sklearn/base.py:318: UserWarning:\n",
            "\n",
            "Trying to unpickle estimator TfidfTransformer from version 0.19.1 when using version 0.22.2.post1. This might lead to breaking code or invalid results. Use at your own risk.\n",
            "\n",
            "/usr/local/lib/python3.6/dist-packages/sklearn/base.py:318: UserWarning:\n",
            "\n",
            "Trying to unpickle estimator TfidfVectorizer from version 0.19.1 when using version 0.22.2.post1. This might lead to breaking code or invalid results. Use at your own risk.\n",
            "\n"
          ],
          "name": "stderr"
        }
      ]
    },
    {
      "cell_type": "code",
      "metadata": {
        "id": "sX8gJFHoxerD"
      },
      "source": [
        "Polarity, Subjectivity = Polarity_Calculator(List_of_Tweets)"
      ],
      "execution_count": 44,
      "outputs": []
    },
    {
      "cell_type": "code",
      "metadata": {
        "colab": {
          "base_uri": "https://localhost:8080/",
          "height": 660
        },
        "id": "QpkPH1RlI4LZ",
        "outputId": "bdf8645a-3dff-43fc-cf09-c8d1cdb8ef0b"
      },
      "source": [
        "df1 = pd.DataFrame.from_dict(important_words_df())\r\n",
        "df2 = pd.DataFrame.from_dict({'Polarity': Polarity, 'Subjectivity' : Subjectivity, 'Hatespeech Severity': Hate, 'Length of Tweet' : Tweet_len})\r\n",
        "final_df = pd.concat([combo_df, df2, df1], axis=1, sort=False).dropna(subset = [\"content\"])\r\n",
        "final_df = final_df.drop(columns=[\"content\", \"id\",\"mentions\", \"hashtags\", \"Close\", \"Stock_Date_time\"])\r\n",
        "final_df                         "
      ],
      "execution_count": 45,
      "outputs": [
        {
          "output_type": "execute_result",
          "data": {
            "text/html": [
              "<div>\n",
              "<style scoped>\n",
              "    .dataframe tbody tr th:only-of-type {\n",
              "        vertical-align: middle;\n",
              "    }\n",
              "\n",
              "    .dataframe tbody tr th {\n",
              "        vertical-align: top;\n",
              "    }\n",
              "\n",
              "    .dataframe thead th {\n",
              "        text-align: right;\n",
              "    }\n",
              "</style>\n",
              "<table border=\"1\" class=\"dataframe\">\n",
              "  <thead>\n",
              "    <tr style=\"text-align: right;\">\n",
              "      <th></th>\n",
              "      <th>Date_time</th>\n",
              "      <th>Open</th>\n",
              "      <th>%Change</th>\n",
              "      <th>Date</th>\n",
              "      <th>Time</th>\n",
              "      <th>Polarity</th>\n",
              "      <th>Subjectivity</th>\n",
              "      <th>Hatespeech Severity</th>\n",
              "      <th>Length of Tweet</th>\n",
              "      <th>stock</th>\n",
              "      <th>market</th>\n",
              "      <th>stock market</th>\n",
              "      <th>stocks</th>\n",
              "      <th>stock marketscovid-19</th>\n",
              "      <th>covid</th>\n",
              "      <th>coronavirus</th>\n",
              "      <th>all time high</th>\n",
              "      <th>new all time high</th>\n",
              "      <th>china</th>\n",
              "      <th>usa</th>\n",
              "      <th>oil</th>\n",
              "      <th>iran</th>\n",
              "      <th>russia</th>\n",
              "      <th>microsoft</th>\n",
              "      <th>apple</th>\n",
              "      <th>google</th>\n",
              "      <th>amazon</th>\n",
              "      <th>trade</th>\n",
              "      <th>trade deal</th>\n",
              "      <th>make america great again</th>\n",
              "    </tr>\n",
              "  </thead>\n",
              "  <tbody>\n",
              "    <tr>\n",
              "      <th>0</th>\n",
              "      <td>2020-01-03 11:27:00</td>\n",
              "      <td>28631.2</td>\n",
              "      <td>0.039118</td>\n",
              "      <td>1/3/2020</td>\n",
              "      <td>11:27</td>\n",
              "      <td>0.096591</td>\n",
              "      <td>0.201136</td>\n",
              "      <td>1</td>\n",
              "      <td>274</td>\n",
              "      <td>0</td>\n",
              "      <td>0</td>\n",
              "      <td>0</td>\n",
              "      <td>0</td>\n",
              "      <td>0</td>\n",
              "      <td>0</td>\n",
              "      <td>0</td>\n",
              "      <td>0</td>\n",
              "      <td>0</td>\n",
              "      <td>0</td>\n",
              "      <td>0</td>\n",
              "      <td>0</td>\n",
              "      <td>0</td>\n",
              "      <td>0</td>\n",
              "      <td>0</td>\n",
              "      <td>0</td>\n",
              "      <td>0</td>\n",
              "      <td>0</td>\n",
              "      <td>0</td>\n",
              "      <td>0</td>\n",
              "      <td>0</td>\n",
              "    </tr>\n",
              "    <tr>\n",
              "      <th>1</th>\n",
              "      <td>2020-01-03 11:27:00</td>\n",
              "      <td>28631.2</td>\n",
              "      <td>0.039118</td>\n",
              "      <td>1/3/2020</td>\n",
              "      <td>11:27</td>\n",
              "      <td>0.050000</td>\n",
              "      <td>0.300000</td>\n",
              "      <td>0</td>\n",
              "      <td>280</td>\n",
              "      <td>0</td>\n",
              "      <td>0</td>\n",
              "      <td>0</td>\n",
              "      <td>0</td>\n",
              "      <td>0</td>\n",
              "      <td>0</td>\n",
              "      <td>0</td>\n",
              "      <td>0</td>\n",
              "      <td>0</td>\n",
              "      <td>0</td>\n",
              "      <td>0</td>\n",
              "      <td>0</td>\n",
              "      <td>0</td>\n",
              "      <td>0</td>\n",
              "      <td>0</td>\n",
              "      <td>0</td>\n",
              "      <td>0</td>\n",
              "      <td>0</td>\n",
              "      <td>0</td>\n",
              "      <td>0</td>\n",
              "      <td>0</td>\n",
              "    </tr>\n",
              "    <tr>\n",
              "      <th>2</th>\n",
              "      <td>2020-01-03 11:27:00</td>\n",
              "      <td>28631.2</td>\n",
              "      <td>0.039118</td>\n",
              "      <td>1/3/2020</td>\n",
              "      <td>11:27</td>\n",
              "      <td>-0.066667</td>\n",
              "      <td>0.088889</td>\n",
              "      <td>0</td>\n",
              "      <td>276</td>\n",
              "      <td>0</td>\n",
              "      <td>0</td>\n",
              "      <td>0</td>\n",
              "      <td>0</td>\n",
              "      <td>0</td>\n",
              "      <td>0</td>\n",
              "      <td>0</td>\n",
              "      <td>0</td>\n",
              "      <td>0</td>\n",
              "      <td>0</td>\n",
              "      <td>0</td>\n",
              "      <td>0</td>\n",
              "      <td>0</td>\n",
              "      <td>0</td>\n",
              "      <td>0</td>\n",
              "      <td>0</td>\n",
              "      <td>0</td>\n",
              "      <td>0</td>\n",
              "      <td>0</td>\n",
              "      <td>0</td>\n",
              "      <td>0</td>\n",
              "    </tr>\n",
              "    <tr>\n",
              "      <th>3</th>\n",
              "      <td>2020-01-06 11:02:00</td>\n",
              "      <td>28547.9</td>\n",
              "      <td>0.010509</td>\n",
              "      <td>1/6/2020</td>\n",
              "      <td>11:02</td>\n",
              "      <td>0.000000</td>\n",
              "      <td>0.000000</td>\n",
              "      <td>1</td>\n",
              "      <td>26</td>\n",
              "      <td>0</td>\n",
              "      <td>0</td>\n",
              "      <td>0</td>\n",
              "      <td>0</td>\n",
              "      <td>0</td>\n",
              "      <td>0</td>\n",
              "      <td>0</td>\n",
              "      <td>0</td>\n",
              "      <td>0</td>\n",
              "      <td>0</td>\n",
              "      <td>0</td>\n",
              "      <td>0</td>\n",
              "      <td>0</td>\n",
              "      <td>0</td>\n",
              "      <td>0</td>\n",
              "      <td>0</td>\n",
              "      <td>0</td>\n",
              "      <td>0</td>\n",
              "      <td>0</td>\n",
              "      <td>0</td>\n",
              "      <td>0</td>\n",
              "    </tr>\n",
              "    <tr>\n",
              "      <th>4</th>\n",
              "      <td>2020-01-06 11:02:00</td>\n",
              "      <td>28547.9</td>\n",
              "      <td>0.010509</td>\n",
              "      <td>1/6/2020</td>\n",
              "      <td>11:02</td>\n",
              "      <td>0.000000</td>\n",
              "      <td>0.000000</td>\n",
              "      <td>1</td>\n",
              "      <td>26</td>\n",
              "      <td>0</td>\n",
              "      <td>0</td>\n",
              "      <td>0</td>\n",
              "      <td>0</td>\n",
              "      <td>0</td>\n",
              "      <td>0</td>\n",
              "      <td>0</td>\n",
              "      <td>0</td>\n",
              "      <td>0</td>\n",
              "      <td>0</td>\n",
              "      <td>0</td>\n",
              "      <td>0</td>\n",
              "      <td>0</td>\n",
              "      <td>0</td>\n",
              "      <td>0</td>\n",
              "      <td>0</td>\n",
              "      <td>0</td>\n",
              "      <td>0</td>\n",
              "      <td>0</td>\n",
              "      <td>0</td>\n",
              "      <td>0</td>\n",
              "    </tr>\n",
              "    <tr>\n",
              "      <th>...</th>\n",
              "      <td>...</td>\n",
              "      <td>...</td>\n",
              "      <td>...</td>\n",
              "      <td>...</td>\n",
              "      <td>...</td>\n",
              "      <td>...</td>\n",
              "      <td>...</td>\n",
              "      <td>...</td>\n",
              "      <td>...</td>\n",
              "      <td>...</td>\n",
              "      <td>...</td>\n",
              "      <td>...</td>\n",
              "      <td>...</td>\n",
              "      <td>...</td>\n",
              "      <td>...</td>\n",
              "      <td>...</td>\n",
              "      <td>...</td>\n",
              "      <td>...</td>\n",
              "      <td>...</td>\n",
              "      <td>...</td>\n",
              "      <td>...</td>\n",
              "      <td>...</td>\n",
              "      <td>...</td>\n",
              "      <td>...</td>\n",
              "      <td>...</td>\n",
              "      <td>...</td>\n",
              "      <td>...</td>\n",
              "      <td>...</td>\n",
              "      <td>...</td>\n",
              "      <td>...</td>\n",
              "    </tr>\n",
              "    <tr>\n",
              "      <th>290</th>\n",
              "      <td>2020-03-31 14:52:00</td>\n",
              "      <td>22180.8</td>\n",
              "      <td>-0.029305</td>\n",
              "      <td>3/31/2020</td>\n",
              "      <td>14:52</td>\n",
              "      <td>0.141023</td>\n",
              "      <td>0.334091</td>\n",
              "      <td>0</td>\n",
              "      <td>275</td>\n",
              "      <td>0</td>\n",
              "      <td>0</td>\n",
              "      <td>0</td>\n",
              "      <td>0</td>\n",
              "      <td>0</td>\n",
              "      <td>0</td>\n",
              "      <td>0</td>\n",
              "      <td>0</td>\n",
              "      <td>0</td>\n",
              "      <td>0</td>\n",
              "      <td>0</td>\n",
              "      <td>0</td>\n",
              "      <td>0</td>\n",
              "      <td>0</td>\n",
              "      <td>0</td>\n",
              "      <td>0</td>\n",
              "      <td>0</td>\n",
              "      <td>0</td>\n",
              "      <td>0</td>\n",
              "      <td>0</td>\n",
              "      <td>0</td>\n",
              "    </tr>\n",
              "    <tr>\n",
              "      <th>291</th>\n",
              "      <td>2020-03-31 15:27:00</td>\n",
              "      <td>21910.2</td>\n",
              "      <td>0.121861</td>\n",
              "      <td>3/31/2020</td>\n",
              "      <td>15:27</td>\n",
              "      <td>0.000000</td>\n",
              "      <td>0.050000</td>\n",
              "      <td>1</td>\n",
              "      <td>70</td>\n",
              "      <td>0</td>\n",
              "      <td>0</td>\n",
              "      <td>0</td>\n",
              "      <td>0</td>\n",
              "      <td>0</td>\n",
              "      <td>0</td>\n",
              "      <td>0</td>\n",
              "      <td>0</td>\n",
              "      <td>0</td>\n",
              "      <td>0</td>\n",
              "      <td>0</td>\n",
              "      <td>0</td>\n",
              "      <td>0</td>\n",
              "      <td>0</td>\n",
              "      <td>0</td>\n",
              "      <td>0</td>\n",
              "      <td>0</td>\n",
              "      <td>0</td>\n",
              "      <td>0</td>\n",
              "      <td>0</td>\n",
              "      <td>0</td>\n",
              "    </tr>\n",
              "    <tr>\n",
              "      <th>292</th>\n",
              "      <td>2020-03-31 15:56:00</td>\n",
              "      <td>21888.3</td>\n",
              "      <td>0.180919</td>\n",
              "      <td>3/31/2020</td>\n",
              "      <td>15:56</td>\n",
              "      <td>0.800000</td>\n",
              "      <td>0.750000</td>\n",
              "      <td>0</td>\n",
              "      <td>94</td>\n",
              "      <td>0</td>\n",
              "      <td>0</td>\n",
              "      <td>0</td>\n",
              "      <td>0</td>\n",
              "      <td>0</td>\n",
              "      <td>0</td>\n",
              "      <td>0</td>\n",
              "      <td>0</td>\n",
              "      <td>0</td>\n",
              "      <td>0</td>\n",
              "      <td>0</td>\n",
              "      <td>0</td>\n",
              "      <td>0</td>\n",
              "      <td>0</td>\n",
              "      <td>0</td>\n",
              "      <td>0</td>\n",
              "      <td>0</td>\n",
              "      <td>0</td>\n",
              "      <td>0</td>\n",
              "      <td>0</td>\n",
              "      <td>0</td>\n",
              "    </tr>\n",
              "    <tr>\n",
              "      <th>293</th>\n",
              "      <td>2020-04-01 11:36:00</td>\n",
              "      <td>21339.4</td>\n",
              "      <td>-0.267112</td>\n",
              "      <td>4/1/2020</td>\n",
              "      <td>11:36</td>\n",
              "      <td>0.216000</td>\n",
              "      <td>0.410667</td>\n",
              "      <td>0</td>\n",
              "      <td>237</td>\n",
              "      <td>0</td>\n",
              "      <td>0</td>\n",
              "      <td>0</td>\n",
              "      <td>0</td>\n",
              "      <td>0</td>\n",
              "      <td>0</td>\n",
              "      <td>0</td>\n",
              "      <td>0</td>\n",
              "      <td>0</td>\n",
              "      <td>0</td>\n",
              "      <td>0</td>\n",
              "      <td>0</td>\n",
              "      <td>0</td>\n",
              "      <td>0</td>\n",
              "      <td>0</td>\n",
              "      <td>0</td>\n",
              "      <td>0</td>\n",
              "      <td>0</td>\n",
              "      <td>0</td>\n",
              "      <td>0</td>\n",
              "      <td>0</td>\n",
              "    </tr>\n",
              "    <tr>\n",
              "      <th>294</th>\n",
              "      <td>2020-04-01 12:05:00</td>\n",
              "      <td>21162.2</td>\n",
              "      <td>-0.029298</td>\n",
              "      <td>4/1/2020</td>\n",
              "      <td>12:05</td>\n",
              "      <td>-0.325000</td>\n",
              "      <td>0.650000</td>\n",
              "      <td>0</td>\n",
              "      <td>173</td>\n",
              "      <td>0</td>\n",
              "      <td>0</td>\n",
              "      <td>0</td>\n",
              "      <td>0</td>\n",
              "      <td>0</td>\n",
              "      <td>0</td>\n",
              "      <td>0</td>\n",
              "      <td>0</td>\n",
              "      <td>0</td>\n",
              "      <td>0</td>\n",
              "      <td>0</td>\n",
              "      <td>0</td>\n",
              "      <td>1</td>\n",
              "      <td>0</td>\n",
              "      <td>0</td>\n",
              "      <td>0</td>\n",
              "      <td>0</td>\n",
              "      <td>0</td>\n",
              "      <td>0</td>\n",
              "      <td>0</td>\n",
              "      <td>0</td>\n",
              "    </tr>\n",
              "  </tbody>\n",
              "</table>\n",
              "<p>295 rows × 30 columns</p>\n",
              "</div>"
            ],
            "text/plain": [
              "              Date_time     Open  ...  trade deal make america great again\n",
              "0   2020-01-03 11:27:00  28631.2  ...           0                        0\n",
              "1   2020-01-03 11:27:00  28631.2  ...           0                        0\n",
              "2   2020-01-03 11:27:00  28631.2  ...           0                        0\n",
              "3   2020-01-06 11:02:00  28547.9  ...           0                        0\n",
              "4   2020-01-06 11:02:00  28547.9  ...           0                        0\n",
              "..                  ...      ...  ...         ...                      ...\n",
              "290 2020-03-31 14:52:00  22180.8  ...           0                        0\n",
              "291 2020-03-31 15:27:00  21910.2  ...           0                        0\n",
              "292 2020-03-31 15:56:00  21888.3  ...           0                        0\n",
              "293 2020-04-01 11:36:00  21339.4  ...           0                        0\n",
              "294 2020-04-01 12:05:00  21162.2  ...           0                        0\n",
              "\n",
              "[295 rows x 30 columns]"
            ]
          },
          "metadata": {
            "tags": []
          },
          "execution_count": 45
        }
      ]
    },
    {
      "cell_type": "markdown",
      "metadata": {
        "id": "OClLgiYGUjtu"
      },
      "source": [
        "### 3.2. Data Exploration\n"
      ]
    },
    {
      "cell_type": "code",
      "metadata": {
        "id": "BU6HyKa_AlJu"
      },
      "source": [
        "sorted_combo_df = combo_df.sort_values(by=\"Time\")"
      ],
      "execution_count": 47,
      "outputs": []
    },
    {
      "cell_type": "code",
      "metadata": {
        "colab": {
          "base_uri": "https://localhost:8080/",
          "height": 542
        },
        "id": "SjmVUqkznH8k",
        "outputId": "2dd3e534-a9e4-4cbe-a08a-24f1f5649a99"
      },
      "source": [
        "# %Change by Time of Day Graph\n",
        "\n",
        "\n",
        "fig = px.scatter(x=sorted_combo_df['Time'], y = sorted_combo_df['%Change'],range_y=[-.10,.10])\n",
        "fig.update_yaxes(dtick=0.01)\n",
        "\n",
        "fig.update_layout(template='plotly_white')\n",
        "fig.update_layout(title='?')\n",
        "fig.update_layout(yaxis_tickformat = '%')\n",
        "fig.update_layout(\n",
        "    title=\"% Change Distribution by time of day\",\n",
        "    xaxis_title=\"Time\",\n",
        "    yaxis_title=\"% Change\"\n",
        "    )\n",
        "\n",
        "fig.update_xaxes(title_font={\"size\":18, \"family\": \"Courier\", \"color\":\"Red\"},\n",
        "                  tickfont = {\"size\":15, \"family\": \"Courier\", \"color\":\"Red\"})\n",
        "fig.update_yaxes(title_font={\"size\":18, \"family\": \"Courier\", \"color\":\"Red\"},\n",
        "                  tickfont = {\"size\":15, \"family\": \"Courier\", \"color\":\"Red\"})\n",
        "\n",
        "\n",
        "\n",
        "\n",
        "fig.show()\n"
      ],
      "execution_count": 48,
      "outputs": [
        {
          "output_type": "display_data",
          "data": {
            "text/html": [
              "<html>\n",
              "<head><meta charset=\"utf-8\" /></head>\n",
              "<body>\n",
              "    <div>\n",
              "            <script src=\"https://cdnjs.cloudflare.com/ajax/libs/mathjax/2.7.5/MathJax.js?config=TeX-AMS-MML_SVG\"></script><script type=\"text/javascript\">if (window.MathJax) {MathJax.Hub.Config({SVG: {font: \"STIX-Web\"}});}</script>\n",
              "                <script type=\"text/javascript\">window.PlotlyConfig = {MathJaxConfig: 'local'};</script>\n",
              "        <script src=\"https://cdn.plot.ly/plotly-latest.min.js\"></script>    \n",
              "            <div id=\"960b5daf-ec9e-4d55-8610-1bc5ec73274f\" class=\"plotly-graph-div\" style=\"height:525px; width:100%;\"></div>\n",
              "            <script type=\"text/javascript\">\n",
              "                \n",
              "                    window.PLOTLYENV=window.PLOTLYENV || {};\n",
              "                    \n",
              "                if (document.getElementById(\"960b5daf-ec9e-4d55-8610-1bc5ec73274f\")) {\n",
              "                    Plotly.newPlot(\n",
              "                        '960b5daf-ec9e-4d55-8610-1bc5ec73274f',\n",
              "                        [{\"hoverlabel\": {\"namelength\": 0}, \"hovertemplate\": \"x=%{x}<br>y=%{y}\", \"legendgroup\": \"\", \"marker\": {\"color\": \"#636efa\", \"symbol\": \"circle\"}, \"mode\": \"markers\", \"name\": \"\", \"showlegend\": false, \"type\": \"scatter\", \"x\": [\"09:28\", \"09:28\", \"09:29\", \"09:29\", \"09:29\", \"09:29\", \"09:29\", \"09:29\", \"09:30\", \"09:30\", \"09:31\", \"09:31\", \"09:31\", \"09:31\", \"09:32\", \"09:33\", \"09:33\", \"09:33\", \"09:35\", \"09:35\", \"09:36\", \"09:36\", \"09:36\", \"09:37\", \"09:37\", \"09:38\", \"09:39\", \"09:39\", \"09:40\", \"09:42\", \"09:42\", \"09:44\", \"09:44\", \"09:44\", \"09:44\", \"09:44\", \"09:47\", \"09:47\", \"09:47\", \"09:47\", \"09:47\", \"09:47\", \"09:47\", \"09:48\", \"09:48\", \"09:49\", \"09:49\", \"09:49\", \"09:49\", \"09:51\", \"09:51\", \"09:51\", \"09:52\", \"09:52\", \"09:53\", \"09:53\", \"09:54\", \"09:55\", \"09:55\", \"09:55\", \"09:57\", \"09:59\", \"09:59\", \"10:00\", \"10:00\", \"10:01\", \"10:02\", \"10:04\", \"10:04\", \"10:06\", \"10:09\", \"10:10\", \"10:13\", \"10:15\", \"10:15\", \"10:16\", \"10:16\", \"10:17\", \"10:17\", \"10:19\", \"10:20\", \"10:21\", \"10:22\", \"10:23\", \"10:29\", \"10:31\", \"10:31\", \"10:34\", \"10:34\", \"10:36\", \"10:36\", \"10:39\", \"10:42\", \"10:43\", \"10:45\", \"10:45\", \"10:45\", \"10:45\", \"10:50\", \"10:51\", \"10:52\", \"10:52\", \"10:56\", \"11:01\", \"11:02\", \"11:02\", \"11:03\", \"11:04\", \"11:05\", \"11:09\", \"11:10\", \"11:12\", \"11:13\", \"11:16\", \"11:27\", \"11:27\", \"11:27\", \"11:30\", \"11:31\", \"11:34\", \"11:34\", \"11:36\", \"11:44\", \"11:46\", \"11:51\", \"11:59\", \"12:03\", \"12:05\", \"12:05\", \"12:07\", \"12:10\", \"12:11\", \"12:11\", \"12:11\", \"12:13\", \"12:18\", \"12:18\", \"12:23\", \"12:23\", \"12:24\", \"12:26\", \"12:26\", \"12:28\", \"12:30\", \"12:30\", \"12:32\", \"12:32\", \"12:36\", \"12:38\", \"12:46\", \"12:56\", \"13:01\", \"13:01\", \"13:02\", \"13:02\", \"13:02\", \"13:02\", \"13:05\", \"13:08\", \"13:08\", \"13:09\", \"13:12\", \"13:21\", \"13:23\", \"13:24\", \"13:30\", \"13:30\", \"13:31\", \"13:32\", \"13:40\", \"13:41\", \"13:41\", \"13:45\", \"13:48\", \"13:50\", \"13:51\", \"13:52\", \"13:52\", \"13:55\", \"13:55\", \"13:58\", \"13:59\", \"14:00\", \"14:01\", \"14:01\", \"14:01\", \"14:02\", \"14:02\", \"14:02\", \"14:03\", \"14:06\", \"14:08\", \"14:10\", \"14:10\", \"14:11\", \"14:13\", \"14:14\", \"14:14\", \"14:17\", \"14:17\", \"14:18\", \"14:18\", \"14:20\", \"14:24\", \"14:25\", \"14:26\", \"14:28\", \"14:31\", \"14:31\", \"14:34\", \"14:34\", \"14:34\", \"14:35\", \"14:37\", \"14:38\", \"14:39\", \"14:41\", \"14:43\", \"14:44\", \"14:50\", \"14:50\", \"14:51\", \"14:51\", \"14:51\", \"14:52\", \"14:52\", \"14:57\", \"14:59\", \"15:01\", \"15:01\", \"15:02\", \"15:02\", \"15:03\", \"15:04\", \"15:04\", \"15:06\", \"15:08\", \"15:08\", \"15:10\", \"15:10\", \"15:11\", \"15:12\", \"15:13\", \"15:13\", \"15:14\", \"15:16\", \"15:16\", \"15:18\", \"15:18\", \"15:18\", \"15:18\", \"15:18\", \"15:20\", \"15:21\", \"15:22\", \"15:25\", \"15:27\", \"15:28\", \"15:29\", \"15:29\", \"15:29\", \"15:31\", \"15:32\", \"15:32\", \"15:33\", \"15:34\", \"15:42\", \"15:43\", \"15:44\", \"15:46\", \"15:47\", \"15:49\", \"15:49\", \"15:50\", \"15:50\", \"15:50\", \"15:50\", \"15:53\", \"15:56\", \"15:57\", \"15:57\", \"15:57\", \"15:58\", \"15:58\", \"16:00\", \"16:00\", \"16:00\", \"16:00\", \"16:01\", \"16:04\", \"16:04\", \"16:07\", \"16:08\", \"16:10\", \"16:11\"], \"xaxis\": \"x\", \"y\": [-0.11249731908367089, -0.43074180953998065, 0.03515958354667337, 0.0006826008457361255, 0.0006826008457361255, 0.0006826008457361255, -0.07416142316232222, 0.0006826008457361255, -0.2663121130338064, -0.11879730068242722, 0.013644519337696615, 0.013644519337696615, 0.013644519337696615, -0.08593971104928766, -0.4539534603599904, -0.019719225899306192, -0.11244275950158533, 0.021050379424458754, -0.004774262632190052, -0.004774262632190052, -0.05023102832548698, 0.0, 0.0, -0.010251503553859731, 0.03904185079102174, -0.03194547971462347, -0.026512706912484862, 0.01489177489177873, -0.09866070922307513, -0.013060744707338312, -0.010918632304823817, -0.16220500751781275, 0.0, -0.07085397939565752, 0.013982591673356026, 0.013982591673356026, 0.15278733178702986, -0.07036880369080123, -0.06254192754918675, 0.001038910667539028, 0.0041614936988176865, -0.07659018808542362, -0.01211856806999645, 0.07466603917025694, -0.15902918797250365, -0.0031203952500669097, 0.0030653637735467143, 0.00480043889727888, -0.23829795330120307, -0.0225095409759013, 0.0, -0.04089545908939618, -0.0617243280544133, 0.3428887455064977, 0.02112876074622516, 0.0034258829261668566, -0.0473000735778939, 0.10800697752189059, -0.031091159979745875, 0.37736197224682577, 0.1179670223378837, -0.020557590376302226, -0.00034680316839397207, -0.4034415443568862, -0.0051827972593399, -0.021507799137632233, 0.017882281322534332, 0.005447142292980267, 0.005447142292980267, -0.18125333464511506, 0.018026012923266777, 0.07054727236177616, 0.01837425939601456, 0.015820063968075004, 0.008389261744956578, 0.028157571617182242, -0.024995035232722174, 0.052512581139230186, -0.005118126356307151, 0.004827935816043016, -0.1171229352977865, -0.014670310362363548, -0.16740354457166484, 0.07146347985651502, -0.17587267003333906, -0.050987236081179166, -0.07995193640816245, 0.021569876127269794, 0.014408402373589091, -0.23731561618274277, -0.026363813782459555, 0.020065979661954003, -0.027293913457293595, 0.03070262371407395, -0.022299858767560465, 0.04260554446535725, -0.026716263011328234, 0.237211173432339, -0.02119571477939841, 0.0035035105175440506, 0.010860464057116381, 0.010860464057116381, 0.005487363630440889, 0.015520961057902127, 0.010508653876462049, 0.010508653876462049, -0.0024520278270157014, -0.040250357221915944, 0.02412596972996006, 0.014013354727060445, 0.002724118322072755, 0.002453316884420964, -0.07595898214963759, 0.0027362026978838827, 0.03911816479924557, 0.03911816479924557, 0.03911816479924557, 0.04727717770500739, -0.013849408457144996, 0.011026422063875607, 0.1553025544986264, -0.2671115401557733, -0.19106609887982184, -0.006468063087439191, 0.01816212956109453, -0.01449100350199295, 0.00034238601969160953, -0.029297521051685482, 0.012726694241171899, 0.02851202025049293, -0.017840767581189798, -0.0316908079433742, 0.019057904265795678, -0.02585983966898464, -0.006785859697000518, 0.011355815554026094, 0.03855793329476942, -0.013893471804937718, -0.013893471804937718, 0.046455129506584036, 0.00798927353189427, 0.00798927353189427, 0.05925903415373579, 0.07110428374790256, 0.010167768174884628, 0.009829842044606352, 0.009829842044606352, 0.01594763628294249, -0.0072807707909294805, 0.0877955179030554, 0.01497102765897207, -0.01898287126964604, -0.01898287126964604, 0.8353680343684111, 0.8353680343684111, -0.018732782369135226, 0.09293253786140099, -0.0010490684272390638, -0.0064789587290392525, 0.0006842636467885299, 0.008347100252148465, -0.0023941118529102745, 0.018366618497611675, 0.016900048285850566, 0.019051115875812208, -0.008595525513244162, -0.011596328078822271, -0.12806855857042665, -0.19076543444218608, -0.3041883608197127, 0.010735521763671763, -0.0410160376850488, -0.09291346491888675, -0.07273144869561765, -0.1270797741177887, -0.00921683762619141, 0.20797285406957133, 0.20797285406957133, 0.09192408602562985, 0.09192408602562985, 0.024955132039994332, -0.0072042154952378645, 0.02991026919243467, 0.016791436367458168, 0.016791436367458168, 0.03411754779207854, -0.013291546576377211, -0.013291546576377211, -0.013291546576377211, 0.04312794489296223, -0.03928846715109957, 0.10207776012229886, 0.01153152649455702, 0.0006820863657885923, 0.004891598679268583, 0.019215249221793407, -0.155576206237662, -0.155576206237662, 0.054575684628677124, 0.054575684628677124, -0.006765327695557044, -0.00035186736007108976, 0.041774241044212346, -0.0010285244103069857, 0.14771523072476533, 0.0140663382233841, -0.2249830764942451, -0.016918167762436376, 0.09832007426409106, 0.00857136000054215, 0.15323674310625535, -0.012936927235029927, 0.007866878730355964, 0.026566924179394213, -0.06801057602666694, 0.007874689720099859, 0.016355068537965423, -0.0254394761680099, 0.021216818777580748, 0.44803803101953754, -0.04235111779918865, -0.033803578672197965, 0.013338030143938973, 0.013338030143938973, 0.008080867444393292, -0.029304623818793285, -0.12700486247188003, -0.016211044070324476, -0.11243013127517631, -0.029478807822158615, -0.048345951283734756, -0.19690981623299297, 0.05454433184908236, 0.021888922836987845, 0.012000068571826894, -0.011667910065160658, 0.005144279903701587, 0.005144279903701587, 0.06541423275991942, 0.010631183662268562, -0.007543469241511058, 0.18461921092027822, 0.023504164324772425, -0.01355821899234888, 0.019323081929867314, -0.3413163703686162, -0.3413163703686162, 0.030318168507004195, 0.0006776077735137775, 0.0006776077735137775, 0.012859188411451505, 0.17783863111469067, 0.014904745128863084, 0.2643421342480412, 0.39091749420336885, -0.009144142160921742, 0.12186105101734679, 0.04593951653109052, -0.36569358268307983, 0.006098903891427199, -0.36569358268307983, 0.0276338514680452, -0.1716986417733768, 0.12029159291193636, -0.009819091700147276, -0.2301902694766711, 0.16513303373992816, 0.005821279859752337, 0.021616123084733374, -0.004626383911565668, 0.15821111933422838, -0.03248151972482516, 0.12446467489319879, -0.017495771855124964, 0.5587187528544924, -0.004097660918556123, 0.041511712478214946, 0.03456406500783604, 0.18091857293622837, -0.0024052503178384477, -0.0024052503178384477, -0.040830093554178326, 0.0, 0.0010204984114192683, 0.0, 0.0007384978952806875, 0.00034208968908711057, 0.0003401615086939813, 0.0006803183890013997, 0.0, 0.0, 0.0, 0.0, 0.0, 0.0], \"yaxis\": \"y\"}],\n",
              "                        {\"legend\": {\"tracegroupgap\": 0}, \"margin\": {\"t\": 60}, \"template\": {\"data\": {\"bar\": [{\"error_x\": {\"color\": \"#2a3f5f\"}, \"error_y\": {\"color\": \"#2a3f5f\"}, \"marker\": {\"line\": {\"color\": \"white\", \"width\": 0.5}}, \"type\": \"bar\"}], \"barpolar\": [{\"marker\": {\"line\": {\"color\": \"white\", \"width\": 0.5}}, \"type\": \"barpolar\"}], \"carpet\": [{\"aaxis\": {\"endlinecolor\": \"#2a3f5f\", \"gridcolor\": \"#C8D4E3\", \"linecolor\": \"#C8D4E3\", \"minorgridcolor\": \"#C8D4E3\", \"startlinecolor\": \"#2a3f5f\"}, \"baxis\": {\"endlinecolor\": \"#2a3f5f\", \"gridcolor\": \"#C8D4E3\", \"linecolor\": \"#C8D4E3\", \"minorgridcolor\": \"#C8D4E3\", \"startlinecolor\": \"#2a3f5f\"}, \"type\": \"carpet\"}], \"choropleth\": [{\"colorbar\": {\"outlinewidth\": 0, \"ticks\": \"\"}, \"type\": \"choropleth\"}], \"contour\": [{\"colorbar\": {\"outlinewidth\": 0, \"ticks\": \"\"}, \"colorscale\": [[0.0, \"#0d0887\"], [0.1111111111111111, \"#46039f\"], [0.2222222222222222, \"#7201a8\"], [0.3333333333333333, \"#9c179e\"], [0.4444444444444444, \"#bd3786\"], [0.5555555555555556, \"#d8576b\"], [0.6666666666666666, \"#ed7953\"], [0.7777777777777778, \"#fb9f3a\"], [0.8888888888888888, \"#fdca26\"], [1.0, \"#f0f921\"]], \"type\": \"contour\"}], \"contourcarpet\": [{\"colorbar\": {\"outlinewidth\": 0, \"ticks\": \"\"}, \"type\": \"contourcarpet\"}], \"heatmap\": [{\"colorbar\": {\"outlinewidth\": 0, \"ticks\": \"\"}, \"colorscale\": [[0.0, \"#0d0887\"], [0.1111111111111111, \"#46039f\"], [0.2222222222222222, \"#7201a8\"], [0.3333333333333333, \"#9c179e\"], [0.4444444444444444, \"#bd3786\"], [0.5555555555555556, \"#d8576b\"], [0.6666666666666666, \"#ed7953\"], [0.7777777777777778, \"#fb9f3a\"], [0.8888888888888888, \"#fdca26\"], [1.0, \"#f0f921\"]], \"type\": \"heatmap\"}], \"heatmapgl\": [{\"colorbar\": {\"outlinewidth\": 0, \"ticks\": \"\"}, \"colorscale\": [[0.0, \"#0d0887\"], [0.1111111111111111, \"#46039f\"], [0.2222222222222222, \"#7201a8\"], [0.3333333333333333, \"#9c179e\"], [0.4444444444444444, \"#bd3786\"], [0.5555555555555556, \"#d8576b\"], [0.6666666666666666, \"#ed7953\"], [0.7777777777777778, \"#fb9f3a\"], [0.8888888888888888, \"#fdca26\"], [1.0, \"#f0f921\"]], \"type\": \"heatmapgl\"}], \"histogram\": [{\"marker\": {\"colorbar\": {\"outlinewidth\": 0, \"ticks\": \"\"}}, \"type\": \"histogram\"}], \"histogram2d\": [{\"colorbar\": {\"outlinewidth\": 0, \"ticks\": \"\"}, \"colorscale\": [[0.0, \"#0d0887\"], [0.1111111111111111, \"#46039f\"], [0.2222222222222222, \"#7201a8\"], [0.3333333333333333, \"#9c179e\"], [0.4444444444444444, \"#bd3786\"], [0.5555555555555556, \"#d8576b\"], [0.6666666666666666, \"#ed7953\"], [0.7777777777777778, \"#fb9f3a\"], [0.8888888888888888, \"#fdca26\"], [1.0, \"#f0f921\"]], \"type\": \"histogram2d\"}], \"histogram2dcontour\": [{\"colorbar\": {\"outlinewidth\": 0, \"ticks\": \"\"}, \"colorscale\": [[0.0, \"#0d0887\"], [0.1111111111111111, \"#46039f\"], [0.2222222222222222, \"#7201a8\"], [0.3333333333333333, \"#9c179e\"], [0.4444444444444444, \"#bd3786\"], [0.5555555555555556, \"#d8576b\"], [0.6666666666666666, \"#ed7953\"], [0.7777777777777778, \"#fb9f3a\"], [0.8888888888888888, \"#fdca26\"], [1.0, \"#f0f921\"]], \"type\": \"histogram2dcontour\"}], \"mesh3d\": [{\"colorbar\": {\"outlinewidth\": 0, \"ticks\": \"\"}, \"type\": \"mesh3d\"}], \"parcoords\": [{\"line\": {\"colorbar\": {\"outlinewidth\": 0, \"ticks\": \"\"}}, \"type\": \"parcoords\"}], \"pie\": [{\"automargin\": true, \"type\": \"pie\"}], \"scatter\": [{\"marker\": {\"colorbar\": {\"outlinewidth\": 0, \"ticks\": \"\"}}, \"type\": \"scatter\"}], \"scatter3d\": [{\"line\": {\"colorbar\": {\"outlinewidth\": 0, \"ticks\": \"\"}}, \"marker\": {\"colorbar\": {\"outlinewidth\": 0, \"ticks\": \"\"}}, \"type\": \"scatter3d\"}], \"scattercarpet\": [{\"marker\": {\"colorbar\": {\"outlinewidth\": 0, \"ticks\": \"\"}}, \"type\": \"scattercarpet\"}], \"scattergeo\": [{\"marker\": {\"colorbar\": {\"outlinewidth\": 0, \"ticks\": \"\"}}, \"type\": \"scattergeo\"}], \"scattergl\": [{\"marker\": {\"colorbar\": {\"outlinewidth\": 0, \"ticks\": \"\"}}, \"type\": \"scattergl\"}], \"scattermapbox\": [{\"marker\": {\"colorbar\": {\"outlinewidth\": 0, \"ticks\": \"\"}}, \"type\": \"scattermapbox\"}], \"scatterpolar\": [{\"marker\": {\"colorbar\": {\"outlinewidth\": 0, \"ticks\": \"\"}}, \"type\": \"scatterpolar\"}], \"scatterpolargl\": [{\"marker\": {\"colorbar\": {\"outlinewidth\": 0, \"ticks\": \"\"}}, \"type\": \"scatterpolargl\"}], \"scatterternary\": [{\"marker\": {\"colorbar\": {\"outlinewidth\": 0, \"ticks\": \"\"}}, \"type\": \"scatterternary\"}], \"surface\": [{\"colorbar\": {\"outlinewidth\": 0, \"ticks\": \"\"}, \"colorscale\": [[0.0, \"#0d0887\"], [0.1111111111111111, \"#46039f\"], [0.2222222222222222, \"#7201a8\"], [0.3333333333333333, \"#9c179e\"], [0.4444444444444444, \"#bd3786\"], [0.5555555555555556, \"#d8576b\"], [0.6666666666666666, \"#ed7953\"], [0.7777777777777778, \"#fb9f3a\"], [0.8888888888888888, \"#fdca26\"], [1.0, \"#f0f921\"]], \"type\": \"surface\"}], \"table\": [{\"cells\": {\"fill\": {\"color\": \"#EBF0F8\"}, \"line\": {\"color\": \"white\"}}, \"header\": {\"fill\": {\"color\": \"#C8D4E3\"}, \"line\": {\"color\": \"white\"}}, \"type\": \"table\"}]}, \"layout\": {\"annotationdefaults\": {\"arrowcolor\": \"#2a3f5f\", \"arrowhead\": 0, \"arrowwidth\": 1}, \"coloraxis\": {\"colorbar\": {\"outlinewidth\": 0, \"ticks\": \"\"}}, \"colorscale\": {\"diverging\": [[0, \"#8e0152\"], [0.1, \"#c51b7d\"], [0.2, \"#de77ae\"], [0.3, \"#f1b6da\"], [0.4, \"#fde0ef\"], [0.5, \"#f7f7f7\"], [0.6, \"#e6f5d0\"], [0.7, \"#b8e186\"], [0.8, \"#7fbc41\"], [0.9, \"#4d9221\"], [1, \"#276419\"]], \"sequential\": [[0.0, \"#0d0887\"], [0.1111111111111111, \"#46039f\"], [0.2222222222222222, \"#7201a8\"], [0.3333333333333333, \"#9c179e\"], [0.4444444444444444, \"#bd3786\"], [0.5555555555555556, \"#d8576b\"], [0.6666666666666666, \"#ed7953\"], [0.7777777777777778, \"#fb9f3a\"], [0.8888888888888888, \"#fdca26\"], [1.0, \"#f0f921\"]], \"sequentialminus\": [[0.0, \"#0d0887\"], [0.1111111111111111, \"#46039f\"], [0.2222222222222222, \"#7201a8\"], [0.3333333333333333, \"#9c179e\"], [0.4444444444444444, \"#bd3786\"], [0.5555555555555556, \"#d8576b\"], [0.6666666666666666, \"#ed7953\"], [0.7777777777777778, \"#fb9f3a\"], [0.8888888888888888, \"#fdca26\"], [1.0, \"#f0f921\"]]}, \"colorway\": [\"#636efa\", \"#EF553B\", \"#00cc96\", \"#ab63fa\", \"#FFA15A\", \"#19d3f3\", \"#FF6692\", \"#B6E880\", \"#FF97FF\", \"#FECB52\"], \"font\": {\"color\": \"#2a3f5f\"}, \"geo\": {\"bgcolor\": \"white\", \"lakecolor\": \"white\", \"landcolor\": \"white\", \"showlakes\": true, \"showland\": true, \"subunitcolor\": \"#C8D4E3\"}, \"hoverlabel\": {\"align\": \"left\"}, \"hovermode\": \"closest\", \"mapbox\": {\"style\": \"light\"}, \"paper_bgcolor\": \"white\", \"plot_bgcolor\": \"white\", \"polar\": {\"angularaxis\": {\"gridcolor\": \"#EBF0F8\", \"linecolor\": \"#EBF0F8\", \"ticks\": \"\"}, \"bgcolor\": \"white\", \"radialaxis\": {\"gridcolor\": \"#EBF0F8\", \"linecolor\": \"#EBF0F8\", \"ticks\": \"\"}}, \"scene\": {\"xaxis\": {\"backgroundcolor\": \"white\", \"gridcolor\": \"#DFE8F3\", \"gridwidth\": 2, \"linecolor\": \"#EBF0F8\", \"showbackground\": true, \"ticks\": \"\", \"zerolinecolor\": \"#EBF0F8\"}, \"yaxis\": {\"backgroundcolor\": \"white\", \"gridcolor\": \"#DFE8F3\", \"gridwidth\": 2, \"linecolor\": \"#EBF0F8\", \"showbackground\": true, \"ticks\": \"\", \"zerolinecolor\": \"#EBF0F8\"}, \"zaxis\": {\"backgroundcolor\": \"white\", \"gridcolor\": \"#DFE8F3\", \"gridwidth\": 2, \"linecolor\": \"#EBF0F8\", \"showbackground\": true, \"ticks\": \"\", \"zerolinecolor\": \"#EBF0F8\"}}, \"shapedefaults\": {\"line\": {\"color\": \"#2a3f5f\"}}, \"ternary\": {\"aaxis\": {\"gridcolor\": \"#DFE8F3\", \"linecolor\": \"#A2B1C6\", \"ticks\": \"\"}, \"baxis\": {\"gridcolor\": \"#DFE8F3\", \"linecolor\": \"#A2B1C6\", \"ticks\": \"\"}, \"bgcolor\": \"white\", \"caxis\": {\"gridcolor\": \"#DFE8F3\", \"linecolor\": \"#A2B1C6\", \"ticks\": \"\"}}, \"title\": {\"x\": 0.05}, \"xaxis\": {\"automargin\": true, \"gridcolor\": \"#EBF0F8\", \"linecolor\": \"#EBF0F8\", \"ticks\": \"\", \"title\": {\"standoff\": 15}, \"zerolinecolor\": \"#EBF0F8\", \"zerolinewidth\": 2}, \"yaxis\": {\"automargin\": true, \"gridcolor\": \"#EBF0F8\", \"linecolor\": \"#EBF0F8\", \"ticks\": \"\", \"title\": {\"standoff\": 15}, \"zerolinecolor\": \"#EBF0F8\", \"zerolinewidth\": 2}}}, \"title\": {\"text\": \"% Change Distribution by time of day\"}, \"xaxis\": {\"anchor\": \"y\", \"domain\": [0.0, 1.0], \"tickfont\": {\"color\": \"Red\", \"family\": \"Courier\", \"size\": 15}, \"title\": {\"font\": {\"color\": \"Red\", \"family\": \"Courier\", \"size\": 18}, \"text\": \"Time\"}}, \"yaxis\": {\"anchor\": \"x\", \"domain\": [0.0, 1.0], \"dtick\": 0.01, \"range\": [-0.1, 0.1], \"tickfont\": {\"color\": \"Red\", \"family\": \"Courier\", \"size\": 15}, \"tickformat\": \"%\", \"title\": {\"font\": {\"color\": \"Red\", \"family\": \"Courier\", \"size\": 18}, \"text\": \"% Change\"}}},\n",
              "                        {\"responsive\": true}\n",
              "                    ).then(function(){\n",
              "                            \n",
              "var gd = document.getElementById('960b5daf-ec9e-4d55-8610-1bc5ec73274f');\n",
              "var x = new MutationObserver(function (mutations, observer) {{\n",
              "        var display = window.getComputedStyle(gd).display;\n",
              "        if (!display || display === 'none') {{\n",
              "            console.log([gd, 'removed!']);\n",
              "            Plotly.purge(gd);\n",
              "            observer.disconnect();\n",
              "        }}\n",
              "}});\n",
              "\n",
              "// Listen for the removal of the full notebook cells\n",
              "var notebookContainer = gd.closest('#notebook-container');\n",
              "if (notebookContainer) {{\n",
              "    x.observe(notebookContainer, {childList: true});\n",
              "}}\n",
              "\n",
              "// Listen for the clearing of the current output cell\n",
              "var outputEl = gd.closest('.output');\n",
              "if (outputEl) {{\n",
              "    x.observe(outputEl, {childList: true});\n",
              "}}\n",
              "\n",
              "                        })\n",
              "                };\n",
              "                \n",
              "            </script>\n",
              "        </div>\n",
              "</body>\n",
              "</html>"
            ]
          },
          "metadata": {
            "tags": []
          }
        }
      ]
    },
    {
      "cell_type": "code",
      "metadata": {
        "colab": {
          "base_uri": "https://localhost:8080/",
          "height": 35
        },
        "id": "MaOrnZJXzS3A",
        "outputId": "672908ef-ca94-49e1-c546-14d0a8e5d539"
      },
      "source": [
        "Percent_change_time_link = \"https://github.com/Alexander-Beaudry/DS3000-final-project/raw/main/Percent_Change_Time_Of_Day.png\"\n",
        "Percent_change_time_link"
      ],
      "execution_count": null,
      "outputs": [
        {
          "output_type": "execute_result",
          "data": {
            "application/vnd.google.colaboratory.intrinsic+json": {
              "type": "string"
            },
            "text/plain": [
              "'https://github.com/Alexander-Beaudry/DS3000-final-project/raw/main/Percent_Change_Time_Of_Day.png'"
            ]
          },
          "metadata": {
            "tags": []
          },
          "execution_count": 375
        }
      ]
    },
    {
      "cell_type": "code",
      "metadata": {
        "colab": {
          "base_uri": "https://localhost:8080/",
          "height": 767
        },
        "id": "aZrGfOp9nYL0",
        "outputId": "f8db5911-9072-4d79-ea52-416abe2b024a"
      },
      "source": [
        "#10000 Graph\r\n",
        "TenK_fig = px.line(final_df, x='Date_time', y = (final_df['%Change']+1)*10000, labels={'y': 'Account Balance', 'Date_time':'Date'},range_x=['01/02/2020','04/01/2020'],height=750 )\r\n",
        "TenK_fig.update_layout(template='plotly_white')\r\n",
        "\r\n",
        "TenK_fig.update_layout(title='How would an initial $10000 investment do during Q1 of 2020 if you invested immediately following Trump tweets?')\r\n",
        "\r\n",
        "TenK_fig.update_layout(\r\n",
        "    template = 'plotly_white',\r\n",
        "    title=\"How would an initial $10000 investment do during Q1 of 2020 if you invested immediately following Trump tweets?\",\r\n",
        "    xaxis_title=\"Date\",\r\n",
        "    yaxis_title=\"Account balance\"\r\n",
        "    \r\n",
        "    )\r\n",
        "TenK_fig.update_xaxes(title_font={\"size\":18, \"family\": \"Courier\", \"color\":\"Red\"},\r\n",
        "                  tickfont = {\"size\":15, \"family\": \"Courier\", \"color\":\"Red\"})\r\n",
        "TenK_fig.update_yaxes(title_font={\"size\":18, \"family\": \"Courier\", \"color\":\"Red\"},\r\n",
        "                  tickfont = {\"size\":15, \"family\": \"Courier\", \"color\":\"Red\"})\r\n",
        "\r\n",
        "\r\n",
        "\r\n",
        "TenK_fig.update_traces(marker_color=\"green\")\r\n",
        "\r\n",
        "TenK_fig.update_yaxes(dtick=500)\r\n",
        "\r\n",
        "TenK_fig.update_layout(yaxis_tickformat = '$')\r\n",
        "TenK_fig.show()\r\n"
      ],
      "execution_count": 49,
      "outputs": [
        {
          "output_type": "display_data",
          "data": {
            "text/html": [
              "<html>\n",
              "<head><meta charset=\"utf-8\" /></head>\n",
              "<body>\n",
              "    <div>\n",
              "            <script src=\"https://cdnjs.cloudflare.com/ajax/libs/mathjax/2.7.5/MathJax.js?config=TeX-AMS-MML_SVG\"></script><script type=\"text/javascript\">if (window.MathJax) {MathJax.Hub.Config({SVG: {font: \"STIX-Web\"}});}</script>\n",
              "                <script type=\"text/javascript\">window.PlotlyConfig = {MathJaxConfig: 'local'};</script>\n",
              "        <script src=\"https://cdn.plot.ly/plotly-latest.min.js\"></script>    \n",
              "            <div id=\"50a328a9-2278-4c18-9ff9-e6a4c153ce99\" class=\"plotly-graph-div\" style=\"height:750px; width:100%;\"></div>\n",
              "            <script type=\"text/javascript\">\n",
              "                \n",
              "                    window.PLOTLYENV=window.PLOTLYENV || {};\n",
              "                    \n",
              "                if (document.getElementById(\"50a328a9-2278-4c18-9ff9-e6a4c153ce99\")) {\n",
              "                    Plotly.newPlot(\n",
              "                        '50a328a9-2278-4c18-9ff9-e6a4c153ce99',\n",
              "                        [{\"hoverlabel\": {\"namelength\": 0}, \"hovertemplate\": \"Date=%{x}<br>Account Balance=%{y}\", \"legendgroup\": \"\", \"line\": {\"color\": \"#636efa\", \"dash\": \"solid\"}, \"marker\": {\"color\": \"green\"}, \"mode\": \"lines\", \"name\": \"\", \"showlegend\": false, \"type\": \"scatter\", \"x\": [\"2020-01-03T11:27:00\", \"2020-01-03T11:27:00\", \"2020-01-03T11:27:00\", \"2020-01-06T11:02:00\", \"2020-01-06T11:02:00\", \"2020-01-07T13:05:00\", \"2020-01-09T09:47:00\", \"2020-01-09T11:59:00\", \"2020-01-09T16:10:00\", \"2020-01-10T09:31:00\", \"2020-01-10T09:37:00\", \"2020-01-13T09:47:00\", \"2020-01-13T09:53:00\", \"2020-01-13T10:09:00\", \"2020-01-13T10:13:00\", \"2020-01-13T11:31:00\", \"2020-01-15T09:33:00\", \"2020-01-16T09:49:00\", \"2020-01-16T09:59:00\", \"2020-01-16T14:39:00\", \"2020-01-16T15:50:00\", \"2020-01-17T09:35:00\", \"2020-01-17T09:35:00\", \"2020-01-17T14:10:00\", \"2020-01-21T13:08:00\", \"2020-01-22T10:01:00\", \"2020-01-22T10:17:00\", \"2020-01-22T10:21:00\", \"2020-01-22T12:03:00\", \"2020-01-22T13:08:00\", \"2020-01-22T13:12:00\", \"2020-01-22T13:58:00\", \"2020-01-22T15:43:00\", \"2020-01-22T16:04:00\", \"2020-01-23T10:15:00\", \"2020-01-23T12:18:00\", \"2020-01-23T13:30:00\", \"2020-01-23T14:26:00\", \"2020-01-23T14:34:00\", \"2020-01-23T15:01:00\", \"2020-01-23T15:02:00\", \"2020-01-23T15:03:00\", \"2020-01-23T15:04:00\", \"2020-01-23T15:08:00\", \"2020-01-23T15:08:00\", \"2020-01-23T15:11:00\", \"2020-01-23T15:50:00\", \"2020-01-24T09:37:00\", \"2020-01-24T10:16:00\", \"2020-01-24T10:56:00\", \"2020-01-24T12:11:00\", \"2020-01-24T15:18:00\", \"2020-01-24T15:31:00\", \"2020-01-27T11:09:00\", \"2020-01-27T11:12:00\", \"2020-01-27T12:11:00\", \"2020-01-28T09:44:00\", \"2020-01-28T09:44:00\", \"2020-01-28T09:47:00\", \"2020-01-28T09:55:00\", \"2020-01-28T12:07:00\", \"2020-01-28T12:23:00\", \"2020-01-28T12:23:00\", \"2020-01-28T12:26:00\", \"2020-01-28T12:26:00\", \"2020-01-28T13:09:00\", \"2020-01-28T15:18:00\", \"2020-01-29T09:33:00\", \"2020-01-29T09:39:00\", \"2020-01-29T09:47:00\", \"2020-01-29T09:49:00\", \"2020-01-29T12:36:00\", \"2020-01-29T12:38:00\", \"2020-01-29T13:21:00\", \"2020-01-29T13:24:00\", \"2020-01-29T13:41:00\", \"2020-01-30T09:39:00\", \"2020-01-30T14:01:00\", \"2020-01-30T14:01:00\", \"2020-01-30T14:02:00\", \"2020-01-30T14:02:00\", \"2020-01-30T14:02:00\", \"2020-01-30T14:10:00\", \"2020-01-30T14:11:00\", \"2020-01-30T14:13:00\", \"2020-01-30T14:34:00\", \"2020-01-30T14:37:00\", \"2020-01-30T15:58:00\", \"2020-01-30T16:04:00\", \"2020-01-31T15:06:00\", \"2020-02-03T10:42:00\", \"2020-02-03T10:51:00\", \"2020-02-03T10:52:00\", \"2020-02-03T10:52:00\", \"2020-02-03T11:03:00\", \"2020-02-03T14:18:00\", \"2020-02-04T09:52:00\", \"2020-02-04T09:59:00\", \"2020-02-05T14:44:00\", \"2020-02-05T15:49:00\", \"2020-02-05T16:07:00\", \"2020-02-06T12:56:00\", \"2020-02-06T15:13:00\", \"2020-02-06T16:11:00\", \"2020-02-07T10:31:00\", \"2020-02-07T10:34:00\", \"2020-02-07T10:36:00\", \"2020-02-07T10:45:00\", \"2020-02-07T11:51:00\", \"2020-02-07T14:00:00\", \"2020-02-07T15:57:00\", \"2020-02-07T15:57:00\", \"2020-02-10T13:59:00\", \"2020-02-10T14:24:00\", \"2020-02-11T09:49:00\", \"2020-02-11T10:39:00\", \"2020-02-12T12:32:00\", \"2020-02-12T12:32:00\", \"2020-02-12T15:13:00\", \"2020-02-12T15:14:00\", \"2020-02-12T15:18:00\", \"2020-02-12T15:18:00\", \"2020-02-12T15:20:00\", \"2020-02-12T15:25:00\", \"2020-02-12T15:29:00\", \"2020-02-12T15:33:00\", \"2020-02-13T10:04:00\", \"2020-02-13T10:04:00\", \"2020-02-13T12:30:00\", \"2020-02-14T09:33:00\", \"2020-02-14T14:41:00\", \"2020-02-14T15:58:00\", \"2020-02-14T16:00:00\", \"2020-02-14T16:01:00\", \"2020-02-18T09:29:00\", \"2020-02-18T09:29:00\", \"2020-02-18T09:29:00\", \"2020-02-18T09:29:00\", \"2020-02-18T09:31:00\", \"2020-02-18T09:31:00\", \"2020-02-18T09:31:00\", \"2020-02-18T14:20:00\", \"2020-02-18T14:35:00\", \"2020-02-18T14:51:00\", \"2020-02-18T14:51:00\", \"2020-02-18T16:00:00\", \"2020-02-19T09:42:00\", \"2020-02-19T09:51:00\", \"2020-02-19T11:10:00\", \"2020-02-19T11:46:00\", \"2020-02-20T09:29:00\", \"2020-02-20T11:13:00\", \"2020-02-20T12:18:00\", \"2020-02-20T12:24:00\", \"2020-02-20T15:10:00\", \"2020-02-20T15:53:00\", \"2020-02-21T09:36:00\", \"2020-02-21T09:47:00\", \"2020-02-21T09:51:00\", \"2020-02-21T10:00:00\", \"2020-02-21T10:19:00\", \"2020-02-21T11:34:00\", \"2020-02-21T13:23:00\", \"2020-02-24T12:10:00\", \"2020-02-24T12:13:00\", \"2020-02-24T15:28:00\", \"2020-02-24T15:42:00\", \"2020-02-24T15:46:00\", \"2020-02-24T16:08:00\", \"2020-02-25T14:01:00\", \"2020-02-25T14:43:00\", \"2020-02-25T14:52:00\", \"2020-02-25T16:00:00\", \"2020-02-26T10:15:00\", \"2020-02-26T10:17:00\", \"2020-02-26T10:20:00\", \"2020-02-26T13:02:00\", \"2020-02-28T09:30:00\", \"2020-02-28T13:31:00\", \"2020-02-28T14:03:00\", \"2020-02-28T14:25:00\", \"2020-02-28T14:28:00\", \"2020-02-28T15:01:00\", \"2020-03-02T10:43:00\", \"2020-03-02T11:01:00\", \"2020-03-02T13:48:00\", \"2020-03-02T13:51:00\", \"2020-03-02T13:55:00\", \"2020-03-02T13:55:00\", \"2020-03-02T15:32:00\", \"2020-03-02T15:47:00\", \"2020-03-03T09:51:00\", \"2020-03-03T11:30:00\", \"2020-03-03T11:34:00\", \"2020-03-03T12:30:00\", \"2020-03-03T15:10:00\", \"2020-03-04T09:32:00\", \"2020-03-04T09:40:00\", \"2020-03-04T09:57:00\", \"2020-03-04T10:06:00\", \"2020-03-04T13:30:00\", \"2020-03-04T14:06:00\", \"2020-03-05T09:30:00\", \"2020-03-05T09:53:00\", \"2020-03-05T10:02:00\", \"2020-03-05T10:10:00\", \"2020-03-05T10:22:00\", \"2020-03-05T10:34:00\", \"2020-03-05T12:28:00\", \"2020-03-05T13:02:00\", \"2020-03-05T14:34:00\", \"2020-03-05T14:38:00\", \"2020-03-06T09:38:00\", \"2020-03-06T09:47:00\", \"2020-03-06T14:59:00\", \"2020-03-06T15:18:00\", \"2020-03-06T15:21:00\", \"2020-03-09T09:36:00\", \"2020-03-09T09:36:00\", \"2020-03-09T09:47:00\", \"2020-03-10T09:28:00\", \"2020-03-10T09:42:00\", \"2020-03-10T09:44:00\", \"2020-03-10T09:48:00\", \"2020-03-10T11:44:00\", \"2020-03-10T13:41:00\", \"2020-03-11T13:50:00\", \"2020-03-11T13:52:00\", \"2020-03-11T13:52:00\", \"2020-03-11T14:17:00\", \"2020-03-11T14:17:00\", \"2020-03-11T14:18:00\", \"2020-03-11T15:44:00\", \"2020-03-12T09:44:00\", \"2020-03-12T13:01:00\", \"2020-03-12T13:01:00\", \"2020-03-12T13:02:00\", \"2020-03-12T13:02:00\", \"2020-03-12T15:02:00\", \"2020-03-13T09:52:00\", \"2020-03-13T09:55:00\", \"2020-03-13T16:00:00\", \"2020-03-16T10:00:00\", \"2020-03-16T13:32:00\", \"2020-03-16T15:16:00\", \"2020-03-16T15:16:00\", \"2020-03-16T15:29:00\", \"2020-03-16T15:29:00\", \"2020-03-17T14:31:00\", \"2020-03-17T15:12:00\", \"2020-03-18T10:45:00\", \"2020-03-18T13:40:00\", \"2020-03-18T14:14:00\", \"2020-03-18T14:14:00\", \"2020-03-18T15:49:00\", \"2020-03-18T15:50:00\", \"2020-03-20T13:45:00\", \"2020-03-20T15:22:00\", \"2020-03-23T09:28:00\", \"2020-03-23T11:05:00\", \"2020-03-24T11:04:00\", \"2020-03-24T14:08:00\", \"2020-03-24T14:31:00\", \"2020-03-24T14:50:00\", \"2020-03-25T09:44:00\", \"2020-03-25T09:49:00\", \"2020-03-25T09:54:00\", \"2020-03-25T10:45:00\", \"2020-03-25T15:04:00\", \"2020-03-26T10:36:00\", \"2020-03-26T15:57:00\", \"2020-03-27T09:29:00\", \"2020-03-27T10:16:00\", \"2020-03-27T10:23:00\", \"2020-03-27T10:29:00\", \"2020-03-27T10:31:00\", \"2020-03-27T10:45:00\", \"2020-03-27T10:50:00\", \"2020-03-27T11:16:00\", \"2020-03-27T14:57:00\", \"2020-03-27T15:32:00\", \"2020-03-27T15:34:00\", \"2020-03-30T12:05:00\", \"2020-03-30T12:11:00\", \"2020-03-30T12:46:00\", \"2020-03-30T15:50:00\", \"2020-03-31T09:48:00\", \"2020-03-31T09:55:00\", \"2020-03-31T14:50:00\", \"2020-03-31T14:51:00\", \"2020-03-31T14:52:00\", \"2020-03-31T15:27:00\", \"2020-03-31T15:56:00\", \"2020-04-01T11:36:00\", \"2020-04-01T12:05:00\"], \"xaxis\": \"x\", \"y\": [10391.181647992456, 10391.181647992456, 10391.181647992456, 10105.08653876462, 10105.08653876462, 9989.50931572761, 10010.38910667539, 9855.08996498007, 10000.0, 9140.602889507123, 10390.418507910217, 9878.814319300036, 10211.28760746225, 10180.260129232667, 10183.742593960145, 9861.50591542855, 10210.503794244587, 10048.00438897279, 9794.424096236979, 10078.746897201, 9959.023390814438, 9952.2573736781, 9952.2573736781, 10006.820863657886, 9935.210412709608, 9784.922008623678, 9948.818736436928, 9853.296896376365, 10003.423860196915, 10006.842636467885, 9976.058881470897, 10249.551320399944, 10058.212798597524, 10000.0, 10158.20063968075, 10113.55815554026, 9914.044744867559, 10140.66338223384, 10085.713600005422, 9705.211921778413, 9516.540487162652, 10545.443318490823, 10120.000685718269, 10051.442799037015, 10051.442799037015, 9924.56530758489, 10415.11712478215, 9897.484964461402, 9750.049647672779, 10054.873636304408, 9683.091920566258, 10303.181685070042, 10276.338514680452, 10140.133547270605, 10024.53316884421, 9741.401603310154, 10139.82591673356, 10139.82591673356, 9374.580724508132, 9689.088400202541, 10285.12020250493, 9861.065281950623, 9861.065281950623, 10079.892735318943, 10079.892735318943, 10083.471002521484, 10128.591884114516, 9802.807741006938, 10148.917748917787, 10041.614936988177, 9968.79604749933, 10159.476362829424, 9927.192292090705, 10183.666184976117, 10190.511158758121, 10107.355217636717, 9734.872930875152, 10167.914363674581, 10167.914363674581, 9867.084534236228, 9867.084534236228, 9867.084534236228, 10115.31526494557, 10048.915986792686, 10192.152492217934, 9870.630727649701, 10265.669241793943, 10000.0, 10000.0, 9883.320899348393, 9727.060865427064, 10035.03510517544, 10108.604640571164, 10108.604640571164, 9975.479721729844, 9996.48132639929, 9382.756719455867, 9996.53196831606, 10212.168187775807, 9675.184802751748, 10000.0, 10149.71027658972, 10235.041643247725, 10000.0, 9490.127639188207, 10215.698761272697, 9736.361862175405, 9732.837369886718, 10181.621295610945, 10299.102691924347, 9975.947496821616, 9975.947496821616, 9927.957845047622, 9989.71475589693, 10030.653637735468, 10200.65979661954, 10098.298420446063, 10098.298420446063, 9864.417810076511, 10193.230819298673, 10006.776077735138, 10006.776077735138, 10149.04745128863, 9908.558578390783, 10060.989038914271, 9901.809082998527, 10054.471422929802, 10054.471422929802, 10101.677681748846, 8875.572404984146, 10163.550685379654, 10010.204984114192, 10003.40161508694, 10006.803183890013, 10006.826008457361, 10006.826008457361, 10006.826008457361, 10006.826008457361, 10136.445193376967, 10136.445193376967, 10136.445193376967, 10417.742410442124, 10078.668787303559, 10133.380301439389, 10133.380301439389, 10003.420896890872, 9890.813676951762, 9774.904590240987, 10027.241183220727, 9935.319369125607, 10351.595835466735, 9240.410178503624, 10385.579332947695, 10464.551295065841, 10106.311836622686, 10345.64065007836, 9497.68971674513, 11527.873317870299, 10000.0, 9948.172027406601, 10048.279358160431, 10110.264220638755, 10169.000482858506, 9821.592324188103, 9932.141403029995, 10459.395165310905, 11651.330337399282, 9953.736160884344, 10000.0, 10341.175477920786, 9745.6052383199, 10080.808674443933, 10007.384978952807, 10083.892617449566, 10525.125811392301, 8828.770647022135, 9812.672176308648, 7336.878869661936, 8719.314414295734, 10431.279448929623, 11477.152307247654, 7750.1692350575495, 8875.698687248238, 10307.026237140739, 10155.20961057902, 9272.685513043823, 9907.831623738086, 10919.2408602563, 10919.2408602563, 11202.915929119363, 11582.111193342284, 9591.045409106038, 10472.771777050073, 11553.025544986263, 10711.042837479026, 10654.142327599195, 5460.465396400096, 9013.392907769248, 11179.670223378836, 8187.4666535488495, 9884.036719211777, 9607.115328489004, 8812.026993175728, 10034.25882926167, 10178.822813225343, 10705.472723617762, 8325.964554283351, 10144.084023735892, 10592.590341537358, 10929.32537861401, 11532.367431062554, 9319.89423973333, 9680.545202853766, 9296.311963091988, 9837.889559296755, 11778.386311146907, 12643.421342480413, 10000.0, 10000.0, 9234.098119145763, 8875.026809163292, 9869.392552926616, 8377.949924821873, 8409.708120274963, 8089.339011201781, 9589.839623149512, 8729.202258822113, 12079.728540695713, 12079.728540695713, 10545.756846286771, 10545.756846286771, 9932.34672304443, 10216.161230847334, 10000.0, 9810.17128730354, 9810.17128730354, 18353.68034368411, 18353.68034368411, 8030.901837670071, 13428.887455064978, 13773.619722468258, 10000.0, 5965.5845564311385, 8092.3456555781395, 6586.836296313838, 6586.836296313838, 6343.064173169201, 6343.064173169201, 9830.818322375637, 11846.192109202782, 9777.001412324395, 6958.116391802873, 8444.23793762338, 8444.23793762338, 11244.646748931988, 15587.187528544924, 9070.865350811133, 13909.17494203369, 5692.581904600193, 10241.2596972996, 9597.496427780841, 11020.777601222988, 10983.20074264091, 14480.380310195376, 9291.460206043424, 7617.0204669879695, 9526.999264221062, 10426.055444653572, 10218.889228369879, 7626.843838172572, 9591.699064458217, 9258.385768376778, 10281.575716171823, 10714.63479856515, 8241.27329966661, 9200.480635918375, 12372.11173432339, 9788.042852206016, 10027.362026978839, 8729.9513752812, 8283.013582266232, 7698.097305233289, 10127.26694241172, 10190.579042657957, 10877.955179030554, 9825.04228144875, 10746.66039170257, 11080.069775218906, 9576.488822008114, 9661.96421327802, 9706.953761812067, 11218.610510173468, 11809.185729362283, 7328.884598442267, 9707.024789483145], \"yaxis\": \"y\"}],\n",
              "                        {\"height\": 750, \"legend\": {\"tracegroupgap\": 0}, \"margin\": {\"t\": 60}, \"template\": {\"data\": {\"bar\": [{\"error_x\": {\"color\": \"#2a3f5f\"}, \"error_y\": {\"color\": \"#2a3f5f\"}, \"marker\": {\"line\": {\"color\": \"white\", \"width\": 0.5}}, \"type\": \"bar\"}], \"barpolar\": [{\"marker\": {\"line\": {\"color\": \"white\", \"width\": 0.5}}, \"type\": \"barpolar\"}], \"carpet\": [{\"aaxis\": {\"endlinecolor\": \"#2a3f5f\", \"gridcolor\": \"#C8D4E3\", \"linecolor\": \"#C8D4E3\", \"minorgridcolor\": \"#C8D4E3\", \"startlinecolor\": \"#2a3f5f\"}, \"baxis\": {\"endlinecolor\": \"#2a3f5f\", \"gridcolor\": \"#C8D4E3\", \"linecolor\": \"#C8D4E3\", \"minorgridcolor\": \"#C8D4E3\", \"startlinecolor\": \"#2a3f5f\"}, \"type\": \"carpet\"}], \"choropleth\": [{\"colorbar\": {\"outlinewidth\": 0, \"ticks\": \"\"}, \"type\": \"choropleth\"}], \"contour\": [{\"colorbar\": {\"outlinewidth\": 0, \"ticks\": \"\"}, \"colorscale\": [[0.0, \"#0d0887\"], [0.1111111111111111, \"#46039f\"], [0.2222222222222222, \"#7201a8\"], [0.3333333333333333, \"#9c179e\"], [0.4444444444444444, \"#bd3786\"], [0.5555555555555556, \"#d8576b\"], [0.6666666666666666, \"#ed7953\"], [0.7777777777777778, \"#fb9f3a\"], [0.8888888888888888, \"#fdca26\"], [1.0, \"#f0f921\"]], \"type\": \"contour\"}], \"contourcarpet\": [{\"colorbar\": {\"outlinewidth\": 0, \"ticks\": \"\"}, \"type\": \"contourcarpet\"}], \"heatmap\": [{\"colorbar\": {\"outlinewidth\": 0, \"ticks\": \"\"}, \"colorscale\": [[0.0, \"#0d0887\"], [0.1111111111111111, \"#46039f\"], [0.2222222222222222, \"#7201a8\"], [0.3333333333333333, \"#9c179e\"], [0.4444444444444444, \"#bd3786\"], [0.5555555555555556, \"#d8576b\"], [0.6666666666666666, \"#ed7953\"], [0.7777777777777778, \"#fb9f3a\"], [0.8888888888888888, \"#fdca26\"], [1.0, \"#f0f921\"]], \"type\": \"heatmap\"}], \"heatmapgl\": [{\"colorbar\": {\"outlinewidth\": 0, \"ticks\": \"\"}, \"colorscale\": [[0.0, \"#0d0887\"], [0.1111111111111111, \"#46039f\"], [0.2222222222222222, \"#7201a8\"], [0.3333333333333333, \"#9c179e\"], [0.4444444444444444, \"#bd3786\"], [0.5555555555555556, \"#d8576b\"], [0.6666666666666666, \"#ed7953\"], [0.7777777777777778, \"#fb9f3a\"], [0.8888888888888888, \"#fdca26\"], [1.0, \"#f0f921\"]], \"type\": \"heatmapgl\"}], \"histogram\": [{\"marker\": {\"colorbar\": {\"outlinewidth\": 0, \"ticks\": \"\"}}, \"type\": \"histogram\"}], \"histogram2d\": [{\"colorbar\": {\"outlinewidth\": 0, \"ticks\": \"\"}, \"colorscale\": [[0.0, \"#0d0887\"], [0.1111111111111111, \"#46039f\"], [0.2222222222222222, \"#7201a8\"], [0.3333333333333333, \"#9c179e\"], [0.4444444444444444, \"#bd3786\"], [0.5555555555555556, \"#d8576b\"], [0.6666666666666666, \"#ed7953\"], [0.7777777777777778, \"#fb9f3a\"], [0.8888888888888888, \"#fdca26\"], [1.0, \"#f0f921\"]], \"type\": \"histogram2d\"}], \"histogram2dcontour\": [{\"colorbar\": {\"outlinewidth\": 0, \"ticks\": \"\"}, \"colorscale\": [[0.0, \"#0d0887\"], [0.1111111111111111, \"#46039f\"], [0.2222222222222222, \"#7201a8\"], [0.3333333333333333, \"#9c179e\"], [0.4444444444444444, \"#bd3786\"], [0.5555555555555556, \"#d8576b\"], [0.6666666666666666, \"#ed7953\"], [0.7777777777777778, \"#fb9f3a\"], [0.8888888888888888, \"#fdca26\"], [1.0, \"#f0f921\"]], \"type\": \"histogram2dcontour\"}], \"mesh3d\": [{\"colorbar\": {\"outlinewidth\": 0, \"ticks\": \"\"}, \"type\": \"mesh3d\"}], \"parcoords\": [{\"line\": {\"colorbar\": {\"outlinewidth\": 0, \"ticks\": \"\"}}, \"type\": \"parcoords\"}], \"pie\": [{\"automargin\": true, \"type\": \"pie\"}], \"scatter\": [{\"marker\": {\"colorbar\": {\"outlinewidth\": 0, \"ticks\": \"\"}}, \"type\": \"scatter\"}], \"scatter3d\": [{\"line\": {\"colorbar\": {\"outlinewidth\": 0, \"ticks\": \"\"}}, \"marker\": {\"colorbar\": {\"outlinewidth\": 0, \"ticks\": \"\"}}, \"type\": \"scatter3d\"}], \"scattercarpet\": [{\"marker\": {\"colorbar\": {\"outlinewidth\": 0, \"ticks\": \"\"}}, \"type\": \"scattercarpet\"}], \"scattergeo\": [{\"marker\": {\"colorbar\": {\"outlinewidth\": 0, \"ticks\": \"\"}}, \"type\": \"scattergeo\"}], \"scattergl\": [{\"marker\": {\"colorbar\": {\"outlinewidth\": 0, \"ticks\": \"\"}}, \"type\": \"scattergl\"}], \"scattermapbox\": [{\"marker\": {\"colorbar\": {\"outlinewidth\": 0, \"ticks\": \"\"}}, \"type\": \"scattermapbox\"}], \"scatterpolar\": [{\"marker\": {\"colorbar\": {\"outlinewidth\": 0, \"ticks\": \"\"}}, \"type\": \"scatterpolar\"}], \"scatterpolargl\": [{\"marker\": {\"colorbar\": {\"outlinewidth\": 0, \"ticks\": \"\"}}, \"type\": \"scatterpolargl\"}], \"scatterternary\": [{\"marker\": {\"colorbar\": {\"outlinewidth\": 0, \"ticks\": \"\"}}, \"type\": \"scatterternary\"}], \"surface\": [{\"colorbar\": {\"outlinewidth\": 0, \"ticks\": \"\"}, \"colorscale\": [[0.0, \"#0d0887\"], [0.1111111111111111, \"#46039f\"], [0.2222222222222222, \"#7201a8\"], [0.3333333333333333, \"#9c179e\"], [0.4444444444444444, \"#bd3786\"], [0.5555555555555556, \"#d8576b\"], [0.6666666666666666, \"#ed7953\"], [0.7777777777777778, \"#fb9f3a\"], [0.8888888888888888, \"#fdca26\"], [1.0, \"#f0f921\"]], \"type\": \"surface\"}], \"table\": [{\"cells\": {\"fill\": {\"color\": \"#EBF0F8\"}, \"line\": {\"color\": \"white\"}}, \"header\": {\"fill\": {\"color\": \"#C8D4E3\"}, \"line\": {\"color\": \"white\"}}, \"type\": \"table\"}]}, \"layout\": {\"annotationdefaults\": {\"arrowcolor\": \"#2a3f5f\", \"arrowhead\": 0, \"arrowwidth\": 1}, \"coloraxis\": {\"colorbar\": {\"outlinewidth\": 0, \"ticks\": \"\"}}, \"colorscale\": {\"diverging\": [[0, \"#8e0152\"], [0.1, \"#c51b7d\"], [0.2, \"#de77ae\"], [0.3, \"#f1b6da\"], [0.4, \"#fde0ef\"], [0.5, \"#f7f7f7\"], [0.6, \"#e6f5d0\"], [0.7, \"#b8e186\"], [0.8, \"#7fbc41\"], [0.9, \"#4d9221\"], [1, \"#276419\"]], \"sequential\": [[0.0, \"#0d0887\"], [0.1111111111111111, \"#46039f\"], [0.2222222222222222, \"#7201a8\"], [0.3333333333333333, \"#9c179e\"], [0.4444444444444444, \"#bd3786\"], [0.5555555555555556, \"#d8576b\"], [0.6666666666666666, \"#ed7953\"], [0.7777777777777778, \"#fb9f3a\"], [0.8888888888888888, \"#fdca26\"], [1.0, \"#f0f921\"]], \"sequentialminus\": [[0.0, \"#0d0887\"], [0.1111111111111111, \"#46039f\"], [0.2222222222222222, \"#7201a8\"], [0.3333333333333333, \"#9c179e\"], [0.4444444444444444, \"#bd3786\"], [0.5555555555555556, \"#d8576b\"], [0.6666666666666666, \"#ed7953\"], [0.7777777777777778, \"#fb9f3a\"], [0.8888888888888888, \"#fdca26\"], [1.0, \"#f0f921\"]]}, \"colorway\": [\"#636efa\", \"#EF553B\", \"#00cc96\", \"#ab63fa\", \"#FFA15A\", \"#19d3f3\", \"#FF6692\", \"#B6E880\", \"#FF97FF\", \"#FECB52\"], \"font\": {\"color\": \"#2a3f5f\"}, \"geo\": {\"bgcolor\": \"white\", \"lakecolor\": \"white\", \"landcolor\": \"white\", \"showlakes\": true, \"showland\": true, \"subunitcolor\": \"#C8D4E3\"}, \"hoverlabel\": {\"align\": \"left\"}, \"hovermode\": \"closest\", \"mapbox\": {\"style\": \"light\"}, \"paper_bgcolor\": \"white\", \"plot_bgcolor\": \"white\", \"polar\": {\"angularaxis\": {\"gridcolor\": \"#EBF0F8\", \"linecolor\": \"#EBF0F8\", \"ticks\": \"\"}, \"bgcolor\": \"white\", \"radialaxis\": {\"gridcolor\": \"#EBF0F8\", \"linecolor\": \"#EBF0F8\", \"ticks\": \"\"}}, \"scene\": {\"xaxis\": {\"backgroundcolor\": \"white\", \"gridcolor\": \"#DFE8F3\", \"gridwidth\": 2, \"linecolor\": \"#EBF0F8\", \"showbackground\": true, \"ticks\": \"\", \"zerolinecolor\": \"#EBF0F8\"}, \"yaxis\": {\"backgroundcolor\": \"white\", \"gridcolor\": \"#DFE8F3\", \"gridwidth\": 2, \"linecolor\": \"#EBF0F8\", \"showbackground\": true, \"ticks\": \"\", \"zerolinecolor\": \"#EBF0F8\"}, \"zaxis\": {\"backgroundcolor\": \"white\", \"gridcolor\": \"#DFE8F3\", \"gridwidth\": 2, \"linecolor\": \"#EBF0F8\", \"showbackground\": true, \"ticks\": \"\", \"zerolinecolor\": \"#EBF0F8\"}}, \"shapedefaults\": {\"line\": {\"color\": \"#2a3f5f\"}}, \"ternary\": {\"aaxis\": {\"gridcolor\": \"#DFE8F3\", \"linecolor\": \"#A2B1C6\", \"ticks\": \"\"}, \"baxis\": {\"gridcolor\": \"#DFE8F3\", \"linecolor\": \"#A2B1C6\", \"ticks\": \"\"}, \"bgcolor\": \"white\", \"caxis\": {\"gridcolor\": \"#DFE8F3\", \"linecolor\": \"#A2B1C6\", \"ticks\": \"\"}}, \"title\": {\"x\": 0.05}, \"xaxis\": {\"automargin\": true, \"gridcolor\": \"#EBF0F8\", \"linecolor\": \"#EBF0F8\", \"ticks\": \"\", \"title\": {\"standoff\": 15}, \"zerolinecolor\": \"#EBF0F8\", \"zerolinewidth\": 2}, \"yaxis\": {\"automargin\": true, \"gridcolor\": \"#EBF0F8\", \"linecolor\": \"#EBF0F8\", \"ticks\": \"\", \"title\": {\"standoff\": 15}, \"zerolinecolor\": \"#EBF0F8\", \"zerolinewidth\": 2}}}, \"title\": {\"text\": \"How would an initial $10000 investment do during Q1 of 2020 if you invested immediately following Trump tweets?\"}, \"xaxis\": {\"anchor\": \"y\", \"domain\": [0.0, 1.0], \"range\": [\"01/02/2020\", \"04/01/2020\"], \"tickfont\": {\"color\": \"Red\", \"family\": \"Courier\", \"size\": 15}, \"title\": {\"font\": {\"color\": \"Red\", \"family\": \"Courier\", \"size\": 18}, \"text\": \"Date\"}}, \"yaxis\": {\"anchor\": \"x\", \"domain\": [0.0, 1.0], \"dtick\": 500, \"tickfont\": {\"color\": \"Red\", \"family\": \"Courier\", \"size\": 15}, \"tickformat\": \"$\", \"title\": {\"font\": {\"color\": \"Red\", \"family\": \"Courier\", \"size\": 18}, \"text\": \"Account balance\"}}},\n",
              "                        {\"responsive\": true}\n",
              "                    ).then(function(){\n",
              "                            \n",
              "var gd = document.getElementById('50a328a9-2278-4c18-9ff9-e6a4c153ce99');\n",
              "var x = new MutationObserver(function (mutations, observer) {{\n",
              "        var display = window.getComputedStyle(gd).display;\n",
              "        if (!display || display === 'none') {{\n",
              "            console.log([gd, 'removed!']);\n",
              "            Plotly.purge(gd);\n",
              "            observer.disconnect();\n",
              "        }}\n",
              "}});\n",
              "\n",
              "// Listen for the removal of the full notebook cells\n",
              "var notebookContainer = gd.closest('#notebook-container');\n",
              "if (notebookContainer) {{\n",
              "    x.observe(notebookContainer, {childList: true});\n",
              "}}\n",
              "\n",
              "// Listen for the clearing of the current output cell\n",
              "var outputEl = gd.closest('.output');\n",
              "if (outputEl) {{\n",
              "    x.observe(outputEl, {childList: true});\n",
              "}}\n",
              "\n",
              "                        })\n",
              "                };\n",
              "                \n",
              "            </script>\n",
              "        </div>\n",
              "</body>\n",
              "</html>"
            ]
          },
          "metadata": {
            "tags": []
          }
        }
      ]
    },
    {
      "cell_type": "code",
      "metadata": {
        "colab": {
          "base_uri": "https://localhost:8080/",
          "height": 35
        },
        "id": "wFjI74Xnx8ES",
        "outputId": "5c9f67a3-91d5-4287-e8c3-06e1dc8af86f"
      },
      "source": [
        "TenK_fig_link = \"https://github.com/Alexander-Beaudry/DS3000-final-project/raw/main/Performance_of_10K_investment.png\"\n",
        "TenK_fig_link"
      ],
      "execution_count": null,
      "outputs": [
        {
          "output_type": "execute_result",
          "data": {
            "application/vnd.google.colaboratory.intrinsic+json": {
              "type": "string"
            },
            "text/plain": [
              "'https://github.com/Alexander-Beaudry/DS3000-final-project/raw/main/Performance_of_10K_investment.png'"
            ]
          },
          "metadata": {
            "tags": []
          },
          "execution_count": 38
        }
      ]
    },
    {
      "cell_type": "markdown",
      "metadata": {
        "id": "Mdx3ZkNUQjul"
      },
      "source": [
        "How Would a $10,000 Investment made exactly after a Donald Trump Tweet do during Q1 2020?\n",
        "\n",
        "This graphs illustrates a hypothetical scenario in which an investor places \n",
        "10,000USD into the Dow Jones Index immediately following a Trump tweet, and sells their position 1 minute later. The gain or loss is added to the cumulative account balance. Every time a Tweet is made, the same $10,000 investment is made, sold 1 minute later, and the gain or loss during that minute would be added to the cumulative account balance. \n",
        "\n",
        "If we compare the returns in this scenario with the relative performance of the Dow Jones between January and March, we see that they both remained relatively stable. This highlights that while investors may have had significant returns during some specific Tweet investment periods, they likely would've seen similar performance should they have placed one $10,000 investment in the Dow Jones index at the start of January and held it until the end of February.\n",
        "\n",
        "March is a very interesting month because it marked the start of the COVID pandemic. Despite the sharp positive and negative fluctuations illustrated both in the Donald Trump investment scenario and the buy and hold Dow Jones investment scenario, investors would have seen similar performance in either scenario."
      ]
    },
    {
      "cell_type": "code",
      "metadata": {
        "id": "0ACzML_CA6jW"
      },
      "source": [
        "DJ_daily_df = pd.read_excel(\"https://github.com/Alexander-Beaudry/DS3000-final-project/raw/main/DJIA_Q1_BBG.xlsx\")"
      ],
      "execution_count": 27,
      "outputs": []
    },
    {
      "cell_type": "code",
      "metadata": {
        "colab": {
          "base_uri": "https://localhost:8080/",
          "height": 767
        },
        "id": "FWP22GKPQQiE",
        "outputId": "de24648d-bf47-4384-db37-baad3860eccd"
      },
      "source": [
        "DJ_daily_df= DJ_daily_df.rename(columns={\"Percent Change\":\"%Change\"})\n",
        "DJ_daily_df\n",
        "\n",
        "DJ_daily_fig = px.line(DJ_daily_df, x= 'Date', y= 'Last Price', range_x=['01/02/2020','04/01/2020'],height=750)\n",
        "DJ_daily_fig .update_layout(template='plotly_white')\n",
        "\n",
        "DJ_daily_fig.update_layout(\n",
        "    template = 'plotly_white',\n",
        "    title=\"DJIA Performance at Daily Close Q1 2020\",\n",
        "    xaxis_title=\"Date\",\n",
        "    yaxis_title=\"Daily Close Value\"\n",
        "    \n",
        "    )\n",
        "DJ_daily_fig .update_xaxes(title_font={\"size\":18, \"family\": \"Courier\", \"color\":\"Red\"},\n",
        "                  tickfont = {\"size\":15, \"family\": \"Courier\", \"color\":\"Red\"})\n",
        "DJ_daily_fig .update_yaxes(title_font={\"size\":18, \"family\": \"Courier\", \"color\":\"Red\"},\n",
        "                  tickfont = {\"size\":15, \"family\": \"Courier\", \"color\":\"Red\"})\n",
        "\n",
        "\n",
        "\n",
        "DJ_daily_fig .update_traces(marker_color=\"green\")\n",
        "\n",
        "DJ_daily_fig .update_yaxes(dtick=500)\n",
        "\n",
        "DJ_daily_fig .update_layout(yaxis_tickformat = '$')\n",
        "\n",
        "DJ_daily_fig.show()"
      ],
      "execution_count": 29,
      "outputs": [
        {
          "output_type": "display_data",
          "data": {
            "text/html": [
              "<html>\n",
              "<head><meta charset=\"utf-8\" /></head>\n",
              "<body>\n",
              "    <div>\n",
              "            <script src=\"https://cdnjs.cloudflare.com/ajax/libs/mathjax/2.7.5/MathJax.js?config=TeX-AMS-MML_SVG\"></script><script type=\"text/javascript\">if (window.MathJax) {MathJax.Hub.Config({SVG: {font: \"STIX-Web\"}});}</script>\n",
              "                <script type=\"text/javascript\">window.PlotlyConfig = {MathJaxConfig: 'local'};</script>\n",
              "        <script src=\"https://cdn.plot.ly/plotly-latest.min.js\"></script>    \n",
              "            <div id=\"23da2d3c-c6b5-4a0f-9f54-5a2615d0ac88\" class=\"plotly-graph-div\" style=\"height:750px; width:100%;\"></div>\n",
              "            <script type=\"text/javascript\">\n",
              "                \n",
              "                    window.PLOTLYENV=window.PLOTLYENV || {};\n",
              "                    \n",
              "                if (document.getElementById(\"23da2d3c-c6b5-4a0f-9f54-5a2615d0ac88\")) {\n",
              "                    Plotly.newPlot(\n",
              "                        '23da2d3c-c6b5-4a0f-9f54-5a2615d0ac88',\n",
              "                        [{\"hoverlabel\": {\"namelength\": 0}, \"hovertemplate\": \"Date=%{x}<br>Last Price=%{y}\", \"legendgroup\": \"\", \"line\": {\"color\": \"#636efa\", \"dash\": \"solid\"}, \"marker\": {\"color\": \"green\"}, \"mode\": \"lines\", \"name\": \"\", \"showlegend\": false, \"type\": \"scatter\", \"x\": [\"2020-01-02T00:00:00\", \"2020-01-03T00:00:00\", \"2020-01-06T00:00:00\", \"2020-01-07T00:00:00\", \"2020-01-08T00:00:00\", \"2020-01-09T00:00:00\", \"2020-01-10T00:00:00\", \"2020-01-13T00:00:00\", \"2020-01-14T00:00:00\", \"2020-01-15T00:00:00\", \"2020-01-16T00:00:00\", \"2020-01-17T00:00:00\", \"2020-01-21T00:00:00\", \"2020-01-22T00:00:00\", \"2020-01-23T00:00:00\", \"2020-01-24T00:00:00\", \"2020-01-27T00:00:00\", \"2020-01-28T00:00:00\", \"2020-01-29T00:00:00\", \"2020-01-30T00:00:00\", \"2020-01-31T00:00:00\", \"2020-02-03T00:00:00\", \"2020-02-04T00:00:00\", \"2020-02-05T00:00:00\", \"2020-02-06T00:00:00\", \"2020-02-07T00:00:00\", \"2020-02-10T00:00:00\", \"2020-02-11T00:00:00\", \"2020-02-12T00:00:00\", \"2020-02-13T00:00:00\", \"2020-02-14T00:00:00\", \"2020-02-18T00:00:00\", \"2020-02-19T00:00:00\", \"2020-02-20T00:00:00\", \"2020-02-21T00:00:00\", \"2020-02-24T00:00:00\", \"2020-02-25T00:00:00\", \"2020-02-26T00:00:00\", \"2020-02-27T00:00:00\", \"2020-02-28T00:00:00\", \"2020-03-02T00:00:00\", \"2020-03-03T00:00:00\", \"2020-03-04T00:00:00\", \"2020-03-05T00:00:00\", \"2020-03-06T00:00:00\", \"2020-03-09T00:00:00\", \"2020-03-10T00:00:00\", \"2020-03-11T00:00:00\", \"2020-03-12T00:00:00\", \"2020-03-13T00:00:00\", \"2020-03-16T00:00:00\", \"2020-03-17T00:00:00\", \"2020-03-18T00:00:00\", \"2020-03-19T00:00:00\", \"2020-03-20T00:00:00\", \"2020-03-23T00:00:00\", \"2020-03-24T00:00:00\", \"2020-03-25T00:00:00\", \"2020-03-26T00:00:00\", \"2020-03-27T00:00:00\", \"2020-03-30T00:00:00\", \"2020-03-31T00:00:00\", \"2020-04-01T00:00:00\"], \"xaxis\": \"x\", \"y\": [28868.8, 28634.88, 28703.38, 28583.68, 28745.09, 28956.9, 28823.77, 28907.05, 28939.67, 29030.22, 29297.64, 29348.1, 29196.04, 29186.27, 29160.09, 28989.73, 28535.8, 28722.85, 28734.45, 28859.44, 28256.03, 28399.81, 28807.63, 29290.85, 29379.77, 29102.51, 29276.82, 29276.34, 29551.42, 29423.31, 29398.08, 29232.19, 29348.03, 29219.98, 28992.41, 27960.8, 27081.36, 26957.59, 25766.64, 25409.36, 26703.32, 25917.41, 27090.86, 26121.28, 25864.78, 23851.02, 25018.16, 23553.22, 21200.62, 23185.62, 20188.52, 21237.38, 19898.92, 20087.19, 19173.98, 18591.93, 20704.91, 21200.55, 22552.17, 21636.78, 22327.48, 21917.16, 20943.51], \"yaxis\": \"y\"}],\n",
              "                        {\"height\": 750, \"legend\": {\"tracegroupgap\": 0}, \"margin\": {\"t\": 60}, \"template\": {\"data\": {\"bar\": [{\"error_x\": {\"color\": \"#2a3f5f\"}, \"error_y\": {\"color\": \"#2a3f5f\"}, \"marker\": {\"line\": {\"color\": \"white\", \"width\": 0.5}}, \"type\": \"bar\"}], \"barpolar\": [{\"marker\": {\"line\": {\"color\": \"white\", \"width\": 0.5}}, \"type\": \"barpolar\"}], \"carpet\": [{\"aaxis\": {\"endlinecolor\": \"#2a3f5f\", \"gridcolor\": \"#C8D4E3\", \"linecolor\": \"#C8D4E3\", \"minorgridcolor\": \"#C8D4E3\", \"startlinecolor\": \"#2a3f5f\"}, \"baxis\": {\"endlinecolor\": \"#2a3f5f\", \"gridcolor\": \"#C8D4E3\", \"linecolor\": \"#C8D4E3\", \"minorgridcolor\": \"#C8D4E3\", \"startlinecolor\": \"#2a3f5f\"}, \"type\": \"carpet\"}], \"choropleth\": [{\"colorbar\": {\"outlinewidth\": 0, \"ticks\": \"\"}, \"type\": \"choropleth\"}], \"contour\": [{\"colorbar\": {\"outlinewidth\": 0, \"ticks\": \"\"}, \"colorscale\": [[0.0, \"#0d0887\"], [0.1111111111111111, \"#46039f\"], [0.2222222222222222, \"#7201a8\"], [0.3333333333333333, \"#9c179e\"], [0.4444444444444444, \"#bd3786\"], [0.5555555555555556, \"#d8576b\"], [0.6666666666666666, \"#ed7953\"], [0.7777777777777778, \"#fb9f3a\"], [0.8888888888888888, \"#fdca26\"], [1.0, \"#f0f921\"]], \"type\": \"contour\"}], \"contourcarpet\": [{\"colorbar\": {\"outlinewidth\": 0, \"ticks\": \"\"}, \"type\": \"contourcarpet\"}], \"heatmap\": [{\"colorbar\": {\"outlinewidth\": 0, \"ticks\": \"\"}, \"colorscale\": [[0.0, \"#0d0887\"], [0.1111111111111111, \"#46039f\"], [0.2222222222222222, \"#7201a8\"], [0.3333333333333333, \"#9c179e\"], [0.4444444444444444, \"#bd3786\"], [0.5555555555555556, \"#d8576b\"], [0.6666666666666666, \"#ed7953\"], [0.7777777777777778, \"#fb9f3a\"], [0.8888888888888888, \"#fdca26\"], [1.0, \"#f0f921\"]], \"type\": \"heatmap\"}], \"heatmapgl\": [{\"colorbar\": {\"outlinewidth\": 0, \"ticks\": \"\"}, \"colorscale\": [[0.0, \"#0d0887\"], [0.1111111111111111, \"#46039f\"], [0.2222222222222222, \"#7201a8\"], [0.3333333333333333, \"#9c179e\"], [0.4444444444444444, \"#bd3786\"], [0.5555555555555556, \"#d8576b\"], [0.6666666666666666, \"#ed7953\"], [0.7777777777777778, \"#fb9f3a\"], [0.8888888888888888, \"#fdca26\"], [1.0, \"#f0f921\"]], \"type\": \"heatmapgl\"}], \"histogram\": [{\"marker\": {\"colorbar\": {\"outlinewidth\": 0, \"ticks\": \"\"}}, \"type\": \"histogram\"}], \"histogram2d\": [{\"colorbar\": {\"outlinewidth\": 0, \"ticks\": \"\"}, \"colorscale\": [[0.0, \"#0d0887\"], [0.1111111111111111, \"#46039f\"], [0.2222222222222222, \"#7201a8\"], [0.3333333333333333, \"#9c179e\"], [0.4444444444444444, \"#bd3786\"], [0.5555555555555556, \"#d8576b\"], [0.6666666666666666, \"#ed7953\"], [0.7777777777777778, \"#fb9f3a\"], [0.8888888888888888, \"#fdca26\"], [1.0, \"#f0f921\"]], \"type\": \"histogram2d\"}], \"histogram2dcontour\": [{\"colorbar\": {\"outlinewidth\": 0, \"ticks\": \"\"}, \"colorscale\": [[0.0, \"#0d0887\"], [0.1111111111111111, \"#46039f\"], [0.2222222222222222, \"#7201a8\"], [0.3333333333333333, \"#9c179e\"], [0.4444444444444444, \"#bd3786\"], [0.5555555555555556, \"#d8576b\"], [0.6666666666666666, \"#ed7953\"], [0.7777777777777778, \"#fb9f3a\"], [0.8888888888888888, \"#fdca26\"], [1.0, \"#f0f921\"]], \"type\": \"histogram2dcontour\"}], \"mesh3d\": [{\"colorbar\": {\"outlinewidth\": 0, \"ticks\": \"\"}, \"type\": \"mesh3d\"}], \"parcoords\": [{\"line\": {\"colorbar\": {\"outlinewidth\": 0, \"ticks\": \"\"}}, \"type\": \"parcoords\"}], \"pie\": [{\"automargin\": true, \"type\": \"pie\"}], \"scatter\": [{\"marker\": {\"colorbar\": {\"outlinewidth\": 0, \"ticks\": \"\"}}, \"type\": \"scatter\"}], \"scatter3d\": [{\"line\": {\"colorbar\": {\"outlinewidth\": 0, \"ticks\": \"\"}}, \"marker\": {\"colorbar\": {\"outlinewidth\": 0, \"ticks\": \"\"}}, \"type\": \"scatter3d\"}], \"scattercarpet\": [{\"marker\": {\"colorbar\": {\"outlinewidth\": 0, \"ticks\": \"\"}}, \"type\": \"scattercarpet\"}], \"scattergeo\": [{\"marker\": {\"colorbar\": {\"outlinewidth\": 0, \"ticks\": \"\"}}, \"type\": \"scattergeo\"}], \"scattergl\": [{\"marker\": {\"colorbar\": {\"outlinewidth\": 0, \"ticks\": \"\"}}, \"type\": \"scattergl\"}], \"scattermapbox\": [{\"marker\": {\"colorbar\": {\"outlinewidth\": 0, \"ticks\": \"\"}}, \"type\": \"scattermapbox\"}], \"scatterpolar\": [{\"marker\": {\"colorbar\": {\"outlinewidth\": 0, \"ticks\": \"\"}}, \"type\": \"scatterpolar\"}], \"scatterpolargl\": [{\"marker\": {\"colorbar\": {\"outlinewidth\": 0, \"ticks\": \"\"}}, \"type\": \"scatterpolargl\"}], \"scatterternary\": [{\"marker\": {\"colorbar\": {\"outlinewidth\": 0, \"ticks\": \"\"}}, \"type\": \"scatterternary\"}], \"surface\": [{\"colorbar\": {\"outlinewidth\": 0, \"ticks\": \"\"}, \"colorscale\": [[0.0, \"#0d0887\"], [0.1111111111111111, \"#46039f\"], [0.2222222222222222, \"#7201a8\"], [0.3333333333333333, \"#9c179e\"], [0.4444444444444444, \"#bd3786\"], [0.5555555555555556, \"#d8576b\"], [0.6666666666666666, \"#ed7953\"], [0.7777777777777778, \"#fb9f3a\"], [0.8888888888888888, \"#fdca26\"], [1.0, \"#f0f921\"]], \"type\": \"surface\"}], \"table\": [{\"cells\": {\"fill\": {\"color\": \"#EBF0F8\"}, \"line\": {\"color\": \"white\"}}, \"header\": {\"fill\": {\"color\": \"#C8D4E3\"}, \"line\": {\"color\": \"white\"}}, \"type\": \"table\"}]}, \"layout\": {\"annotationdefaults\": {\"arrowcolor\": \"#2a3f5f\", \"arrowhead\": 0, \"arrowwidth\": 1}, \"coloraxis\": {\"colorbar\": {\"outlinewidth\": 0, \"ticks\": \"\"}}, \"colorscale\": {\"diverging\": [[0, \"#8e0152\"], [0.1, \"#c51b7d\"], [0.2, \"#de77ae\"], [0.3, \"#f1b6da\"], [0.4, \"#fde0ef\"], [0.5, \"#f7f7f7\"], [0.6, \"#e6f5d0\"], [0.7, \"#b8e186\"], [0.8, \"#7fbc41\"], [0.9, \"#4d9221\"], [1, \"#276419\"]], \"sequential\": [[0.0, \"#0d0887\"], [0.1111111111111111, \"#46039f\"], [0.2222222222222222, \"#7201a8\"], [0.3333333333333333, \"#9c179e\"], [0.4444444444444444, \"#bd3786\"], [0.5555555555555556, \"#d8576b\"], [0.6666666666666666, \"#ed7953\"], [0.7777777777777778, \"#fb9f3a\"], [0.8888888888888888, \"#fdca26\"], [1.0, \"#f0f921\"]], \"sequentialminus\": [[0.0, \"#0d0887\"], [0.1111111111111111, \"#46039f\"], [0.2222222222222222, \"#7201a8\"], [0.3333333333333333, \"#9c179e\"], [0.4444444444444444, \"#bd3786\"], [0.5555555555555556, \"#d8576b\"], [0.6666666666666666, \"#ed7953\"], [0.7777777777777778, \"#fb9f3a\"], [0.8888888888888888, \"#fdca26\"], [1.0, \"#f0f921\"]]}, \"colorway\": [\"#636efa\", \"#EF553B\", \"#00cc96\", \"#ab63fa\", \"#FFA15A\", \"#19d3f3\", \"#FF6692\", \"#B6E880\", \"#FF97FF\", \"#FECB52\"], \"font\": {\"color\": \"#2a3f5f\"}, \"geo\": {\"bgcolor\": \"white\", \"lakecolor\": \"white\", \"landcolor\": \"white\", \"showlakes\": true, \"showland\": true, \"subunitcolor\": \"#C8D4E3\"}, \"hoverlabel\": {\"align\": \"left\"}, \"hovermode\": \"closest\", \"mapbox\": {\"style\": \"light\"}, \"paper_bgcolor\": \"white\", \"plot_bgcolor\": \"white\", \"polar\": {\"angularaxis\": {\"gridcolor\": \"#EBF0F8\", \"linecolor\": \"#EBF0F8\", \"ticks\": \"\"}, \"bgcolor\": \"white\", \"radialaxis\": {\"gridcolor\": \"#EBF0F8\", \"linecolor\": \"#EBF0F8\", \"ticks\": \"\"}}, \"scene\": {\"xaxis\": {\"backgroundcolor\": \"white\", \"gridcolor\": \"#DFE8F3\", \"gridwidth\": 2, \"linecolor\": \"#EBF0F8\", \"showbackground\": true, \"ticks\": \"\", \"zerolinecolor\": \"#EBF0F8\"}, \"yaxis\": {\"backgroundcolor\": \"white\", \"gridcolor\": \"#DFE8F3\", \"gridwidth\": 2, \"linecolor\": \"#EBF0F8\", \"showbackground\": true, \"ticks\": \"\", \"zerolinecolor\": \"#EBF0F8\"}, \"zaxis\": {\"backgroundcolor\": \"white\", \"gridcolor\": \"#DFE8F3\", \"gridwidth\": 2, \"linecolor\": \"#EBF0F8\", \"showbackground\": true, \"ticks\": \"\", \"zerolinecolor\": \"#EBF0F8\"}}, \"shapedefaults\": {\"line\": {\"color\": \"#2a3f5f\"}}, \"ternary\": {\"aaxis\": {\"gridcolor\": \"#DFE8F3\", \"linecolor\": \"#A2B1C6\", \"ticks\": \"\"}, \"baxis\": {\"gridcolor\": \"#DFE8F3\", \"linecolor\": \"#A2B1C6\", \"ticks\": \"\"}, \"bgcolor\": \"white\", \"caxis\": {\"gridcolor\": \"#DFE8F3\", \"linecolor\": \"#A2B1C6\", \"ticks\": \"\"}}, \"title\": {\"x\": 0.05}, \"xaxis\": {\"automargin\": true, \"gridcolor\": \"#EBF0F8\", \"linecolor\": \"#EBF0F8\", \"ticks\": \"\", \"title\": {\"standoff\": 15}, \"zerolinecolor\": \"#EBF0F8\", \"zerolinewidth\": 2}, \"yaxis\": {\"automargin\": true, \"gridcolor\": \"#EBF0F8\", \"linecolor\": \"#EBF0F8\", \"ticks\": \"\", \"title\": {\"standoff\": 15}, \"zerolinecolor\": \"#EBF0F8\", \"zerolinewidth\": 2}}}, \"title\": {\"text\": \"DJIA Performance at Daily Close Q1 2020\"}, \"xaxis\": {\"anchor\": \"y\", \"domain\": [0.0, 1.0], \"range\": [\"01/02/2020\", \"04/01/2020\"], \"tickfont\": {\"color\": \"Red\", \"family\": \"Courier\", \"size\": 15}, \"title\": {\"font\": {\"color\": \"Red\", \"family\": \"Courier\", \"size\": 18}, \"text\": \"Date\"}}, \"yaxis\": {\"anchor\": \"x\", \"domain\": [0.0, 1.0], \"dtick\": 500, \"tickfont\": {\"color\": \"Red\", \"family\": \"Courier\", \"size\": 15}, \"tickformat\": \"$\", \"title\": {\"font\": {\"color\": \"Red\", \"family\": \"Courier\", \"size\": 18}, \"text\": \"Daily Close Value\"}}},\n",
              "                        {\"responsive\": true}\n",
              "                    ).then(function(){\n",
              "                            \n",
              "var gd = document.getElementById('23da2d3c-c6b5-4a0f-9f54-5a2615d0ac88');\n",
              "var x = new MutationObserver(function (mutations, observer) {{\n",
              "        var display = window.getComputedStyle(gd).display;\n",
              "        if (!display || display === 'none') {{\n",
              "            console.log([gd, 'removed!']);\n",
              "            Plotly.purge(gd);\n",
              "            observer.disconnect();\n",
              "        }}\n",
              "}});\n",
              "\n",
              "// Listen for the removal of the full notebook cells\n",
              "var notebookContainer = gd.closest('#notebook-container');\n",
              "if (notebookContainer) {{\n",
              "    x.observe(notebookContainer, {childList: true});\n",
              "}}\n",
              "\n",
              "// Listen for the clearing of the current output cell\n",
              "var outputEl = gd.closest('.output');\n",
              "if (outputEl) {{\n",
              "    x.observe(outputEl, {childList: true});\n",
              "}}\n",
              "\n",
              "                        })\n",
              "                };\n",
              "                \n",
              "            </script>\n",
              "        </div>\n",
              "</body>\n",
              "</html>"
            ]
          },
          "metadata": {
            "tags": []
          }
        }
      ]
    },
    {
      "cell_type": "code",
      "metadata": {
        "colab": {
          "base_uri": "https://localhost:8080/",
          "height": 35
        },
        "id": "lFfea4_YxyYr",
        "outputId": "43b69792-70c6-4a5d-a538-b0f03227ab98"
      },
      "source": [
        "DJ_performance_link= 'https://github.com/Alexander-Beaudry/DS3000-final-project/raw/main/DJ_Q1_2020_Peformance.png'\n",
        "DJ_performance_link"
      ],
      "execution_count": null,
      "outputs": [
        {
          "output_type": "execute_result",
          "data": {
            "application/vnd.google.colaboratory.intrinsic+json": {
              "type": "string"
            },
            "text/plain": [
              "'https://github.com/Alexander-Beaudry/DS3000-final-project/raw/main/DJ_Q1_2020_Peformance.png'"
            ]
          },
          "metadata": {
            "tags": []
          },
          "execution_count": 59
        }
      ]
    },
    {
      "cell_type": "markdown",
      "metadata": {
        "id": "qa-ZwjfcyoEM"
      },
      "source": [
        "This graph illustrates the daily close price performance of the DJ for Q1 2020. While our analysis focuses on intraday DJ performance, comparing the daily close performance and how an investor would have performed should they have bought and held for the whole quarter, with how they would have performed if they bought and sold immediately after Trump tweeted, provides meaningful context to the validility of implementing the later strategy, which our analysis explores."
      ]
    },
    {
      "cell_type": "code",
      "metadata": {
        "id": "rlqq-rTRoSk0",
        "colab": {
          "base_uri": "https://localhost:8080/",
          "height": 542
        },
        "outputId": "727a2b6d-6f23-4b59-d975-27b1b3091e07"
      },
      "source": [
        "Daily_num_tweets_fig = px.bar(daily_num_tweets_df, x = daily_num_tweets_df.columns, y=daily_num_tweets_df.values.tolist()[0])\n",
        "Daily_num_tweets_fig.update_layout(\n",
        "    template = 'plotly_white',\n",
        "    title=\"Number of Times Donald Trump Tweeted Each Day in Q1 2020\",\n",
        "    xaxis_title=\"Date\",\n",
        "    yaxis_title=\"Number of Tweets per day\"\n",
        "    \n",
        "    )\n",
        "Daily_num_tweets_fig.update_xaxes(title_font={\"size\":18, \"family\": \"Courier\", \"color\":\"Red\"},\n",
        "                  tickfont = {\"size\":15, \"family\": \"Courier\", \"color\":\"Red\"})\n",
        "Daily_num_tweets_fig.update_yaxes(title_font={\"size\":18, \"family\": \"Courier\", \"color\":\"Red\"},\n",
        "                  tickfont = {\"size\":15, \"family\": \"Courier\", \"color\":\"Red\"})\n",
        "Daily_num_tweets_fig.update_yaxes(dtick=1)\n",
        "\n",
        "\n",
        "Daily_num_tweets_fig.update_traces(marker_color=\"blue\")\n",
        "\n",
        "\n",
        "\n",
        "\n",
        "\n",
        "\n"
      ],
      "execution_count": 23,
      "outputs": [
        {
          "output_type": "display_data",
          "data": {
            "text/html": [
              "<html>\n",
              "<head><meta charset=\"utf-8\" /></head>\n",
              "<body>\n",
              "    <div>\n",
              "            <script src=\"https://cdnjs.cloudflare.com/ajax/libs/mathjax/2.7.5/MathJax.js?config=TeX-AMS-MML_SVG\"></script><script type=\"text/javascript\">if (window.MathJax) {MathJax.Hub.Config({SVG: {font: \"STIX-Web\"}});}</script>\n",
              "                <script type=\"text/javascript\">window.PlotlyConfig = {MathJaxConfig: 'local'};</script>\n",
              "        <script src=\"https://cdn.plot.ly/plotly-latest.min.js\"></script>    \n",
              "            <div id=\"1be0e1f1-2edf-4009-860e-76de112691b6\" class=\"plotly-graph-div\" style=\"height:525px; width:100%;\"></div>\n",
              "            <script type=\"text/javascript\">\n",
              "                \n",
              "                    window.PLOTLYENV=window.PLOTLYENV || {};\n",
              "                    \n",
              "                if (document.getElementById(\"1be0e1f1-2edf-4009-860e-76de112691b6\")) {\n",
              "                    Plotly.newPlot(\n",
              "                        '1be0e1f1-2edf-4009-860e-76de112691b6',\n",
              "                        [{\"alignmentgroup\": \"True\", \"hoverlabel\": {\"namelength\": 0}, \"hovertemplate\": \"x=%{x}<br>y=%{y}\", \"legendgroup\": \"\", \"marker\": {\"color\": \"blue\"}, \"name\": \"\", \"offsetgroup\": \"\", \"orientation\": \"v\", \"showlegend\": false, \"textposition\": \"auto\", \"type\": \"bar\", \"x\": [\"1/3/2020\", \"1/6/2020\", \"1/7/2020\", \"1/9/2020\", \"1/10/2020\", \"1/13/2020\", \"1/15/2020\", \"1/16/2020\", \"1/17/2020\", \"1/21/2020\", \"1/22/2020\", \"1/23/2020\", \"1/24/2020\", \"1/27/2020\", \"1/28/2020\", \"1/29/2020\", \"1/30/2020\", \"1/31/2020\", \"2/3/2020\", \"2/4/2020\", \"2/5/2020\", \"2/6/2020\", \"2/7/2020\", \"2/10/2020\", \"2/11/2020\", \"2/12/2020\", \"2/13/2020\", \"2/14/2020\", \"2/18/2020\", \"2/19/2020\", \"2/20/2020\", \"2/21/2020\", \"2/24/2020\", \"2/25/2020\", \"2/26/2020\", \"2/28/2020\", \"3/2/2020\", \"3/3/2020\", \"3/4/2020\", \"3/5/2020\", \"3/6/2020\", \"3/9/2020\", \"3/10/2020\", \"3/11/2020\", \"3/12/2020\", \"3/13/2020\", \"3/16/2020\", \"3/17/2020\", \"3/18/2020\", \"3/20/2020\", \"3/23/2020\", \"3/24/2020\", \"3/25/2020\", \"3/26/2020\", \"3/27/2020\", \"3/30/2020\", \"3/31/2020\"], \"xaxis\": \"x\", \"y\": [3, 2, 1, 3, 2, 5, 1, 4, 3, 1, 9, 13, 6, 3, 11, 9, 13, 1, 6, 2, 3, 3, 8, 2, 2, 10, 3, 5, 12, 4, 6, 7, 6, 4, 4, 6, 8, 5, 6, 10, 5, 3, 6, 7, 6, 3, 6, 2, 6, 2, 2, 4, 5, 2, 11, 4, 7], \"yaxis\": \"y\"}],\n",
              "                        {\"barmode\": \"relative\", \"legend\": {\"tracegroupgap\": 0}, \"margin\": {\"t\": 60}, \"template\": {\"data\": {\"bar\": [{\"error_x\": {\"color\": \"#2a3f5f\"}, \"error_y\": {\"color\": \"#2a3f5f\"}, \"marker\": {\"line\": {\"color\": \"white\", \"width\": 0.5}}, \"type\": \"bar\"}], \"barpolar\": [{\"marker\": {\"line\": {\"color\": \"white\", \"width\": 0.5}}, \"type\": \"barpolar\"}], \"carpet\": [{\"aaxis\": {\"endlinecolor\": \"#2a3f5f\", \"gridcolor\": \"#C8D4E3\", \"linecolor\": \"#C8D4E3\", \"minorgridcolor\": \"#C8D4E3\", \"startlinecolor\": \"#2a3f5f\"}, \"baxis\": {\"endlinecolor\": \"#2a3f5f\", \"gridcolor\": \"#C8D4E3\", \"linecolor\": \"#C8D4E3\", \"minorgridcolor\": \"#C8D4E3\", \"startlinecolor\": \"#2a3f5f\"}, \"type\": \"carpet\"}], \"choropleth\": [{\"colorbar\": {\"outlinewidth\": 0, \"ticks\": \"\"}, \"type\": \"choropleth\"}], \"contour\": [{\"colorbar\": {\"outlinewidth\": 0, \"ticks\": \"\"}, \"colorscale\": [[0.0, \"#0d0887\"], [0.1111111111111111, \"#46039f\"], [0.2222222222222222, \"#7201a8\"], [0.3333333333333333, \"#9c179e\"], [0.4444444444444444, \"#bd3786\"], [0.5555555555555556, \"#d8576b\"], [0.6666666666666666, \"#ed7953\"], [0.7777777777777778, \"#fb9f3a\"], [0.8888888888888888, \"#fdca26\"], [1.0, \"#f0f921\"]], \"type\": \"contour\"}], \"contourcarpet\": [{\"colorbar\": {\"outlinewidth\": 0, \"ticks\": \"\"}, \"type\": \"contourcarpet\"}], \"heatmap\": [{\"colorbar\": {\"outlinewidth\": 0, \"ticks\": \"\"}, \"colorscale\": [[0.0, \"#0d0887\"], [0.1111111111111111, \"#46039f\"], [0.2222222222222222, \"#7201a8\"], [0.3333333333333333, \"#9c179e\"], [0.4444444444444444, \"#bd3786\"], [0.5555555555555556, \"#d8576b\"], [0.6666666666666666, \"#ed7953\"], [0.7777777777777778, \"#fb9f3a\"], [0.8888888888888888, \"#fdca26\"], [1.0, \"#f0f921\"]], \"type\": \"heatmap\"}], \"heatmapgl\": [{\"colorbar\": {\"outlinewidth\": 0, \"ticks\": \"\"}, \"colorscale\": [[0.0, \"#0d0887\"], [0.1111111111111111, \"#46039f\"], [0.2222222222222222, \"#7201a8\"], [0.3333333333333333, \"#9c179e\"], [0.4444444444444444, \"#bd3786\"], [0.5555555555555556, \"#d8576b\"], [0.6666666666666666, \"#ed7953\"], [0.7777777777777778, \"#fb9f3a\"], [0.8888888888888888, \"#fdca26\"], [1.0, \"#f0f921\"]], \"type\": \"heatmapgl\"}], \"histogram\": [{\"marker\": {\"colorbar\": {\"outlinewidth\": 0, \"ticks\": \"\"}}, \"type\": \"histogram\"}], \"histogram2d\": [{\"colorbar\": {\"outlinewidth\": 0, \"ticks\": \"\"}, \"colorscale\": [[0.0, \"#0d0887\"], [0.1111111111111111, \"#46039f\"], [0.2222222222222222, \"#7201a8\"], [0.3333333333333333, \"#9c179e\"], [0.4444444444444444, \"#bd3786\"], [0.5555555555555556, \"#d8576b\"], [0.6666666666666666, \"#ed7953\"], [0.7777777777777778, \"#fb9f3a\"], [0.8888888888888888, \"#fdca26\"], [1.0, \"#f0f921\"]], \"type\": \"histogram2d\"}], \"histogram2dcontour\": [{\"colorbar\": {\"outlinewidth\": 0, \"ticks\": \"\"}, \"colorscale\": [[0.0, \"#0d0887\"], [0.1111111111111111, \"#46039f\"], [0.2222222222222222, \"#7201a8\"], [0.3333333333333333, \"#9c179e\"], [0.4444444444444444, \"#bd3786\"], [0.5555555555555556, \"#d8576b\"], [0.6666666666666666, \"#ed7953\"], [0.7777777777777778, \"#fb9f3a\"], [0.8888888888888888, \"#fdca26\"], [1.0, \"#f0f921\"]], \"type\": \"histogram2dcontour\"}], \"mesh3d\": [{\"colorbar\": {\"outlinewidth\": 0, \"ticks\": \"\"}, \"type\": \"mesh3d\"}], \"parcoords\": [{\"line\": {\"colorbar\": {\"outlinewidth\": 0, \"ticks\": \"\"}}, \"type\": \"parcoords\"}], \"pie\": [{\"automargin\": true, \"type\": \"pie\"}], \"scatter\": [{\"marker\": {\"colorbar\": {\"outlinewidth\": 0, \"ticks\": \"\"}}, \"type\": \"scatter\"}], \"scatter3d\": [{\"line\": {\"colorbar\": {\"outlinewidth\": 0, \"ticks\": \"\"}}, \"marker\": {\"colorbar\": {\"outlinewidth\": 0, \"ticks\": \"\"}}, \"type\": \"scatter3d\"}], \"scattercarpet\": [{\"marker\": {\"colorbar\": {\"outlinewidth\": 0, \"ticks\": \"\"}}, \"type\": \"scattercarpet\"}], \"scattergeo\": [{\"marker\": {\"colorbar\": {\"outlinewidth\": 0, \"ticks\": \"\"}}, \"type\": \"scattergeo\"}], \"scattergl\": [{\"marker\": {\"colorbar\": {\"outlinewidth\": 0, \"ticks\": \"\"}}, \"type\": \"scattergl\"}], \"scattermapbox\": [{\"marker\": {\"colorbar\": {\"outlinewidth\": 0, \"ticks\": \"\"}}, \"type\": \"scattermapbox\"}], \"scatterpolar\": [{\"marker\": {\"colorbar\": {\"outlinewidth\": 0, \"ticks\": \"\"}}, \"type\": \"scatterpolar\"}], \"scatterpolargl\": [{\"marker\": {\"colorbar\": {\"outlinewidth\": 0, \"ticks\": \"\"}}, \"type\": \"scatterpolargl\"}], \"scatterternary\": [{\"marker\": {\"colorbar\": {\"outlinewidth\": 0, \"ticks\": \"\"}}, \"type\": \"scatterternary\"}], \"surface\": [{\"colorbar\": {\"outlinewidth\": 0, \"ticks\": \"\"}, \"colorscale\": [[0.0, \"#0d0887\"], [0.1111111111111111, \"#46039f\"], [0.2222222222222222, \"#7201a8\"], [0.3333333333333333, \"#9c179e\"], [0.4444444444444444, \"#bd3786\"], [0.5555555555555556, \"#d8576b\"], [0.6666666666666666, \"#ed7953\"], [0.7777777777777778, \"#fb9f3a\"], [0.8888888888888888, \"#fdca26\"], [1.0, \"#f0f921\"]], \"type\": \"surface\"}], \"table\": [{\"cells\": {\"fill\": {\"color\": \"#EBF0F8\"}, \"line\": {\"color\": \"white\"}}, \"header\": {\"fill\": {\"color\": \"#C8D4E3\"}, \"line\": {\"color\": \"white\"}}, \"type\": \"table\"}]}, \"layout\": {\"annotationdefaults\": {\"arrowcolor\": \"#2a3f5f\", \"arrowhead\": 0, \"arrowwidth\": 1}, \"coloraxis\": {\"colorbar\": {\"outlinewidth\": 0, \"ticks\": \"\"}}, \"colorscale\": {\"diverging\": [[0, \"#8e0152\"], [0.1, \"#c51b7d\"], [0.2, \"#de77ae\"], [0.3, \"#f1b6da\"], [0.4, \"#fde0ef\"], [0.5, \"#f7f7f7\"], [0.6, \"#e6f5d0\"], [0.7, \"#b8e186\"], [0.8, \"#7fbc41\"], [0.9, \"#4d9221\"], [1, \"#276419\"]], \"sequential\": [[0.0, \"#0d0887\"], [0.1111111111111111, \"#46039f\"], [0.2222222222222222, \"#7201a8\"], [0.3333333333333333, \"#9c179e\"], [0.4444444444444444, \"#bd3786\"], [0.5555555555555556, \"#d8576b\"], [0.6666666666666666, \"#ed7953\"], [0.7777777777777778, \"#fb9f3a\"], [0.8888888888888888, \"#fdca26\"], [1.0, \"#f0f921\"]], \"sequentialminus\": [[0.0, \"#0d0887\"], [0.1111111111111111, \"#46039f\"], [0.2222222222222222, \"#7201a8\"], [0.3333333333333333, \"#9c179e\"], [0.4444444444444444, \"#bd3786\"], [0.5555555555555556, \"#d8576b\"], [0.6666666666666666, \"#ed7953\"], [0.7777777777777778, \"#fb9f3a\"], [0.8888888888888888, \"#fdca26\"], [1.0, \"#f0f921\"]]}, \"colorway\": [\"#636efa\", \"#EF553B\", \"#00cc96\", \"#ab63fa\", \"#FFA15A\", \"#19d3f3\", \"#FF6692\", \"#B6E880\", \"#FF97FF\", \"#FECB52\"], \"font\": {\"color\": \"#2a3f5f\"}, \"geo\": {\"bgcolor\": \"white\", \"lakecolor\": \"white\", \"landcolor\": \"white\", \"showlakes\": true, \"showland\": true, \"subunitcolor\": \"#C8D4E3\"}, \"hoverlabel\": {\"align\": \"left\"}, \"hovermode\": \"closest\", \"mapbox\": {\"style\": \"light\"}, \"paper_bgcolor\": \"white\", \"plot_bgcolor\": \"white\", \"polar\": {\"angularaxis\": {\"gridcolor\": \"#EBF0F8\", \"linecolor\": \"#EBF0F8\", \"ticks\": \"\"}, \"bgcolor\": \"white\", \"radialaxis\": {\"gridcolor\": \"#EBF0F8\", \"linecolor\": \"#EBF0F8\", \"ticks\": \"\"}}, \"scene\": {\"xaxis\": {\"backgroundcolor\": \"white\", \"gridcolor\": \"#DFE8F3\", \"gridwidth\": 2, \"linecolor\": \"#EBF0F8\", \"showbackground\": true, \"ticks\": \"\", \"zerolinecolor\": \"#EBF0F8\"}, \"yaxis\": {\"backgroundcolor\": \"white\", \"gridcolor\": \"#DFE8F3\", \"gridwidth\": 2, \"linecolor\": \"#EBF0F8\", \"showbackground\": true, \"ticks\": \"\", \"zerolinecolor\": \"#EBF0F8\"}, \"zaxis\": {\"backgroundcolor\": \"white\", \"gridcolor\": \"#DFE8F3\", \"gridwidth\": 2, \"linecolor\": \"#EBF0F8\", \"showbackground\": true, \"ticks\": \"\", \"zerolinecolor\": \"#EBF0F8\"}}, \"shapedefaults\": {\"line\": {\"color\": \"#2a3f5f\"}}, \"ternary\": {\"aaxis\": {\"gridcolor\": \"#DFE8F3\", \"linecolor\": \"#A2B1C6\", \"ticks\": \"\"}, \"baxis\": {\"gridcolor\": \"#DFE8F3\", \"linecolor\": \"#A2B1C6\", \"ticks\": \"\"}, \"bgcolor\": \"white\", \"caxis\": {\"gridcolor\": \"#DFE8F3\", \"linecolor\": \"#A2B1C6\", \"ticks\": \"\"}}, \"title\": {\"x\": 0.05}, \"xaxis\": {\"automargin\": true, \"gridcolor\": \"#EBF0F8\", \"linecolor\": \"#EBF0F8\", \"ticks\": \"\", \"title\": {\"standoff\": 15}, \"zerolinecolor\": \"#EBF0F8\", \"zerolinewidth\": 2}, \"yaxis\": {\"automargin\": true, \"gridcolor\": \"#EBF0F8\", \"linecolor\": \"#EBF0F8\", \"ticks\": \"\", \"title\": {\"standoff\": 15}, \"zerolinecolor\": \"#EBF0F8\", \"zerolinewidth\": 2}}}, \"title\": {\"text\": \"Number of Times Donald Trump Tweeted Each Day in Q1 2020\"}, \"xaxis\": {\"anchor\": \"y\", \"domain\": [0.0, 1.0], \"tickfont\": {\"color\": \"Red\", \"family\": \"Courier\", \"size\": 15}, \"title\": {\"font\": {\"color\": \"Red\", \"family\": \"Courier\", \"size\": 18}, \"text\": \"Date\"}}, \"yaxis\": {\"anchor\": \"x\", \"domain\": [0.0, 1.0], \"dtick\": 1, \"tickfont\": {\"color\": \"Red\", \"family\": \"Courier\", \"size\": 15}, \"title\": {\"font\": {\"color\": \"Red\", \"family\": \"Courier\", \"size\": 18}, \"text\": \"Number of Tweets per day\"}}},\n",
              "                        {\"responsive\": true}\n",
              "                    ).then(function(){\n",
              "                            \n",
              "var gd = document.getElementById('1be0e1f1-2edf-4009-860e-76de112691b6');\n",
              "var x = new MutationObserver(function (mutations, observer) {{\n",
              "        var display = window.getComputedStyle(gd).display;\n",
              "        if (!display || display === 'none') {{\n",
              "            console.log([gd, 'removed!']);\n",
              "            Plotly.purge(gd);\n",
              "            observer.disconnect();\n",
              "        }}\n",
              "}});\n",
              "\n",
              "// Listen for the removal of the full notebook cells\n",
              "var notebookContainer = gd.closest('#notebook-container');\n",
              "if (notebookContainer) {{\n",
              "    x.observe(notebookContainer, {childList: true});\n",
              "}}\n",
              "\n",
              "// Listen for the clearing of the current output cell\n",
              "var outputEl = gd.closest('.output');\n",
              "if (outputEl) {{\n",
              "    x.observe(outputEl, {childList: true});\n",
              "}}\n",
              "\n",
              "                        })\n",
              "                };\n",
              "                \n",
              "            </script>\n",
              "        </div>\n",
              "</body>\n",
              "</html>"
            ]
          },
          "metadata": {
            "tags": []
          }
        }
      ]
    },
    {
      "cell_type": "code",
      "metadata": {
        "colab": {
          "base_uri": "https://localhost:8080/",
          "height": 542
        },
        "id": "4p4fiu3S6g2E",
        "outputId": "1950d4da-134e-43e3-a470-5f9392ab445e"
      },
      "source": [
        "Daily_num_tweets_fig.show()\n"
      ],
      "execution_count": 24,
      "outputs": [
        {
          "output_type": "display_data",
          "data": {
            "text/html": [
              "<html>\n",
              "<head><meta charset=\"utf-8\" /></head>\n",
              "<body>\n",
              "    <div>\n",
              "            <script src=\"https://cdnjs.cloudflare.com/ajax/libs/mathjax/2.7.5/MathJax.js?config=TeX-AMS-MML_SVG\"></script><script type=\"text/javascript\">if (window.MathJax) {MathJax.Hub.Config({SVG: {font: \"STIX-Web\"}});}</script>\n",
              "                <script type=\"text/javascript\">window.PlotlyConfig = {MathJaxConfig: 'local'};</script>\n",
              "        <script src=\"https://cdn.plot.ly/plotly-latest.min.js\"></script>    \n",
              "            <div id=\"dae49a27-f391-42ef-9691-9acff328fb68\" class=\"plotly-graph-div\" style=\"height:525px; width:100%;\"></div>\n",
              "            <script type=\"text/javascript\">\n",
              "                \n",
              "                    window.PLOTLYENV=window.PLOTLYENV || {};\n",
              "                    \n",
              "                if (document.getElementById(\"dae49a27-f391-42ef-9691-9acff328fb68\")) {\n",
              "                    Plotly.newPlot(\n",
              "                        'dae49a27-f391-42ef-9691-9acff328fb68',\n",
              "                        [{\"alignmentgroup\": \"True\", \"hoverlabel\": {\"namelength\": 0}, \"hovertemplate\": \"x=%{x}<br>y=%{y}\", \"legendgroup\": \"\", \"marker\": {\"color\": \"blue\"}, \"name\": \"\", \"offsetgroup\": \"\", \"orientation\": \"v\", \"showlegend\": false, \"textposition\": \"auto\", \"type\": \"bar\", \"x\": [\"1/3/2020\", \"1/6/2020\", \"1/7/2020\", \"1/9/2020\", \"1/10/2020\", \"1/13/2020\", \"1/15/2020\", \"1/16/2020\", \"1/17/2020\", \"1/21/2020\", \"1/22/2020\", \"1/23/2020\", \"1/24/2020\", \"1/27/2020\", \"1/28/2020\", \"1/29/2020\", \"1/30/2020\", \"1/31/2020\", \"2/3/2020\", \"2/4/2020\", \"2/5/2020\", \"2/6/2020\", \"2/7/2020\", \"2/10/2020\", \"2/11/2020\", \"2/12/2020\", \"2/13/2020\", \"2/14/2020\", \"2/18/2020\", \"2/19/2020\", \"2/20/2020\", \"2/21/2020\", \"2/24/2020\", \"2/25/2020\", \"2/26/2020\", \"2/28/2020\", \"3/2/2020\", \"3/3/2020\", \"3/4/2020\", \"3/5/2020\", \"3/6/2020\", \"3/9/2020\", \"3/10/2020\", \"3/11/2020\", \"3/12/2020\", \"3/13/2020\", \"3/16/2020\", \"3/17/2020\", \"3/18/2020\", \"3/20/2020\", \"3/23/2020\", \"3/24/2020\", \"3/25/2020\", \"3/26/2020\", \"3/27/2020\", \"3/30/2020\", \"3/31/2020\"], \"xaxis\": \"x\", \"y\": [3, 2, 1, 3, 2, 5, 1, 4, 3, 1, 9, 13, 6, 3, 11, 9, 13, 1, 6, 2, 3, 3, 8, 2, 2, 10, 3, 5, 12, 4, 6, 7, 6, 4, 4, 6, 8, 5, 6, 10, 5, 3, 6, 7, 6, 3, 6, 2, 6, 2, 2, 4, 5, 2, 11, 4, 7], \"yaxis\": \"y\"}],\n",
              "                        {\"barmode\": \"relative\", \"legend\": {\"tracegroupgap\": 0}, \"margin\": {\"t\": 60}, \"template\": {\"data\": {\"bar\": [{\"error_x\": {\"color\": \"#2a3f5f\"}, \"error_y\": {\"color\": \"#2a3f5f\"}, \"marker\": {\"line\": {\"color\": \"white\", \"width\": 0.5}}, \"type\": \"bar\"}], \"barpolar\": [{\"marker\": {\"line\": {\"color\": \"white\", \"width\": 0.5}}, \"type\": \"barpolar\"}], \"carpet\": [{\"aaxis\": {\"endlinecolor\": \"#2a3f5f\", \"gridcolor\": \"#C8D4E3\", \"linecolor\": \"#C8D4E3\", \"minorgridcolor\": \"#C8D4E3\", \"startlinecolor\": \"#2a3f5f\"}, \"baxis\": {\"endlinecolor\": \"#2a3f5f\", \"gridcolor\": \"#C8D4E3\", \"linecolor\": \"#C8D4E3\", \"minorgridcolor\": \"#C8D4E3\", \"startlinecolor\": \"#2a3f5f\"}, \"type\": \"carpet\"}], \"choropleth\": [{\"colorbar\": {\"outlinewidth\": 0, \"ticks\": \"\"}, \"type\": \"choropleth\"}], \"contour\": [{\"colorbar\": {\"outlinewidth\": 0, \"ticks\": \"\"}, \"colorscale\": [[0.0, \"#0d0887\"], [0.1111111111111111, \"#46039f\"], [0.2222222222222222, \"#7201a8\"], [0.3333333333333333, \"#9c179e\"], [0.4444444444444444, \"#bd3786\"], [0.5555555555555556, \"#d8576b\"], [0.6666666666666666, \"#ed7953\"], [0.7777777777777778, \"#fb9f3a\"], [0.8888888888888888, \"#fdca26\"], [1.0, \"#f0f921\"]], \"type\": \"contour\"}], \"contourcarpet\": [{\"colorbar\": {\"outlinewidth\": 0, \"ticks\": \"\"}, \"type\": \"contourcarpet\"}], \"heatmap\": [{\"colorbar\": {\"outlinewidth\": 0, \"ticks\": \"\"}, \"colorscale\": [[0.0, \"#0d0887\"], [0.1111111111111111, \"#46039f\"], [0.2222222222222222, \"#7201a8\"], [0.3333333333333333, \"#9c179e\"], [0.4444444444444444, \"#bd3786\"], [0.5555555555555556, \"#d8576b\"], [0.6666666666666666, \"#ed7953\"], [0.7777777777777778, \"#fb9f3a\"], [0.8888888888888888, \"#fdca26\"], [1.0, \"#f0f921\"]], \"type\": \"heatmap\"}], \"heatmapgl\": [{\"colorbar\": {\"outlinewidth\": 0, \"ticks\": \"\"}, \"colorscale\": [[0.0, \"#0d0887\"], [0.1111111111111111, \"#46039f\"], [0.2222222222222222, \"#7201a8\"], [0.3333333333333333, \"#9c179e\"], [0.4444444444444444, \"#bd3786\"], [0.5555555555555556, \"#d8576b\"], [0.6666666666666666, \"#ed7953\"], [0.7777777777777778, \"#fb9f3a\"], [0.8888888888888888, \"#fdca26\"], [1.0, \"#f0f921\"]], \"type\": \"heatmapgl\"}], \"histogram\": [{\"marker\": {\"colorbar\": {\"outlinewidth\": 0, \"ticks\": \"\"}}, \"type\": \"histogram\"}], \"histogram2d\": [{\"colorbar\": {\"outlinewidth\": 0, \"ticks\": \"\"}, \"colorscale\": [[0.0, \"#0d0887\"], [0.1111111111111111, \"#46039f\"], [0.2222222222222222, \"#7201a8\"], [0.3333333333333333, \"#9c179e\"], [0.4444444444444444, \"#bd3786\"], [0.5555555555555556, \"#d8576b\"], [0.6666666666666666, \"#ed7953\"], [0.7777777777777778, \"#fb9f3a\"], [0.8888888888888888, \"#fdca26\"], [1.0, \"#f0f921\"]], \"type\": \"histogram2d\"}], \"histogram2dcontour\": [{\"colorbar\": {\"outlinewidth\": 0, \"ticks\": \"\"}, \"colorscale\": [[0.0, \"#0d0887\"], [0.1111111111111111, \"#46039f\"], [0.2222222222222222, \"#7201a8\"], [0.3333333333333333, \"#9c179e\"], [0.4444444444444444, \"#bd3786\"], [0.5555555555555556, \"#d8576b\"], [0.6666666666666666, \"#ed7953\"], [0.7777777777777778, \"#fb9f3a\"], [0.8888888888888888, \"#fdca26\"], [1.0, \"#f0f921\"]], \"type\": \"histogram2dcontour\"}], \"mesh3d\": [{\"colorbar\": {\"outlinewidth\": 0, \"ticks\": \"\"}, \"type\": \"mesh3d\"}], \"parcoords\": [{\"line\": {\"colorbar\": {\"outlinewidth\": 0, \"ticks\": \"\"}}, \"type\": \"parcoords\"}], \"pie\": [{\"automargin\": true, \"type\": \"pie\"}], \"scatter\": [{\"marker\": {\"colorbar\": {\"outlinewidth\": 0, \"ticks\": \"\"}}, \"type\": \"scatter\"}], \"scatter3d\": [{\"line\": {\"colorbar\": {\"outlinewidth\": 0, \"ticks\": \"\"}}, \"marker\": {\"colorbar\": {\"outlinewidth\": 0, \"ticks\": \"\"}}, \"type\": \"scatter3d\"}], \"scattercarpet\": [{\"marker\": {\"colorbar\": {\"outlinewidth\": 0, \"ticks\": \"\"}}, \"type\": \"scattercarpet\"}], \"scattergeo\": [{\"marker\": {\"colorbar\": {\"outlinewidth\": 0, \"ticks\": \"\"}}, \"type\": \"scattergeo\"}], \"scattergl\": [{\"marker\": {\"colorbar\": {\"outlinewidth\": 0, \"ticks\": \"\"}}, \"type\": \"scattergl\"}], \"scattermapbox\": [{\"marker\": {\"colorbar\": {\"outlinewidth\": 0, \"ticks\": \"\"}}, \"type\": \"scattermapbox\"}], \"scatterpolar\": [{\"marker\": {\"colorbar\": {\"outlinewidth\": 0, \"ticks\": \"\"}}, \"type\": \"scatterpolar\"}], \"scatterpolargl\": [{\"marker\": {\"colorbar\": {\"outlinewidth\": 0, \"ticks\": \"\"}}, \"type\": \"scatterpolargl\"}], \"scatterternary\": [{\"marker\": {\"colorbar\": {\"outlinewidth\": 0, \"ticks\": \"\"}}, \"type\": \"scatterternary\"}], \"surface\": [{\"colorbar\": {\"outlinewidth\": 0, \"ticks\": \"\"}, \"colorscale\": [[0.0, \"#0d0887\"], [0.1111111111111111, \"#46039f\"], [0.2222222222222222, \"#7201a8\"], [0.3333333333333333, \"#9c179e\"], [0.4444444444444444, \"#bd3786\"], [0.5555555555555556, \"#d8576b\"], [0.6666666666666666, \"#ed7953\"], [0.7777777777777778, \"#fb9f3a\"], [0.8888888888888888, \"#fdca26\"], [1.0, \"#f0f921\"]], \"type\": \"surface\"}], \"table\": [{\"cells\": {\"fill\": {\"color\": \"#EBF0F8\"}, \"line\": {\"color\": \"white\"}}, \"header\": {\"fill\": {\"color\": \"#C8D4E3\"}, \"line\": {\"color\": \"white\"}}, \"type\": \"table\"}]}, \"layout\": {\"annotationdefaults\": {\"arrowcolor\": \"#2a3f5f\", \"arrowhead\": 0, \"arrowwidth\": 1}, \"coloraxis\": {\"colorbar\": {\"outlinewidth\": 0, \"ticks\": \"\"}}, \"colorscale\": {\"diverging\": [[0, \"#8e0152\"], [0.1, \"#c51b7d\"], [0.2, \"#de77ae\"], [0.3, \"#f1b6da\"], [0.4, \"#fde0ef\"], [0.5, \"#f7f7f7\"], [0.6, \"#e6f5d0\"], [0.7, \"#b8e186\"], [0.8, \"#7fbc41\"], [0.9, \"#4d9221\"], [1, \"#276419\"]], \"sequential\": [[0.0, \"#0d0887\"], [0.1111111111111111, \"#46039f\"], [0.2222222222222222, \"#7201a8\"], [0.3333333333333333, \"#9c179e\"], [0.4444444444444444, \"#bd3786\"], [0.5555555555555556, \"#d8576b\"], [0.6666666666666666, \"#ed7953\"], [0.7777777777777778, \"#fb9f3a\"], [0.8888888888888888, \"#fdca26\"], [1.0, \"#f0f921\"]], \"sequentialminus\": [[0.0, \"#0d0887\"], [0.1111111111111111, \"#46039f\"], [0.2222222222222222, \"#7201a8\"], [0.3333333333333333, \"#9c179e\"], [0.4444444444444444, \"#bd3786\"], [0.5555555555555556, \"#d8576b\"], [0.6666666666666666, \"#ed7953\"], [0.7777777777777778, \"#fb9f3a\"], [0.8888888888888888, \"#fdca26\"], [1.0, \"#f0f921\"]]}, \"colorway\": [\"#636efa\", \"#EF553B\", \"#00cc96\", \"#ab63fa\", \"#FFA15A\", \"#19d3f3\", \"#FF6692\", \"#B6E880\", \"#FF97FF\", \"#FECB52\"], \"font\": {\"color\": \"#2a3f5f\"}, \"geo\": {\"bgcolor\": \"white\", \"lakecolor\": \"white\", \"landcolor\": \"white\", \"showlakes\": true, \"showland\": true, \"subunitcolor\": \"#C8D4E3\"}, \"hoverlabel\": {\"align\": \"left\"}, \"hovermode\": \"closest\", \"mapbox\": {\"style\": \"light\"}, \"paper_bgcolor\": \"white\", \"plot_bgcolor\": \"white\", \"polar\": {\"angularaxis\": {\"gridcolor\": \"#EBF0F8\", \"linecolor\": \"#EBF0F8\", \"ticks\": \"\"}, \"bgcolor\": \"white\", \"radialaxis\": {\"gridcolor\": \"#EBF0F8\", \"linecolor\": \"#EBF0F8\", \"ticks\": \"\"}}, \"scene\": {\"xaxis\": {\"backgroundcolor\": \"white\", \"gridcolor\": \"#DFE8F3\", \"gridwidth\": 2, \"linecolor\": \"#EBF0F8\", \"showbackground\": true, \"ticks\": \"\", \"zerolinecolor\": \"#EBF0F8\"}, \"yaxis\": {\"backgroundcolor\": \"white\", \"gridcolor\": \"#DFE8F3\", \"gridwidth\": 2, \"linecolor\": \"#EBF0F8\", \"showbackground\": true, \"ticks\": \"\", \"zerolinecolor\": \"#EBF0F8\"}, \"zaxis\": {\"backgroundcolor\": \"white\", \"gridcolor\": \"#DFE8F3\", \"gridwidth\": 2, \"linecolor\": \"#EBF0F8\", \"showbackground\": true, \"ticks\": \"\", \"zerolinecolor\": \"#EBF0F8\"}}, \"shapedefaults\": {\"line\": {\"color\": \"#2a3f5f\"}}, \"ternary\": {\"aaxis\": {\"gridcolor\": \"#DFE8F3\", \"linecolor\": \"#A2B1C6\", \"ticks\": \"\"}, \"baxis\": {\"gridcolor\": \"#DFE8F3\", \"linecolor\": \"#A2B1C6\", \"ticks\": \"\"}, \"bgcolor\": \"white\", \"caxis\": {\"gridcolor\": \"#DFE8F3\", \"linecolor\": \"#A2B1C6\", \"ticks\": \"\"}}, \"title\": {\"x\": 0.05}, \"xaxis\": {\"automargin\": true, \"gridcolor\": \"#EBF0F8\", \"linecolor\": \"#EBF0F8\", \"ticks\": \"\", \"title\": {\"standoff\": 15}, \"zerolinecolor\": \"#EBF0F8\", \"zerolinewidth\": 2}, \"yaxis\": {\"automargin\": true, \"gridcolor\": \"#EBF0F8\", \"linecolor\": \"#EBF0F8\", \"ticks\": \"\", \"title\": {\"standoff\": 15}, \"zerolinecolor\": \"#EBF0F8\", \"zerolinewidth\": 2}}}, \"title\": {\"text\": \"Number of Times Donald Trump Tweeted Each Day in Q1 2020\"}, \"xaxis\": {\"anchor\": \"y\", \"domain\": [0.0, 1.0], \"tickfont\": {\"color\": \"Red\", \"family\": \"Courier\", \"size\": 15}, \"title\": {\"font\": {\"color\": \"Red\", \"family\": \"Courier\", \"size\": 18}, \"text\": \"Date\"}}, \"yaxis\": {\"anchor\": \"x\", \"domain\": [0.0, 1.0], \"dtick\": 1, \"tickfont\": {\"color\": \"Red\", \"family\": \"Courier\", \"size\": 15}, \"title\": {\"font\": {\"color\": \"Red\", \"family\": \"Courier\", \"size\": 18}, \"text\": \"Number of Tweets per day\"}}},\n",
              "                        {\"responsive\": true}\n",
              "                    ).then(function(){\n",
              "                            \n",
              "var gd = document.getElementById('dae49a27-f391-42ef-9691-9acff328fb68');\n",
              "var x = new MutationObserver(function (mutations, observer) {{\n",
              "        var display = window.getComputedStyle(gd).display;\n",
              "        if (!display || display === 'none') {{\n",
              "            console.log([gd, 'removed!']);\n",
              "            Plotly.purge(gd);\n",
              "            observer.disconnect();\n",
              "        }}\n",
              "}});\n",
              "\n",
              "// Listen for the removal of the full notebook cells\n",
              "var notebookContainer = gd.closest('#notebook-container');\n",
              "if (notebookContainer) {{\n",
              "    x.observe(notebookContainer, {childList: true});\n",
              "}}\n",
              "\n",
              "// Listen for the clearing of the current output cell\n",
              "var outputEl = gd.closest('.output');\n",
              "if (outputEl) {{\n",
              "    x.observe(outputEl, {childList: true});\n",
              "}}\n",
              "\n",
              "                        })\n",
              "                };\n",
              "                \n",
              "            </script>\n",
              "        </div>\n",
              "</body>\n",
              "</html>"
            ]
          },
          "metadata": {
            "tags": []
          }
        }
      ]
    },
    {
      "cell_type": "code",
      "metadata": {
        "colab": {
          "base_uri": "https://localhost:8080/",
          "height": 35
        },
        "id": "f2VqZM23xuMJ",
        "outputId": "3afdea54-d1a0-4fe6-ddec-9167565b57cf"
      },
      "source": [
        "Percent_change_day_link =\"https://github.com/Alexander-Beaudry/DS3000-final-project/raw/main/Percent_Change_Distribution_Day_Of_Year.png\"\n",
        "Percent_change_day_link"
      ],
      "execution_count": 25,
      "outputs": [
        {
          "output_type": "execute_result",
          "data": {
            "application/vnd.google.colaboratory.intrinsic+json": {
              "type": "string"
            },
            "text/plain": [
              "'https://github.com/Alexander-Beaudry/DS3000-final-project/raw/main/Percent_Change_Distribution_Day_Of_Year.png'"
            ]
          },
          "metadata": {
            "tags": []
          },
          "execution_count": 25
        }
      ]
    },
    {
      "cell_type": "markdown",
      "metadata": {
        "id": "eA6SsxwYN0v_"
      },
      "source": [
        "% Change Distribution by day of year.\n",
        "This graph illustrates a scatter plot of each time Trump tweeted per day, for every day during the period, and the resulting percentage change in the Dow Jones value 1 minute following the Tweet.\n",
        "\n",
        "While, as we discussed above, an investors performance if they had invested every time Trump tweeted during the period, their performance would have closely resembled the market, this graph illustrates that making strategic investments following specific Tweets, investors may be able to see outsized gains. Utilizing our ML model, investors can attempt to determine how well the Dow Jones will perform after a given Tweet and make a decision about whether to invest. \n",
        "\n",
        "However, while values closer to 0% seem to be relatively balanced between positive and negative, it appears that when looking at Tweets with outlying positive and negative percent changes, there appears to be slightly more negative values. One point to note though, is that a significant majority of outliying percent changes occured during March when COVID hit and the Dow Jones fell precipitously. If we were to utilize our model in a more normalized period, investors may be able to see net positive gains by making strategic investments after Tweets we predict to result in positive Market movements."
      ]
    },
    {
      "cell_type": "code",
      "metadata": {
        "colab": {
          "base_uri": "https://localhost:8080/",
          "height": 198
        },
        "id": "DPX8YOe30vIC",
        "outputId": "860306e0-6df2-4e37-8310-323ec99f792b"
      },
      "source": [
        "text = \" \".join(tweet for tweet in trump_df['content'])\n",
        "\n",
        "stopwords = set(STOPWORDS)\n",
        "stopwords.update([\"who\", \"what\", \"when\", \"why\", \"how\", \"is\", \"Thank\",\"will\",\"https\",\"way\",\"twitter\",\"great\",\"pic\",\"now\",\"people\",\"going\"])\n",
        "\n",
        "# Generate a word cloud image\n",
        "wordcloud = WordCloud(stopwords=stopwords, background_color=\"white\").generate(text)\n",
        "\n",
        "# Display the generated image:\n",
        "# the matplotlib way:\n",
        "plt.imshow(wordcloud, interpolation='bilinear')\n",
        "plt.axis(\"off\")\n",
        "plt.show()"
      ],
      "execution_count": null,
      "outputs": [
        {
          "output_type": "display_data",
          "data": {
            "image/png": "[encoded data removed]",
            "text/plain": [
              "<Figure size 432x288 with 1 Axes>"
            ]
          },
          "metadata": {
            "tags": [],
            "needs_background": "light"
          }
        }
      ]
    },
    {
      "cell_type": "code",
      "metadata": {
        "colab": {
          "base_uri": "https://localhost:8080/",
          "height": 35
        },
        "id": "9hzc91Hl8NtX",
        "outputId": "5bbf3ee5-4b02-457c-988d-a218dcc73169"
      },
      "source": [
        "wordcloud_link ='https://github.com/Alexander-Beaudry/DS3000-final-project/raw/main/trump_wordcloud.png'\n",
        "wordcloud_link"
      ],
      "execution_count": null,
      "outputs": [
        {
          "output_type": "execute_result",
          "data": {
            "application/vnd.google.colaboratory.intrinsic+json": {
              "type": "string"
            },
            "text/plain": [
              "'https://github.com/Alexander-Beaudry/DS3000-final-project/raw/main/trump_wordcloud.png'"
            ]
          },
          "metadata": {
            "tags": []
          },
          "execution_count": 34
        }
      ]
    },
    {
      "cell_type": "markdown",
      "metadata": {
        "id": "wsLfHWPo1eWL"
      },
      "source": [
        "This WordCloud visualization represents the most common words Trump said in his Tweets during Q1 2020, and their frequency is measured by the size of the word. \n",
        "\n",
        "While it may appear to simply be a fun visualization, there are some meaningful conclusions and observations that can be made about it. Firstly, the word at the center of the graph, displayed largely is 'status'. Interestingly, 'coronavirus is only a green blip shown right below status. While Trump may have used the word 'status' in various contexts during the period, it seems fitting that 'status' dominates the center of the page, just as his need for status is driven by his ego, a core tendency of his personality. While COVID, which truly started to become a problem after lockdown began in mid-March, only two weeks before the end of our data's range, we now know Trump knew and hid critical, lifesaving information about the potential dangers of COVID for months before March. As well, we see that 'Democrat' is much larger than the word, 'American'. These two interesting size comparisons are a poignant reminder that if Trump prioritized the American people over his divise attacks over the Democrats, and warned them of the danger of COVID versus attempting to protect his status, perhaps we wouldn't be submitting this project virtually, and the World would look a little more normal.\n",
        "\n",
        "However, aside from political conclusions, investors can use this word list to their advantage. While his catch phrases do see to change regularly, topics like attacking Democrats, Fake News, and others displayed above have been used throughout his Presidency. Because these words are most common, investors could look out for these words as potential situations on which to trade on, or could use the performance of the market after past Tweets with these words as context to add confidence to their decision of whether or not to invest after a given Tweet."
      ]
    },
    {
      "cell_type": "markdown",
      "metadata": {
        "id": "OXbe4Y3nUjtu"
      },
      "source": [
        "### 3.3. Model Construction\n"
      ]
    },
    {
      "cell_type": "code",
      "metadata": {
        "id": "ir4IXMt__4iB"
      },
      "source": [
        "def onewayANOVA(df, V1, V2):\r\n",
        "    \r\n",
        "    fst_df = 1\r\n",
        "    snd_df = len(V1)-1\r\n",
        "    \r\n",
        "    f_results = stats.f_oneway(df[V1], df[V2])\r\n",
        "\r\n",
        "    f_stat = format(f_results[0],\".02f\") #pulls/formats f stat from one way\r\n",
        "    p_val = format(f_results[1], \".04f\") #pulls/formats p val from one way\r\n",
        "    \r\n",
        "    print(\"F(%s,%s) = %s, p = %s\" % (fst_df, snd_df, f_stat, p_val)) #ftest report\r\n",
        "    descriptives = df[V1].agg([\"mean\", \"sem\"])\r\n",
        "    print(V1, \"mean:\", round(descriptives[0],100), \"\\nMSE:\", round(descriptives[1],4))\r\n",
        "    descriptives = df[V2].agg([\"mean\", \"sem\"])\r\n",
        "    print(V1, \"mean:\", round(descriptives[0],100), \"\\nMSE:\", round(descriptives[1],4))\r\n"
      ],
      "execution_count": null,
      "outputs": []
    },
    {
      "cell_type": "code",
      "metadata": {
        "colab": {
          "base_uri": "https://localhost:8080/"
        },
        "id": "TlBPQhNl_4T4",
        "outputId": "2c6dbc55-7176-4a37-b16e-ef1a237bc487"
      },
      "source": [
        "onewayANOVA(final_df, \"Polarity\", \"%Change\")"
      ],
      "execution_count": null,
      "outputs": [
        {
          "output_type": "stream",
          "text": [
            "F(1,7) = 54.66, p = 0.0000\n",
            "Polarity mean: 0.1448002574706891 \n",
            "MSE: 0.018\n",
            "Polarity mean: -2.727127772536351e-05 \n",
            "MSE: 0.0076\n"
          ],
          "name": "stdout"
        }
      ]
    },
    {
      "cell_type": "code",
      "metadata": {
        "id": "aD7TRz4DcYnN"
      },
      "source": [
        "def features_and_target(df, target_name): # This splits a dataframe up into a features df and a target df\r\n",
        "    features = df.drop(columns=['%Change',\"Date_time\", \"Date\", \"Time\"])\r\n",
        "    target = df[target_name]\r\n",
        "    \r\n",
        "    return (features, target)"
      ],
      "execution_count": null,
      "outputs": []
    },
    {
      "cell_type": "code",
      "metadata": {
        "id": "OHWyhFtFZ3l4"
      },
      "source": [
        "def split_the_dataset(x, y):\r\n",
        "    X_train, X_test, y_train, y_test = train_test_split(x, y, random_state=3000)\r\n",
        "    return X_train, X_test, y_train, y_test"
      ],
      "execution_count": null,
      "outputs": []
    },
    {
      "cell_type": "code",
      "metadata": {
        "id": "uBH3rQPfu0vY"
      },
      "source": [
        "features, target = features_and_target(final_df,  '%Change')"
      ],
      "execution_count": null,
      "outputs": []
    },
    {
      "cell_type": "code",
      "metadata": {
        "colab": {
          "base_uri": "https://localhost:8080/",
          "height": 490
        },
        "id": "YcpEFWN4vf25",
        "outputId": "1616d91a-2ff8-4349-9e7a-af5fa5e35294"
      },
      "source": [
        "features"
      ],
      "execution_count": null,
      "outputs": [
        {
          "output_type": "execute_result",
          "data": {
            "text/html": [
              "<div>\n",
              "<style scoped>\n",
              "    .dataframe tbody tr th:only-of-type {\n",
              "        vertical-align: middle;\n",
              "    }\n",
              "\n",
              "    .dataframe tbody tr th {\n",
              "        vertical-align: top;\n",
              "    }\n",
              "\n",
              "    .dataframe thead th {\n",
              "        text-align: right;\n",
              "    }\n",
              "</style>\n",
              "<table border=\"1\" class=\"dataframe\">\n",
              "  <thead>\n",
              "    <tr style=\"text-align: right;\">\n",
              "      <th></th>\n",
              "      <th>Open</th>\n",
              "      <th>Polarity</th>\n",
              "      <th>Subjectivity</th>\n",
              "      <th>Hatespeech Severity</th>\n",
              "      <th>Length of Tweet</th>\n",
              "      <th>stock</th>\n",
              "      <th>market</th>\n",
              "      <th>stock market</th>\n",
              "      <th>stocks</th>\n",
              "      <th>stock marketscovid-19</th>\n",
              "      <th>covid</th>\n",
              "      <th>coronavirus</th>\n",
              "      <th>all time high</th>\n",
              "      <th>new all time high</th>\n",
              "      <th>china</th>\n",
              "      <th>usa</th>\n",
              "      <th>oil</th>\n",
              "      <th>iran</th>\n",
              "      <th>russia</th>\n",
              "      <th>microsoft</th>\n",
              "      <th>apple</th>\n",
              "      <th>google</th>\n",
              "      <th>amazon</th>\n",
              "      <th>trade</th>\n",
              "      <th>trade deal</th>\n",
              "      <th>make america great again</th>\n",
              "    </tr>\n",
              "  </thead>\n",
              "  <tbody>\n",
              "    <tr>\n",
              "      <th>0</th>\n",
              "      <td>28631.2</td>\n",
              "      <td>0.096591</td>\n",
              "      <td>0.201136</td>\n",
              "      <td>1</td>\n",
              "      <td>274</td>\n",
              "      <td>0</td>\n",
              "      <td>0</td>\n",
              "      <td>0</td>\n",
              "      <td>0</td>\n",
              "      <td>0</td>\n",
              "      <td>0</td>\n",
              "      <td>0</td>\n",
              "      <td>0</td>\n",
              "      <td>0</td>\n",
              "      <td>0</td>\n",
              "      <td>0</td>\n",
              "      <td>0</td>\n",
              "      <td>0</td>\n",
              "      <td>0</td>\n",
              "      <td>0</td>\n",
              "      <td>0</td>\n",
              "      <td>0</td>\n",
              "      <td>0</td>\n",
              "      <td>0</td>\n",
              "      <td>0</td>\n",
              "      <td>0</td>\n",
              "    </tr>\n",
              "    <tr>\n",
              "      <th>1</th>\n",
              "      <td>28631.2</td>\n",
              "      <td>0.050000</td>\n",
              "      <td>0.300000</td>\n",
              "      <td>0</td>\n",
              "      <td>280</td>\n",
              "      <td>0</td>\n",
              "      <td>0</td>\n",
              "      <td>0</td>\n",
              "      <td>0</td>\n",
              "      <td>0</td>\n",
              "      <td>0</td>\n",
              "      <td>0</td>\n",
              "      <td>0</td>\n",
              "      <td>0</td>\n",
              "      <td>0</td>\n",
              "      <td>0</td>\n",
              "      <td>0</td>\n",
              "      <td>0</td>\n",
              "      <td>0</td>\n",
              "      <td>0</td>\n",
              "      <td>0</td>\n",
              "      <td>0</td>\n",
              "      <td>0</td>\n",
              "      <td>0</td>\n",
              "      <td>0</td>\n",
              "      <td>0</td>\n",
              "    </tr>\n",
              "    <tr>\n",
              "      <th>2</th>\n",
              "      <td>28631.2</td>\n",
              "      <td>-0.066667</td>\n",
              "      <td>0.088889</td>\n",
              "      <td>0</td>\n",
              "      <td>276</td>\n",
              "      <td>0</td>\n",
              "      <td>0</td>\n",
              "      <td>0</td>\n",
              "      <td>0</td>\n",
              "      <td>0</td>\n",
              "      <td>0</td>\n",
              "      <td>0</td>\n",
              "      <td>0</td>\n",
              "      <td>0</td>\n",
              "      <td>0</td>\n",
              "      <td>0</td>\n",
              "      <td>0</td>\n",
              "      <td>0</td>\n",
              "      <td>0</td>\n",
              "      <td>0</td>\n",
              "      <td>0</td>\n",
              "      <td>0</td>\n",
              "      <td>0</td>\n",
              "      <td>0</td>\n",
              "      <td>0</td>\n",
              "      <td>0</td>\n",
              "    </tr>\n",
              "    <tr>\n",
              "      <th>3</th>\n",
              "      <td>28547.9</td>\n",
              "      <td>0.000000</td>\n",
              "      <td>0.000000</td>\n",
              "      <td>1</td>\n",
              "      <td>26</td>\n",
              "      <td>0</td>\n",
              "      <td>0</td>\n",
              "      <td>0</td>\n",
              "      <td>0</td>\n",
              "      <td>0</td>\n",
              "      <td>0</td>\n",
              "      <td>0</td>\n",
              "      <td>0</td>\n",
              "      <td>0</td>\n",
              "      <td>0</td>\n",
              "      <td>0</td>\n",
              "      <td>0</td>\n",
              "      <td>0</td>\n",
              "      <td>0</td>\n",
              "      <td>0</td>\n",
              "      <td>0</td>\n",
              "      <td>0</td>\n",
              "      <td>0</td>\n",
              "      <td>0</td>\n",
              "      <td>0</td>\n",
              "      <td>0</td>\n",
              "    </tr>\n",
              "    <tr>\n",
              "      <th>4</th>\n",
              "      <td>28547.9</td>\n",
              "      <td>0.000000</td>\n",
              "      <td>0.000000</td>\n",
              "      <td>1</td>\n",
              "      <td>26</td>\n",
              "      <td>0</td>\n",
              "      <td>0</td>\n",
              "      <td>0</td>\n",
              "      <td>0</td>\n",
              "      <td>0</td>\n",
              "      <td>0</td>\n",
              "      <td>0</td>\n",
              "      <td>0</td>\n",
              "      <td>0</td>\n",
              "      <td>0</td>\n",
              "      <td>0</td>\n",
              "      <td>0</td>\n",
              "      <td>0</td>\n",
              "      <td>0</td>\n",
              "      <td>0</td>\n",
              "      <td>0</td>\n",
              "      <td>0</td>\n",
              "      <td>0</td>\n",
              "      <td>0</td>\n",
              "      <td>0</td>\n",
              "      <td>0</td>\n",
              "    </tr>\n",
              "    <tr>\n",
              "      <th>...</th>\n",
              "      <td>...</td>\n",
              "      <td>...</td>\n",
              "      <td>...</td>\n",
              "      <td>...</td>\n",
              "      <td>...</td>\n",
              "      <td>...</td>\n",
              "      <td>...</td>\n",
              "      <td>...</td>\n",
              "      <td>...</td>\n",
              "      <td>...</td>\n",
              "      <td>...</td>\n",
              "      <td>...</td>\n",
              "      <td>...</td>\n",
              "      <td>...</td>\n",
              "      <td>...</td>\n",
              "      <td>...</td>\n",
              "      <td>...</td>\n",
              "      <td>...</td>\n",
              "      <td>...</td>\n",
              "      <td>...</td>\n",
              "      <td>...</td>\n",
              "      <td>...</td>\n",
              "      <td>...</td>\n",
              "      <td>...</td>\n",
              "      <td>...</td>\n",
              "      <td>...</td>\n",
              "    </tr>\n",
              "    <tr>\n",
              "      <th>290</th>\n",
              "      <td>22180.8</td>\n",
              "      <td>0.141023</td>\n",
              "      <td>0.334091</td>\n",
              "      <td>0</td>\n",
              "      <td>275</td>\n",
              "      <td>0</td>\n",
              "      <td>0</td>\n",
              "      <td>0</td>\n",
              "      <td>0</td>\n",
              "      <td>0</td>\n",
              "      <td>0</td>\n",
              "      <td>0</td>\n",
              "      <td>0</td>\n",
              "      <td>0</td>\n",
              "      <td>0</td>\n",
              "      <td>0</td>\n",
              "      <td>0</td>\n",
              "      <td>0</td>\n",
              "      <td>0</td>\n",
              "      <td>0</td>\n",
              "      <td>0</td>\n",
              "      <td>0</td>\n",
              "      <td>0</td>\n",
              "      <td>0</td>\n",
              "      <td>0</td>\n",
              "      <td>0</td>\n",
              "    </tr>\n",
              "    <tr>\n",
              "      <th>291</th>\n",
              "      <td>21910.2</td>\n",
              "      <td>0.000000</td>\n",
              "      <td>0.050000</td>\n",
              "      <td>1</td>\n",
              "      <td>70</td>\n",
              "      <td>0</td>\n",
              "      <td>0</td>\n",
              "      <td>0</td>\n",
              "      <td>0</td>\n",
              "      <td>0</td>\n",
              "      <td>0</td>\n",
              "      <td>0</td>\n",
              "      <td>0</td>\n",
              "      <td>0</td>\n",
              "      <td>0</td>\n",
              "      <td>0</td>\n",
              "      <td>0</td>\n",
              "      <td>0</td>\n",
              "      <td>0</td>\n",
              "      <td>0</td>\n",
              "      <td>0</td>\n",
              "      <td>0</td>\n",
              "      <td>0</td>\n",
              "      <td>0</td>\n",
              "      <td>0</td>\n",
              "      <td>0</td>\n",
              "    </tr>\n",
              "    <tr>\n",
              "      <th>292</th>\n",
              "      <td>21888.3</td>\n",
              "      <td>0.800000</td>\n",
              "      <td>0.750000</td>\n",
              "      <td>0</td>\n",
              "      <td>94</td>\n",
              "      <td>0</td>\n",
              "      <td>0</td>\n",
              "      <td>0</td>\n",
              "      <td>0</td>\n",
              "      <td>0</td>\n",
              "      <td>0</td>\n",
              "      <td>0</td>\n",
              "      <td>0</td>\n",
              "      <td>0</td>\n",
              "      <td>0</td>\n",
              "      <td>0</td>\n",
              "      <td>0</td>\n",
              "      <td>0</td>\n",
              "      <td>0</td>\n",
              "      <td>0</td>\n",
              "      <td>0</td>\n",
              "      <td>0</td>\n",
              "      <td>0</td>\n",
              "      <td>0</td>\n",
              "      <td>0</td>\n",
              "      <td>0</td>\n",
              "    </tr>\n",
              "    <tr>\n",
              "      <th>293</th>\n",
              "      <td>21339.4</td>\n",
              "      <td>0.216000</td>\n",
              "      <td>0.410667</td>\n",
              "      <td>0</td>\n",
              "      <td>237</td>\n",
              "      <td>0</td>\n",
              "      <td>0</td>\n",
              "      <td>0</td>\n",
              "      <td>0</td>\n",
              "      <td>0</td>\n",
              "      <td>0</td>\n",
              "      <td>0</td>\n",
              "      <td>0</td>\n",
              "      <td>0</td>\n",
              "      <td>0</td>\n",
              "      <td>0</td>\n",
              "      <td>0</td>\n",
              "      <td>0</td>\n",
              "      <td>0</td>\n",
              "      <td>0</td>\n",
              "      <td>0</td>\n",
              "      <td>0</td>\n",
              "      <td>0</td>\n",
              "      <td>0</td>\n",
              "      <td>0</td>\n",
              "      <td>0</td>\n",
              "    </tr>\n",
              "    <tr>\n",
              "      <th>294</th>\n",
              "      <td>21162.2</td>\n",
              "      <td>-0.325000</td>\n",
              "      <td>0.650000</td>\n",
              "      <td>0</td>\n",
              "      <td>173</td>\n",
              "      <td>0</td>\n",
              "      <td>0</td>\n",
              "      <td>0</td>\n",
              "      <td>0</td>\n",
              "      <td>0</td>\n",
              "      <td>0</td>\n",
              "      <td>0</td>\n",
              "      <td>0</td>\n",
              "      <td>0</td>\n",
              "      <td>0</td>\n",
              "      <td>0</td>\n",
              "      <td>0</td>\n",
              "      <td>1</td>\n",
              "      <td>0</td>\n",
              "      <td>0</td>\n",
              "      <td>0</td>\n",
              "      <td>0</td>\n",
              "      <td>0</td>\n",
              "      <td>0</td>\n",
              "      <td>0</td>\n",
              "      <td>0</td>\n",
              "    </tr>\n",
              "  </tbody>\n",
              "</table>\n",
              "<p>295 rows × 26 columns</p>\n",
              "</div>"
            ],
            "text/plain": [
              "        Open  Polarity  ...  trade deal  make america great again\n",
              "0    28631.2  0.096591  ...           0                         0\n",
              "1    28631.2  0.050000  ...           0                         0\n",
              "2    28631.2 -0.066667  ...           0                         0\n",
              "3    28547.9  0.000000  ...           0                         0\n",
              "4    28547.9  0.000000  ...           0                         0\n",
              "..       ...       ...  ...         ...                       ...\n",
              "290  22180.8  0.141023  ...           0                         0\n",
              "291  21910.2  0.000000  ...           0                         0\n",
              "292  21888.3  0.800000  ...           0                         0\n",
              "293  21339.4  0.216000  ...           0                         0\n",
              "294  21162.2 -0.325000  ...           0                         0\n",
              "\n",
              "[295 rows x 26 columns]"
            ]
          },
          "metadata": {
            "tags": []
          },
          "execution_count": 50
        }
      ]
    },
    {
      "cell_type": "code",
      "metadata": {
        "colab": {
          "base_uri": "https://localhost:8080/"
        },
        "id": "PVpBxrjovjW4",
        "outputId": "063ce8a2-42ca-4e6d-ee49-731aef4f1910"
      },
      "source": [
        "target"
      ],
      "execution_count": null,
      "outputs": [
        {
          "output_type": "execute_result",
          "data": {
            "text/plain": [
              "0      0.039118\n",
              "1      0.039118\n",
              "2      0.039118\n",
              "3      0.010509\n",
              "4      0.010509\n",
              "         ...   \n",
              "290   -0.029305\n",
              "291    0.121861\n",
              "292    0.180919\n",
              "293   -0.267112\n",
              "294   -0.029298\n",
              "Name: %Change, Length: 295, dtype: float64"
            ]
          },
          "metadata": {
            "tags": []
          },
          "execution_count": 51
        }
      ]
    },
    {
      "cell_type": "code",
      "metadata": {
        "id": "tfrDwhcscO6y"
      },
      "source": [
        "X_train, X_test, y_train, y_test = split_the_dataset(features, target)"
      ],
      "execution_count": null,
      "outputs": []
    },
    {
      "cell_type": "code",
      "metadata": {
        "id": "dGIc1djMcxKp"
      },
      "source": [
        "estimators = {\"LinearRegression\" : LinearRegression(),\r\n",
        "              \"Ridge\" : Ridge(),\r\n",
        "              \"Lasso\" : Lasso(),\r\n",
        "              \"k-Nearest Neighbor\" : KNeighborsRegressor(),\r\n",
        "              \"Support Vector Machine\" : LinearSVR(max_iter=1000000, random_state=3000),\r\n",
        "              }\r\n",
        "params = {\"LinearRegression\" : {\"normalize\" : [True, False], \"fit_intercept\" : [True, False]}, \r\n",
        "          \"Ridge\" : {\"fit_intercept\" : [True, False], \"normalize\" : [True,False], \"alpha\": [1.0, 1.5, 2.0, 5.0, 10.0], },\r\n",
        "          \"Lasso\" : {\"fit_intercept\" : [True, False], \"normalize\" : [True,False], \"alpha\": [1.0, 1.5, 2.0, 5.0, 10.0]},\r\n",
        "          \"k-Nearest Neighbor\" :  {\"n_neighbors\": [1,5,10],\"metric\": [\"euclidean\", \"manhattan\", \"minkowski\"]},\r\n",
        "          \"Support Vector Machine\" : {}}"
      ],
      "execution_count": null,
      "outputs": []
    },
    {
      "cell_type": "code",
      "metadata": {
        "id": "hqyzJVfjBo66"
      },
      "source": [
        "def preprocessed_regression():\r\n",
        "    scaler = MinMaxScaler()\r\n",
        "     \r\n",
        "    scaler.fit(X_train) \r\n",
        "\r\n",
        "    X_train_scaled = scaler.transform(X_train) \r\n",
        "    X_test_scaled = scaler.transform(X_test) \r\n",
        "    \r\n",
        "    return X_train_scaled, X_test_scaled"
      ],
      "execution_count": null,
      "outputs": []
    },
    {
      "cell_type": "code",
      "metadata": {
        "id": "m267_E9EBqLE"
      },
      "source": [
        "X_train_scaled, X_test_scaled = preprocessed_regression()"
      ],
      "execution_count": null,
      "outputs": []
    },
    {
      "cell_type": "code",
      "metadata": {
        "id": "kco-_zBiCjpX"
      },
      "source": [
        "X_train_val, X_test_val, y_train_val, y_test_val = split_the_dataset(X_train, y_train)"
      ],
      "execution_count": null,
      "outputs": []
    },
    {
      "cell_type": "code",
      "metadata": {
        "id": "ei8O6Ub-czWJ"
      },
      "source": [
        "def regressors_percentage_split():\r\n",
        "    print(\"Results Unscaled\\n\")\r\n",
        "    for name, func in estimators.items():\r\n",
        "      grid = GridSearchCV(estimator= func, param_grid= params[name] )\r\n",
        "      grid.fit(X=X_train, y=y_train)\r\n",
        "\r\n",
        "      MSE_train = mean_squared_error(y_train, grid.predict(X_train))\r\n",
        "      MSE_test = mean_squared_error(y_test, grid.predict(X_test))\r\n",
        "\r\n",
        "      print(name,\":\")\r\n",
        "      print('\\tR-squared value for training set: ', grid.score(X_train, y_train))\r\n",
        "      print('\\tR-squared value for testing set: ', grid.score(X_test,y_test))\r\n",
        "      print(\"\\tMSE value for training set: \", round(MSE_train,4))\r\n",
        "      print(\"\\tMSE value for testing set: \", round(MSE_test,4))"
      ],
      "execution_count": null,
      "outputs": []
    },
    {
      "cell_type": "code",
      "metadata": {
        "id": "6uCXyhILB-l5"
      },
      "source": [
        "def regressors_percentage_split_scaled():\r\n",
        "    print(\"Results Scaled\\n\")\r\n",
        "    for name, func in estimators.items():\r\n",
        "      grid = GridSearchCV(estimator= func, param_grid= params[name] )\r\n",
        "      grid.fit(X=X_train_scaled, y=y_train)\r\n",
        "\r\n",
        "      MSE_train = mean_squared_error(y_train, grid.predict(X_train_scaled))\r\n",
        "      MSE_test = mean_squared_error(y_test, grid.predict(X_test_scaled))\r\n",
        "\r\n",
        "      print(name,\":\")\r\n",
        "      print('\\tR-squared value for training set: ', grid.score(X_train_scaled, y_train))\r\n",
        "      print('\\tR-squared value for testing set: ', grid.score(X_test_scaled,y_test))\r\n",
        "      print(\"\\tMSE value for training set: \", round(MSE_train,4))\r\n",
        "      print(\"\\tMSE value for testing set: \", round(MSE_test,4))"
      ],
      "execution_count": null,
      "outputs": []
    },
    {
      "cell_type": "code",
      "metadata": {
        "id": "tyIKNTViCA6x"
      },
      "source": [
        "def regressors_percentage_split_val():\r\n",
        "    print(\"Results for Validated Scores\\n\")\r\n",
        "    for name, func in estimators.items():\r\n",
        "      grid = GridSearchCV(estimator= func, param_grid= params[name] )\r\n",
        "      grid.fit(X=X_train_scaled, y=y_train)\r\n",
        "\r\n",
        "      MSE_train = mean_squared_error(y_train_val, grid.predict(X_train_val))\r\n",
        "      MSE_test = mean_squared_error(y_test_val, grid.predict(X_test_val))\r\n",
        "\r\n",
        "      print(name,\":\")\r\n",
        "      print('\\tR-squared value for training set: ', grid.score(X_train_val, y_train_val))\r\n",
        "      print('\\tR-squared value for testing set: ', grid.score(X_test_val,y_test_val))\r\n",
        "      print(\"\\tMSE value for training set: \", round(MSE_train,4))\r\n",
        "      print(\"\\tMSE value for testing set: \", round(MSE_test,4))"
      ],
      "execution_count": null,
      "outputs": []
    },
    {
      "cell_type": "code",
      "metadata": {
        "id": "BwEc7ng_0R4I",
        "colab": {
          "base_uri": "https://localhost:8080/"
        },
        "outputId": "3c207502-67aa-4cf6-8e57-2887f12fd7b2"
      },
      "source": [
        "regressors_percentage_split()"
      ],
      "execution_count": null,
      "outputs": [
        {
          "output_type": "stream",
          "text": [
            "Results Unscaled\n",
            "\n",
            "LinearRegression :\n",
            "\tR-squared value for training set:  0.0414879786995046\n",
            "\tR-squared value for testing set:  -0.03601333941577911\n",
            "\tMSE value for training set:  0.0154\n",
            "\tMSE value for testing set:  0.021\n",
            "Ridge :\n",
            "\tR-squared value for training set:  0.00690650091324585\n",
            "\tR-squared value for testing set:  -0.000496994625741598\n",
            "\tMSE value for training set:  0.016\n",
            "\tMSE value for testing set:  0.0203\n",
            "Lasso :\n",
            "\tR-squared value for training set:  5.3285772250943886e-05\n",
            "\tR-squared value for testing set:  -0.000133431049075039\n",
            "\tMSE value for training set:  0.0161\n",
            "\tMSE value for testing set:  0.0203\n",
            "k-Nearest Neighbor :\n",
            "\tR-squared value for training set:  0.18777644916569095\n",
            "\tR-squared value for testing set:  0.11115731305572851\n",
            "\tMSE value for training set:  0.0131\n",
            "\tMSE value for testing set:  0.018\n"
          ],
          "name": "stdout"
        },
        {
          "output_type": "stream",
          "text": [
            "/usr/local/lib/python3.6/dist-packages/sklearn/svm/_base.py:947: ConvergenceWarning:\n",
            "\n",
            "Liblinear failed to converge, increase the number of iterations.\n",
            "\n",
            "/usr/local/lib/python3.6/dist-packages/sklearn/svm/_base.py:947: ConvergenceWarning:\n",
            "\n",
            "Liblinear failed to converge, increase the number of iterations.\n",
            "\n",
            "/usr/local/lib/python3.6/dist-packages/sklearn/svm/_base.py:947: ConvergenceWarning:\n",
            "\n",
            "Liblinear failed to converge, increase the number of iterations.\n",
            "\n",
            "/usr/local/lib/python3.6/dist-packages/sklearn/svm/_base.py:947: ConvergenceWarning:\n",
            "\n",
            "Liblinear failed to converge, increase the number of iterations.\n",
            "\n",
            "/usr/local/lib/python3.6/dist-packages/sklearn/svm/_base.py:947: ConvergenceWarning:\n",
            "\n",
            "Liblinear failed to converge, increase the number of iterations.\n",
            "\n"
          ],
          "name": "stderr"
        },
        {
          "output_type": "stream",
          "text": [
            "Support Vector Machine :\n",
            "\tR-squared value for training set:  0.0017448385063876248\n",
            "\tR-squared value for testing set:  -0.00540962618876617\n",
            "\tMSE value for training set:  0.0161\n",
            "\tMSE value for testing set:  0.0204\n"
          ],
          "name": "stdout"
        },
        {
          "output_type": "stream",
          "text": [
            "/usr/local/lib/python3.6/dist-packages/sklearn/svm/_base.py:947: ConvergenceWarning:\n",
            "\n",
            "Liblinear failed to converge, increase the number of iterations.\n",
            "\n"
          ],
          "name": "stderr"
        }
      ]
    },
    {
      "cell_type": "code",
      "metadata": {
        "colab": {
          "base_uri": "https://localhost:8080/"
        },
        "id": "VrVpwBFDCFX7",
        "outputId": "055661db-4bad-4328-8816-56da444dcb4c"
      },
      "source": [
        "regressors_percentage_split_scaled()"
      ],
      "execution_count": null,
      "outputs": [
        {
          "output_type": "stream",
          "text": [
            "Results Scaled\n",
            "\n",
            "LinearRegression :\n",
            "\tR-squared value for training set:  0.043062215382878466\n",
            "\tR-squared value for testing set:  -0.04711212952490662\n",
            "\tMSE value for training set:  0.0154\n",
            "\tMSE value for testing set:  0.0212\n",
            "Ridge :\n",
            "\tR-squared value for training set:  0.00690650091324585\n",
            "\tR-squared value for testing set:  -0.000496994625741598\n",
            "\tMSE value for training set:  0.016\n",
            "\tMSE value for testing set:  0.0203\n",
            "Lasso :\n",
            "\tR-squared value for training set:  -6.328850596482027e-06\n",
            "\tR-squared value for testing set:  -5.563026238464275e-05\n",
            "\tMSE value for training set:  0.0161\n",
            "\tMSE value for testing set:  0.0203\n",
            "k-Nearest Neighbor :\n",
            "\tR-squared value for training set:  0.07825671932305045\n",
            "\tR-squared value for testing set:  -0.0068121663332196825\n",
            "\tMSE value for training set:  0.0148\n",
            "\tMSE value for testing set:  0.0204\n",
            "Support Vector Machine :\n",
            "\tR-squared value for training set:  0.022586359315930674\n",
            "\tR-squared value for testing set:  -0.01785341293344289\n",
            "\tMSE value for training set:  0.0157\n",
            "\tMSE value for testing set:  0.0206\n"
          ],
          "name": "stdout"
        }
      ]
    },
    {
      "cell_type": "code",
      "metadata": {
        "colab": {
          "base_uri": "https://localhost:8080/"
        },
        "id": "hi09XUzbCIOx",
        "outputId": "552fbf3c-c23d-40e6-df28-5b4db590f9d6"
      },
      "source": [
        "regressors_percentage_split_val()"
      ],
      "execution_count": null,
      "outputs": [
        {
          "output_type": "stream",
          "text": [
            "Results for Validated Scores\n",
            "\n",
            "LinearRegression :\n",
            "\tR-squared value for training set:  -19503634.966269895\n",
            "\tR-squared value for testing set:  -36249078.13505833\n",
            "\tMSE value for training set:  346330.3547\n",
            "\tMSE value for testing set:  355257.2764\n",
            "Ridge :\n",
            "\tR-squared value for training set:  -136359.06446712383\n",
            "\tR-squared value for testing set:  -253750.14915652332\n",
            "\tMSE value for training set:  2421.3757\n",
            "\tMSE value for testing set:  2486.8754\n",
            "Lasso :\n",
            "\tR-squared value for training set:  -0.007275499585684075\n",
            "\tR-squared value for testing set:  -0.10599378290801886\n",
            "\tMSE value for training set:  0.0179\n",
            "\tMSE value for testing set:  0.0108\n",
            "k-Nearest Neighbor :\n",
            "\tR-squared value for training set:  -0.015448971657824107\n",
            "\tR-squared value for testing set:  -0.06989629960047172\n",
            "\tMSE value for training set:  0.018\n",
            "\tMSE value for testing set:  0.0105\n",
            "Support Vector Machine :\n",
            "\tR-squared value for training set:  -44739138.78999832\n",
            "\tR-squared value for testing set:  -83183161.29210189\n",
            "\tMSE value for training set:  794442.7479\n",
            "\tMSE value for testing set:  815232.3972\n"
          ],
          "name": "stdout"
        }
      ]
    },
    {
      "cell_type": "markdown",
      "metadata": {
        "id": "n_PiSPhrUjtu"
      },
      "source": [
        "### 3.4. Model Evaluation\n",
        "\n",
        "Unfortunately, the model was not able to accurately predict the percent change of the validation set. This is due in part to the limited amount of data that we were able to collect, as well as the existance of various extranious variables that we were not able to eliminate. The Lasso and K-Nearest Neighbors models performed the best, with the others having wildly low R-sqaured values, although even these were not able to show any semblance of correlation. The MSE's for these two models were quite low however, which simply supports the assumption that they were the best models to use, and, given more data, could lead to more concrete conclusions. Since the R-scores were low we assume that some level of underfitting was present in the models. This could easily be due to short time span which the data we were able to obtain covered. This issue plagued us throughout the project and was most likely a major cause of our inacurrate predictions."
      ]
    },
    {
      "cell_type": "markdown",
      "metadata": {
        "id": "hq1mQuEiUjtu"
      },
      "source": [
        "### 3.5. Model Optimization\n",
        "\n",
        "We utilized the GridSearchCV tool to tune our models, which helped us greatly in eliminating further instances of overfitting or underfitting. We found this tool to be extremely helpful as it took most of the heavy lifting of testing different models out of our hands."
      ]
    },
    {
      "cell_type": "markdown",
      "metadata": {
        "id": "Q5ittoRhUjtv"
      },
      "source": [
        "### 3.6. Model Testing\n",
        "\n",
        "We performed this in the Model Construction section to promote easier visualization for the user/reader."
      ]
    },
    {
      "cell_type": "markdown",
      "metadata": {
        "id": "cIlXg24FUjtv"
      },
      "source": [
        "<a id=\"4\"></a>\n",
        "<hr style=\"height:2px; border:none; color:black; background-color:black;\">"
      ]
    },
    {
      "cell_type": "markdown",
      "metadata": {
        "id": "5300o_bAUjtv"
      },
      "source": [
        "## 4. DISCUSSION\n",
        "\n",
        "We compared the Linear Regression, Ridge, Lasso, K-Nearest Neighbors, and Support Vector Machine algorith models for this project. We found the highest correlation and best performance from the K-Nearest Neighbors and Lasso regressions, with the other three having wildly innacurate predictions. Even still, the results from our two best algorithms were well short of predicting the target with any sort of accuracy and thus we were unable to disprove either our first second or third null hypothosis. This is due mostly to the lack of available data for the question we were trying to solve, and we believe that with a longer time span and more data that these two algorithms, K-Nearest Neighbors and Lasso would be the best models for predictions.\n",
        "\n",
        "\n",
        "----------\n",
        "\n",
        "Interpretation of Hypothesis:\n",
        "\n",
        "For our first hypothesis (is there a correlation between Trump Tweets and stock market movements) we were unable to disprove the null. To find this we looked at the Number of Trump Tweets per Day bar chart vs the DJIA Open and Close chart and found that there is no visible correlation between the number of Trump tweets per day and the open and close of the market that day. \n",
        "\n",
        "For our second hypothesis (is there a correlation between polarity of Trump's Tweets and stock market movements) we found that the P-value was not enough to disprove the null either. This is most likely due again to the lack of data we were able to obtain.\n",
        "\n",
        "For our third hypothesis (can we predict stock market movements based on Trump's Tweets) we were also unable to disprove the null. The algorithms that we implimented suffered because of the small training and testing sets and thus our results were skewed.\n",
        "\n",
        "------------\n",
        "\n",
        "Final Conclusion:\n",
        "\n",
        "We strongly believe, regardless of our results, that Trump's Tweets have had some noticable impact on the performance of the stock market and could be used as a usefull to predict future changes. The limitations of this project were the evident lack of data that we were able to obtain, having stock market data from only the first quarter of 2020, and the likely presence of extrainious variables that helped to skew our results. The stock market is a notoriously hard thing to predict and can be influenced by a wide range of factors, so limiting the exitance of these factors in a prediction model is a critical part of achieving accurate results. We also would recomend finding more features from which to test on. The issue with Trump's Tweet's is that the content is wildly varied as he bounces between many different topics. Thus the use of ngrams or features pertaining to particular words can easily lead to overfitting, which was a problem we encountered earlier on in development. Thus it is important to find more features to help define the content. \n",
        "\n"
      ]
    },
    {
      "cell_type": "markdown",
      "metadata": {
        "id": "Abq5pv6WUjtw"
      },
      "source": [
        "### CONTRIBUTIONS\n"
      ]
    },
    {
      "cell_type": "markdown",
      "metadata": {
        "id": "lV5vzxM14N1E"
      },
      "source": [
        "Cleaning Data:\n",
        "Both of us worked on cleaning the data. Brian worked on our data acquisition. He pulled stock market data from Bloomberg and also analyzed other financial data websites. Additonally, he used Kaggle and other dataset sites to find and attain our Trump dataset. Brian worked on creating our combo_df which combined and matched Trump Tweets to the corresponding market movement 1 minute later. \n",
        "Alex made the final_df which added additional ML training features like polarity, hate speech precense, and subjectivity, amongst other to our combo_df. He wrote functions to create these features and add them to combo_df in final_df.\n",
        "\n",
        "Visualization:\n",
        "Brian focused mainly on our visualizations. Both of us discussed various ideas for the best ways the visualize our data. Brian actually wrote the majority of the code that created these graphics, and also wrote most of the intepretation. Given his finance and investing background, he was added to add context and insight on top of what was represented in the visualization. As well, he edited and tinkered with the graphics for things like font, color, scaling and labeling of axes, etc.\n",
        "\n",
        "Machine Learning and Testing:\n",
        "Alex focused mainly on the ML portion of our project. Together we contemplated and researched the best potential algorithms and methods/approaches to take, with Alex spearheading the effort. Alex wrote the majority of the functions that prepared our data to be trained, and implemented the functions that actually trained, tested, fit, and tuned our model.\n",
        "\n",
        "For all other sections of the project we divided the work evenly, and/or coded together."
      ]
    }
  ]
}